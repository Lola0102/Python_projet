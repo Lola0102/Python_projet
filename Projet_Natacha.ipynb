{
 "cells": [
  {
   "cell_type": "markdown",
   "id": "0be8264a",
   "metadata": {},
   "source": [
    "# Projet d'apprentissage Supervisé : Natacha Babalola"
   ]
  },
  {
   "cell_type": "markdown",
   "id": "84f4a7c2",
   "metadata": {},
   "source": [
    "# Sommaire\n",
    "\n",
    "- [1. Chargement des fichiers](#section-1)\n",
    "- [2. Analyse Descriptive](#section-2)\n",
    "- [3. Fusion des données](#section-3)\n",
    "- [4. Exploration des données](#section-4)\n",
    "- [5. Sélection des algorithmes d'apprentissage supervisé](#section-5)\n",
    "- [7. Approche complexe ](#section-6)\n",
    "- [8. Prédiction avec le modèle final sur l'ensemble de Test](#section-7)\n",
    "\n"
   ]
  },
  {
   "cell_type": "markdown",
   "id": "41eb126b",
   "metadata": {},
   "source": [
    "Pour ce projet, J'ai entrepris une approche supervisée en utilisant les ensembles de données fournis. J'ai d'abord effectué un prétraitement des données, comprenant l'analyse des valeurs manquantes, suivi d'une fusion pour obtenir un fichier final pour les ensembles d'entraînement et de test. Avec un total de 99 985 données, nous avons pris soin d'évaluer chaque modèle en fonction de sa pertinence et de sa capacité à absorber les variances, en tenant compte de la quantité de données.\n",
    "\n",
    "Pour exploiter au maximum nos données, j'ai procédé à un encodage afin d'utiliser la quasi-totalité des colonnes pour l'entraînement du modèle. Nous avons exploré plusieurs modèles, notamment la régression linéaire, le Random Forest, le K-Nearest Neighbors, le Support Vector Machine, l'approche par Ridge, un ajustement via un modèle polynomiale, et enfin le GradientBoostingRegressor.\n",
    "\n",
    "Le modèle final obtenu à l'aide du GradientBoosting, avec les meilleurs hyperparamètres ajustés, a abouti à un MSE approchant 1474.40, alors que nous avons commencé avec un MSE de 20 197.93. \n",
    "\n",
    "À la fin du projet, nous pourrons exporter deux fichiers de prévisions : le premier, Prediction_merge, contiendra les résultats de chaque modèle sur l'ensemble d'entraînement, tandis que le fichier Prevision.CSV regroupera les prédictions du modèle sur l'ensemble de test.\n",
    "\n",
    "Pour les prédictions sur l'ensemble de Test, notre objectif est d'obtenir un MSE proche de celui obtenu lors de la phase d'entraînement, ainsi qu'un R2 de proche des 92% obtenu en utilisant votre modèle final de GradientBoosting sur l'ensemble de test de notre ensemble d'entraînement. Ce coefficient de dertermination signifie que votre modèle a bien performé sur ces données spécifiques. Cependant, le fait d'obtenir un R2 élevé sur l'ensemble de test de l'ensemble d'entraînement ne garantit pas nécessairement que nous obtiendrons le même R2 sur de nouvelles données.\n",
    "\n",
    "Lorsque nous appliquons notre modèle à de nouvelles données (ensemble de test final pour lequel nous n'avons pas les vraies valeurs), il est possible que la relation entre nos variables indépendantes et la variable cible soit différente. Par conséquent, il est difficile de prédire exactement quel R2 nous obtiendrons sur ces nouvelles données.\n",
    "Nous attendons à ce que notre modèle performe relativement bien sur de nouvelles données similaires à celles sur lesquelles il a été entraîné."
   ]
  },
  {
   "cell_type": "markdown",
   "id": "3c5b9ef7",
   "metadata": {},
   "source": [
    "# 1. Chargement des fichiers <a id=\"section-1\"></a>"
   ]
  },
  {
   "cell_type": "code",
   "execution_count": 1,
   "id": "855ed2e7",
   "metadata": {},
   "outputs": [
    {
     "name": "stderr",
     "output_type": "stream",
     "text": [
      "/Users/tachalola/opt/anaconda3/lib/python3.9/site-packages/seaborn/_statistics.py:31: UserWarning: A NumPy version >=1.22.4 and <2.3.0 is required for this version of SciPy (detected version 1.21.5)\n",
      "  from scipy.stats import gaussian_kde\n"
     ]
    }
   ],
   "source": [
    "#import des bibliothèques\n",
    "\n",
    "import pandas as pd\n",
    "import numpy as np\n",
    "import matplotlib.pyplot as plt\n",
    "import seaborn as sns\n",
    "from sklearn.model_selection import train_test_split\n",
    "from sklearn.linear_model import LinearRegression\n",
    "from sklearn.ensemble import RandomForestRegressor\n",
    "from sklearn.neighbors import KNeighborsRegressor\n",
    "from sklearn.svm import SVR\n",
    "from sklearn.metrics import mean_squared_error"
   ]
  },
  {
   "cell_type": "code",
   "execution_count": 2,
   "id": "1eb64000",
   "metadata": {},
   "outputs": [],
   "source": [
    "import pandas as pd\n",
    "\n",
    "# Charger les fichiers CSV\n",
    "learn_dataset = pd.read_csv(\"learn_dataset.csv\")\n",
    "test_dataset = pd.read_csv(\"test_dataset.csv\")\n",
    "learn_dataset_job = pd.read_csv(\"learn_dataset_job.csv\")\n",
    "test_dataset_job = pd.read_csv(\"test_dataset_job.csv\")\n",
    "learn_dataset_emp = pd.read_csv(\"learn_dataset_emp.csv\")\n",
    "test_dataset_emp = pd.read_csv(\"test_dataset_emp.csv\")\n",
    "learn_dataset_CLUB = pd.read_csv(\"learn_dataset_sport.csv\")\n",
    "test_dataset_CLUB = pd.read_csv(\"test_dataset_sport.csv\")\n"
   ]
  },
  {
   "cell_type": "markdown",
   "id": "4718fa11",
   "metadata": {},
   "source": [
    "# 2. Analyse Descriptive <a id=\"section-2\"></a>\n"
   ]
  },
  {
   "cell_type": "markdown",
   "id": "3df7148b",
   "metadata": {},
   "source": [
    "###  Traiter les données manquantes et les valeurs abbérantes"
   ]
  },
  {
   "cell_type": "code",
   "execution_count": 4,
   "id": "cd4a1d5a",
   "metadata": {
    "scrolled": true
   },
   "outputs": [
    {
     "name": "stdout",
     "output_type": "stream",
     "text": [
      "                Uid      age_2020        target\n",
      "count  49993.000000  49993.000000  49993.000000\n",
      "mean   50008.485868     49.692197    445.197255\n",
      "std    28820.426850     20.692217    144.556769\n",
      "min        1.000000     15.000000      1.799885\n",
      "25%    25058.000000     33.000000    340.438813\n",
      "50%    50054.000000     49.000000    428.045818\n",
      "75%    74910.000000     66.000000    539.565276\n",
      "max    99985.000000    109.000000   1094.135881\n"
     ]
    }
   ],
   "source": [
    "# Afficher un résumé des données\n",
    "summary = learn_dataset.describe()\n",
    "\n",
    "# Afficher le résumé\n",
    "print(summary)"
   ]
  },
  {
   "cell_type": "code",
   "execution_count": 5,
   "id": "8675cc6a",
   "metadata": {},
   "outputs": [
    {
     "name": "stdout",
     "output_type": "stream",
     "text": [
      "<class 'pandas.core.frame.DataFrame'>\n",
      "RangeIndex: 49993 entries, 0 to 49992\n",
      "Data columns (total 10 columns):\n",
      " #   Column           Non-Null Count  Dtype  \n",
      "---  ------           --------------  -----  \n",
      " 0   Uid              49993 non-null  int64  \n",
      " 1   Familty_type     49993 non-null  object \n",
      " 2   Highest_diploma  49993 non-null  object \n",
      " 3   insee_code       49993 non-null  object \n",
      " 4   Job_42           49993 non-null  object \n",
      " 5   ACT              49993 non-null  object \n",
      " 6   sex              49993 non-null  object \n",
      " 7   Studying         49993 non-null  bool   \n",
      " 8   age_2020         49993 non-null  int64  \n",
      " 9   target           49993 non-null  float64\n",
      "dtypes: bool(1), float64(1), int64(2), object(6)\n",
      "memory usage: 3.5+ MB\n",
      "None\n"
     ]
    }
   ],
   "source": [
    "info = learn_dataset.info()\n",
    "print(info)"
   ]
  },
  {
   "cell_type": "code",
   "execution_count": 6,
   "id": "a5546c60",
   "metadata": {
    "scrolled": true
   },
   "outputs": [
    {
     "name": "stdout",
     "output_type": "stream",
     "text": [
      "Uid                False\n",
      "Familty_type       False\n",
      "Highest_diploma    False\n",
      "insee_code         False\n",
      "Job_42             False\n",
      "ACT                False\n",
      "sex                False\n",
      "Studying           False\n",
      "age_2020           False\n",
      "target             False\n",
      "dtype: bool\n"
     ]
    }
   ],
   "source": [
    "print(learn_dataset.isnull().all())"
   ]
  },
  {
   "cell_type": "code",
   "execution_count": 7,
   "id": "da04e41a",
   "metadata": {},
   "outputs": [
    {
     "name": "stdout",
     "output_type": "stream",
     "text": [
      "Uid                  False\n",
      "WORK_CONDITION       False\n",
      "TERMS_OF_EMP         False\n",
      "working_hours        False\n",
      "JOB_DEP              False\n",
      "Eco_sect             False\n",
      "Employer_category    False\n",
      "job_category         False\n",
      "Job_desc             False\n",
      "EMOLUMENT            False\n",
      "employee_count       False\n",
      "dtype: bool\n"
     ]
    }
   ],
   "source": [
    "print(learn_dataset_job.isnull().all())"
   ]
  },
  {
   "cell_type": "code",
   "execution_count": 8,
   "id": "dbf0b390",
   "metadata": {},
   "outputs": [
    {
     "name": "stdout",
     "output_type": "stream",
     "text": [
      "Uid    False\n",
      "emp    False\n",
      "dtype: bool\n"
     ]
    }
   ],
   "source": [
    "print(learn_dataset_emp.isnull().all())"
   ]
  },
  {
   "cell_type": "code",
   "execution_count": 9,
   "id": "781392bf",
   "metadata": {},
   "outputs": [
    {
     "name": "stdout",
     "output_type": "stream",
     "text": [
      "Uid     False\n",
      "CLUB    False\n",
      "dtype: bool\n"
     ]
    }
   ],
   "source": [
    "print(learn_dataset_CLUB.isnull().all())"
   ]
  },
  {
   "cell_type": "code",
   "execution_count": null,
   "id": "790062ec",
   "metadata": {},
   "outputs": [],
   "source": []
  },
  {
   "cell_type": "code",
   "execution_count": 10,
   "id": "64496a6c",
   "metadata": {},
   "outputs": [
    {
     "name": "stdout",
     "output_type": "stream",
     "text": [
      "Uid                0\n",
      "Familty_type       0\n",
      "Highest_diploma    0\n",
      "insee_code         0\n",
      "Job_42             0\n",
      "ACT                0\n",
      "sex                0\n",
      "Studying           0\n",
      "age_2020           0\n",
      "target             0\n",
      "dtype: int64\n"
     ]
    }
   ],
   "source": [
    "print(learn_dataset.isnull().sum())"
   ]
  },
  {
   "cell_type": "code",
   "execution_count": 11,
   "id": "d08a72e6",
   "metadata": {},
   "outputs": [
    {
     "name": "stdout",
     "output_type": "stream",
     "text": [
      "Uid                   0\n",
      "WORK_CONDITION        1\n",
      "TERMS_OF_EMP          1\n",
      "working_hours         7\n",
      "JOB_DEP              16\n",
      "Eco_sect              0\n",
      "Employer_category     1\n",
      "job_category          0\n",
      "Job_desc              0\n",
      "EMOLUMENT             0\n",
      "employee_count        1\n",
      "dtype: int64\n"
     ]
    }
   ],
   "source": [
    "print(learn_dataset_job.isnull().sum())"
   ]
  },
  {
   "cell_type": "code",
   "execution_count": 12,
   "id": "af97cb09",
   "metadata": {},
   "outputs": [
    {
     "name": "stdout",
     "output_type": "stream",
     "text": [
      "Uid    0\n",
      "emp    0\n",
      "dtype: int64\n"
     ]
    }
   ],
   "source": [
    "print(learn_dataset_emp.isnull().sum())"
   ]
  },
  {
   "cell_type": "code",
   "execution_count": 13,
   "id": "95abe9ef",
   "metadata": {},
   "outputs": [
    {
     "name": "stdout",
     "output_type": "stream",
     "text": [
      "Uid     0\n",
      "CLUB    0\n",
      "dtype: int64\n"
     ]
    }
   ],
   "source": [
    "print(learn_dataset_CLUB.isnull().sum())"
   ]
  },
  {
   "cell_type": "code",
   "execution_count": 14,
   "id": "2d5ba998",
   "metadata": {},
   "outputs": [
    {
     "name": "stdout",
     "output_type": "stream",
     "text": [
      "<class 'pandas.core.frame.DataFrame'>\n",
      "RangeIndex: 19082 entries, 0 to 19081\n",
      "Data columns (total 11 columns):\n",
      " #   Column             Non-Null Count  Dtype  \n",
      "---  ------             --------------  -----  \n",
      " 0   Uid                19082 non-null  int64  \n",
      " 1   WORK_CONDITION     19081 non-null  object \n",
      " 2   TERMS_OF_EMP       19081 non-null  object \n",
      " 3   working_hours      19075 non-null  float64\n",
      " 4   JOB_DEP            19066 non-null  object \n",
      " 5   Eco_sect           19082 non-null  object \n",
      " 6   Employer_category  19081 non-null  object \n",
      " 7   job_category       19082 non-null  object \n",
      " 8   Job_desc           19082 non-null  object \n",
      " 9   EMOLUMENT          19082 non-null  int64  \n",
      " 10  employee_count     19081 non-null  object \n",
      "dtypes: float64(1), int64(2), object(8)\n",
      "memory usage: 1.6+ MB\n",
      "None\n"
     ]
    }
   ],
   "source": [
    "print(learn_dataset_job.info())"
   ]
  },
  {
   "cell_type": "markdown",
   "id": "1d864cda",
   "metadata": {},
   "source": [
    "#### Commentaire : remplacer toutes les valeurs manquantes par la valeur valide précédente, ce qui nous permet d'avoir un tableau complet."
   ]
  },
  {
   "cell_type": "markdown",
   "id": "2b15fb0d",
   "metadata": {},
   "source": [
    "## 3. Fusion des données <a id=\"section-3\"></a>\n"
   ]
  },
  {
   "cell_type": "markdown",
   "id": "ab0192e5",
   "metadata": {},
   "source": [
    "### 3.1 Données d'apprentissage"
   ]
  },
  {
   "cell_type": "code",
   "execution_count": 15,
   "id": "6e8e4944",
   "metadata": {},
   "outputs": [
    {
     "name": "stdout",
     "output_type": "stream",
     "text": [
      "Nombre de doublons dans learn_dataset :  0\n",
      "Nombre de doublons dans learn_datataset_job :  0\n",
      "Nombre de doublons dans learn_dataset_emp :  0\n",
      "Nombre de doublons dans learn_dataset_CLUB :  0\n",
      "<class 'pandas.core.frame.DataFrame'>\n",
      "Int64Index: 49993 entries, 0 to 49992\n",
      "Data columns (total 22 columns):\n",
      " #   Column             Non-Null Count  Dtype  \n",
      "---  ------             --------------  -----  \n",
      " 0   Uid                49993 non-null  int64  \n",
      " 1   Familty_type       49993 non-null  object \n",
      " 2   Highest_diploma    49993 non-null  object \n",
      " 3   insee_code         49993 non-null  object \n",
      " 4   Job_42             49993 non-null  object \n",
      " 5   ACT                49993 non-null  object \n",
      " 6   sex                49993 non-null  object \n",
      " 7   Studying           49993 non-null  bool   \n",
      " 8   age_2020           49993 non-null  int64  \n",
      " 9   target             49993 non-null  float64\n",
      " 10  WORK_CONDITION     19081 non-null  object \n",
      " 11  TERMS_OF_EMP       19081 non-null  object \n",
      " 12  working_hours      19075 non-null  float64\n",
      " 13  JOB_DEP            19066 non-null  object \n",
      " 14  Eco_sect           19082 non-null  object \n",
      " 15  Employer_category  19081 non-null  object \n",
      " 16  job_category       19082 non-null  object \n",
      " 17  Job_desc           19082 non-null  object \n",
      " 18  EMOLUMENT          19082 non-null  float64\n",
      " 19  employee_count     19081 non-null  object \n",
      " 20  emp                23935 non-null  object \n",
      " 21  CLUB               27034 non-null  object \n",
      "dtypes: bool(1), float64(3), int64(2), object(16)\n",
      "memory usage: 8.4+ MB\n",
      "None\n"
     ]
    }
   ],
   "source": [
    "# Vérifier s'il y a des doublons dans la colonne 'Uid' de chaque DataFrame\n",
    "print(\"Nombre de doublons dans learn_dataset : \", learn_dataset.duplicated(subset=['Uid']).sum())\n",
    "print(\"Nombre de doublons dans learn_datataset_job : \", learn_dataset_job.duplicated(subset=['Uid']).sum())\n",
    "print(\"Nombre de doublons dans learn_dataset_emp : \", learn_dataset_emp.duplicated(subset=['Uid']).sum())\n",
    "print(\"Nombre de doublons dans learn_dataset_CLUB : \", learn_dataset_CLUB.duplicated(subset=['Uid']).sum())\n",
    "\n",
    "# Supprimer les doublons dans la colonne 'Uid' de chaque DataFrame\n",
    "learn_dataset = learn_dataset.drop_duplicates(subset=['Uid'])\n",
    "learn_dataset_job = learn_dataset_job.drop_duplicates(subset=['Uid'])\n",
    "learn_dataset_emp = learn_dataset_emp.drop_duplicates(subset=['Uid'])\n",
    "learn_dataset_CLUB = learn_dataset_CLUB.drop_duplicates(subset=['Uid'])\n",
    "\n",
    "# Fusionner les DataFrames sans doublons au niveau de la colonne de jointure\n",
    "learn_dataset_merge = pd.merge(learn_dataset, learn_dataset_job, on='Uid', how='outer')\n",
    "learn_dataset_merge = pd.merge(learn_dataset_merge, learn_dataset_emp, on='Uid', how='outer')\n",
    "learn_dataset_merge = pd.merge(learn_dataset_merge, learn_dataset_CLUB, on='Uid', how='outer')\n",
    "\n",
    "# Supprimer les doublons de la colonne 'Uid' après la fusion\n",
    "learn_dataset_merge = learn_dataset_merge.drop_duplicates(subset=['Uid'])\n",
    "\n",
    "# Afficher les informations sur le DataFrame fusionné\n",
    "print(learn_dataset_merge.info())\n"
   ]
  },
  {
   "cell_type": "markdown",
   "id": "c3836d26",
   "metadata": {},
   "source": [
    "### 3.2 Données de test"
   ]
  },
  {
   "cell_type": "code",
   "execution_count": 16,
   "id": "85798663",
   "metadata": {},
   "outputs": [
    {
     "name": "stdout",
     "output_type": "stream",
     "text": [
      "Nombre de doublons dans test_dataset :  0\n",
      "Nombre de doublons dans test_dataset_job :  0\n",
      "Nombre de doublons dans test_dataset_emp :  0\n",
      "Nombre de doublons dans test_dataset_CLUB :  0\n",
      "<class 'pandas.core.frame.DataFrame'>\n",
      "Int64Index: 49992 entries, 0 to 49991\n",
      "Data columns (total 21 columns):\n",
      " #   Column             Non-Null Count  Dtype  \n",
      "---  ------             --------------  -----  \n",
      " 0   Uid                49992 non-null  int64  \n",
      " 1   Familty_type       49992 non-null  object \n",
      " 2   Highest_diploma    49992 non-null  object \n",
      " 3   insee_code         49992 non-null  object \n",
      " 4   Job_42             49992 non-null  object \n",
      " 5   ACT                49992 non-null  object \n",
      " 6   sex                49992 non-null  object \n",
      " 7   Studying           49992 non-null  bool   \n",
      " 8   age_2020           49992 non-null  int64  \n",
      " 9   WORK_CONDITION     19187 non-null  object \n",
      " 10  TERMS_OF_EMP       19187 non-null  object \n",
      " 11  working_hours      19181 non-null  float64\n",
      " 12  JOB_DEP            19175 non-null  object \n",
      " 13  Eco_sect           19195 non-null  object \n",
      " 14  Employer_category  19187 non-null  object \n",
      " 15  job_category       19195 non-null  object \n",
      " 16  Job_desc           19195 non-null  object \n",
      " 17  EMOLUMENT          19195 non-null  float64\n",
      " 18  employee_count     19188 non-null  object \n",
      " 19  emp                24151 non-null  object \n",
      " 20  CLUB               26776 non-null  object \n",
      "dtypes: bool(1), float64(2), int64(2), object(16)\n",
      "memory usage: 8.1+ MB\n",
      "None\n"
     ]
    }
   ],
   "source": [
    "# Vérifier s'il y a des doublons dans la colonne 'Uid' de chaque DataFrame\n",
    "print(\"Nombre de doublons dans test_dataset : \", test_dataset.duplicated(subset=['Uid']).sum())\n",
    "print(\"Nombre de doublons dans test_dataset_job : \",test_dataset_job.duplicated(subset=['Uid']).sum())\n",
    "print(\"Nombre de doublons dans test_dataset_emp : \", test_dataset_emp.duplicated(subset=['Uid']).sum())\n",
    "print(\"Nombre de doublons dans test_dataset_CLUB : \", test_dataset_CLUB.duplicated(subset=['Uid']).sum())\n",
    "\n",
    "# Supprimer les doublons dans la colonne 'Uid' de chaque DataFrame\n",
    "test_dataset = test_dataset.drop_duplicates(subset=['Uid'])\n",
    "test_dataset_job = test_dataset_job.drop_duplicates(subset=['Uid'])\n",
    "test_dataset_emp = test_dataset_emp.drop_duplicates(subset=['Uid'])\n",
    "test_dataset_CLUB = test_dataset_CLUB.drop_duplicates(subset=['Uid'])\n",
    "\n",
    "# Fusionner les DataFrames sans doublons au niveau de la colonne de jointure\n",
    "test_dataset_merge = pd.merge(test_dataset, test_dataset_job, on='Uid', how='outer')\n",
    "test_dataset_merge = pd.merge(test_dataset_merge, test_dataset_emp, on='Uid', how='outer')\n",
    "test_dataset_merge = pd.merge(test_dataset_merge, test_dataset_CLUB, on='Uid', how='outer')\n",
    "\n",
    "# Supprimer les doublons de la colonne 'Uid' après la fusion\n",
    "test_dataset_merge = test_dataset_merge.drop_duplicates(subset=['Uid'])\n",
    "\n",
    "# Afficher les informations sur le DataFrame fusionné\n",
    "print(test_dataset_merge.info())\n"
   ]
  },
  {
   "cell_type": "code",
   "execution_count": null,
   "id": "84b5c22a",
   "metadata": {},
   "outputs": [],
   "source": []
  },
  {
   "cell_type": "markdown",
   "id": "1bced1c6",
   "metadata": {},
   "source": [
    "## 4. Exploration des données <a id=\"section-4\"></a>"
   ]
  },
  {
   "cell_type": "markdown",
   "id": "81829766",
   "metadata": {},
   "source": [
    "### 4.1. Analyse exploratoire des données :"
   ]
  },
  {
   "cell_type": "code",
   "execution_count": 17,
   "id": "82a75d1a",
   "metadata": {},
   "outputs": [
    {
     "name": "stdout",
     "output_type": "stream",
     "text": [
      "                Uid      age_2020        target\n",
      "count  49993.000000  49993.000000  49993.000000\n",
      "mean   50008.485868     49.692197    445.197255\n",
      "std    28820.426850     20.692217    144.556769\n",
      "min        1.000000     15.000000      1.799885\n",
      "25%    25058.000000     33.000000    340.438813\n",
      "50%    50054.000000     49.000000    428.045818\n",
      "75%    74910.000000     66.000000    539.565276\n",
      "max    99985.000000    109.000000   1094.135881\n"
     ]
    }
   ],
   "source": [
    "print(learn_dataset.describe())"
   ]
  },
  {
   "cell_type": "code",
   "execution_count": 18,
   "id": "29983ff0",
   "metadata": {},
   "outputs": [
    {
     "name": "stdout",
     "output_type": "stream",
     "text": [
      "Female    26050\n",
      "Male      23943\n",
      "Name: sex, dtype: int64\n",
      "FT.4.1    16546\n",
      "FT.4.4     9612\n",
      "FT.1.2     5756\n",
      "FT.4.2     4622\n",
      "FT.1.1     4364\n",
      "FT.3.2     4110\n",
      "FT.4.3     2895\n",
      "FT.2.0     1169\n",
      "FT.3.1      919\n",
      "Name: Familty_type, dtype: int64\n"
     ]
    }
   ],
   "source": [
    "print(learn_dataset['sex'].value_counts())\n",
    "print(learn_dataset['Familty_type'].value_counts())"
   ]
  },
  {
   "cell_type": "code",
   "execution_count": 19,
   "id": "7d37138c",
   "metadata": {},
   "outputs": [
    {
     "data": {
      "image/png": "[encoded data removed]",
      "text/plain": [
       "<Figure size 640x480 with 1 Axes>"
      ]
     },
     "metadata": {},
     "output_type": "display_data"
    }
   ],
   "source": [
    "import warnings\n",
    "warnings.filterwarnings(\"ignore\", category=FutureWarning)\n",
    "\n",
    "sns.countplot(x='Familty_type', data=learn_dataset)\n",
    "plt.xlabel('Type de famille')\n",
    "plt.ylabel('Nombre de personnes')\n",
    "plt.title('Répartition par Cathégorie de personne')\n",
    "plt.show()\n"
   ]
  },
  {
   "cell_type": "code",
   "execution_count": null,
   "id": "42e67a5a",
   "metadata": {},
   "outputs": [],
   "source": []
  },
  {
   "cell_type": "markdown",
   "id": "b475b0fe",
   "metadata": {},
   "source": [
    "#### Commentaire : \n",
    "Notre jeu de données est composé principalement sinon en majorité de Famille formé d'un couple de 2 \"actifs ayant un emploi\" et de Famille formé d'un couple d'aucun \"actif ayant un emploi\". \n",
    "Ils forment à eux 2 près de 50% de notre jeu de données."
   ]
  },
  {
   "cell_type": "code",
   "execution_count": 20,
   "id": "4c05a23c",
   "metadata": {},
   "outputs": [
    {
     "data": {
      "image/png": "[encoded data removed]",
      "text/plain": [
       "<Figure size 640x480 with 1 Axes>"
      ]
     },
     "metadata": {},
     "output_type": "display_data"
    }
   ],
   "source": [
    "import warnings\n",
    "warnings.filterwarnings(\"ignore\", category=FutureWarning)\n",
    "\n",
    "sns.countplot(x='Highest_diploma', data=learn_dataset)\n",
    "plt.xlabel('Diplome le plus élevé')\n",
    "plt.ylabel('Effectif')\n",
    "plt.title('Répartition par niveau de diplome')\n",
    "plt.show()"
   ]
  },
  {
   "cell_type": "markdown",
   "id": "7280a365",
   "metadata": {},
   "source": [
    "### Commentaires : "
   ]
  },
  {
   "cell_type": "code",
   "execution_count": 21,
   "id": "6a6f2b3b",
   "metadata": {},
   "outputs": [
    {
     "data": {
      "image/png": "[encoded data removed]",
      "text/plain": [
       "<Figure size 640x480 with 1 Axes>"
      ]
     },
     "metadata": {},
     "output_type": "display_data"
    }
   ],
   "source": [
    "import warnings\n",
    "warnings.filterwarnings(\"ignore\", category=FutureWarning)\n",
    "\n",
    "sns.countplot(x='ACT', data=learn_dataset)\n",
    "plt.xlabel('Type d\\'activité')\n",
    "plt.ylabel('Effectif')\n",
    "plt.title('Répartition par Catégorie d\\'activité')\n",
    "plt.show()"
   ]
  },
  {
   "cell_type": "markdown",
   "id": "5cf4bfdd",
   "metadata": {},
   "source": [
    "### Commentaires : "
   ]
  },
  {
   "cell_type": "code",
   "execution_count": 22,
   "id": "3354830a",
   "metadata": {},
   "outputs": [],
   "source": [
    "#pip install --upgrade numexpr"
   ]
  },
  {
   "cell_type": "code",
   "execution_count": 23,
   "id": "2cf073a7",
   "metadata": {},
   "outputs": [],
   "source": [
    "#pip install --upgrade bottleneck"
   ]
  },
  {
   "cell_type": "code",
   "execution_count": 24,
   "id": "d730ef6a",
   "metadata": {},
   "outputs": [
    {
     "data": {
      "image/png": "[encoded data removed]",
      "text/plain": [
       "<Figure size 640x480 with 1 Axes>"
      ]
     },
     "metadata": {},
     "output_type": "display_data"
    }
   ],
   "source": [
    "import numpy as np\n",
    "import matplotlib.pyplot as plt\n",
    "\n",
    "# Générer des données aléatoires\n",
    "#data = np.random.randn(1000)\n",
    "\n",
    "# Calculer l'histogramme\n",
    "# Convertir la série 'age_2020' en un tableau NumPy\n",
    "age_array = learn_dataset['age_2020'].values\n",
    "hist, bins = np.histogram(age_array, bins=30)\n",
    "\n",
    "# Afficher l'histogramme\n",
    "plt.hist(age_array, bins=bins, edgecolor='black')\n",
    "plt.xlabel(\"Tranches d âge\")\n",
    "plt.ylabel('Effectif')\n",
    "plt.title('Histogramme des âges')\n",
    "plt.show()\n"
   ]
  },
  {
   "cell_type": "code",
   "execution_count": 25,
   "id": "b30675af",
   "metadata": {},
   "outputs": [
    {
     "name": "stdout",
     "output_type": "stream",
     "text": [
      "            count       mean       std   min   25%   50%   75%    max\n",
      "age_group                                                            \n",
      "0-18       2963.0  16.456294  1.105369  15.0  15.0  16.0  17.0   18.0\n",
      "19-30      8193.0  24.499695  3.502305  19.0  21.0  24.0  28.0   30.0\n",
      "31-40      7148.0  35.577504  2.849523  31.0  33.0  36.0  38.0   40.0\n",
      "41-50      7628.0  45.643812  2.857602  41.0  43.0  46.0  48.0   50.0\n",
      "51-60      7747.0  55.492061  2.862235  51.0  53.0  56.0  58.0   60.0\n",
      "61-70      7280.0  65.457967  2.887294  61.0  63.0  65.0  68.0   70.0\n",
      "70+        9034.0  80.348240  7.246543  71.0  74.0  79.0  86.0  109.0\n",
      "count    49993.000000\n",
      "mean        49.692197\n",
      "std         20.692217\n",
      "min         15.000000\n",
      "25%         33.000000\n",
      "50%         49.000000\n",
      "75%         66.000000\n",
      "max        109.000000\n",
      "Name: age_2020, dtype: float64\n"
     ]
    }
   ],
   "source": [
    "import pandas as pd\n",
    "\n",
    "\n",
    "# 1. Créer des tranches d'âges\n",
    "bins = [0, 18, 30, 40, 50, 60, 70, 120]  # Définir les limites des tranches d'âges\n",
    "labels = ['0-18', '19-30', '31-40', '41-50', '51-60', '61-70', '70+']  # Étiquettes pour chaque tranche\n",
    "learn_dataset['age_group'] = pd.cut(learn_dataset['age_2020'], bins=bins, labels=labels)\n",
    "\n",
    "# 2. Obtenir des statistiques sur ces tranches\n",
    "age_group_stats = learn_dataset.groupby('age_group')['age_2020'].describe()\n",
    "\n",
    "# 3. Afficher les statistiques\n",
    "print(age_group_stats)\n",
    "print(learn_dataset['age_2020'].describe())\n"
   ]
  },
  {
   "cell_type": "markdown",
   "id": "f4ea7248",
   "metadata": {},
   "source": [
    "#### Commentaire : \n",
    "75% de la population de notre groupe à moins de 66 ans donc fait partie de la trnache dit active."
   ]
  },
  {
   "cell_type": "code",
   "execution_count": 26,
   "id": "0ee2c18d",
   "metadata": {},
   "outputs": [],
   "source": [
    "### Déplacement de notre colonne Target"
   ]
  },
  {
   "cell_type": "code",
   "execution_count": 27,
   "id": "ee011ad1",
   "metadata": {},
   "outputs": [],
   "source": [
    "# 1. Extraire la colonne cible du premier DataFrame\n",
    "#target_column = learn_dataset_merge['target']\n",
    "\n",
    "# 2. Supprimer la colonne cible du premier DataFrame\n",
    "#learn_dataset_merge.drop(columns=['target'], inplace=True)\n",
    "\n",
    "# 3. Ajouter la colonne cible à la fin du DataFrame fusionné\n",
    "#learn_dataset_merge['target'] = target_column\n"
   ]
  },
  {
   "cell_type": "code",
   "execution_count": 28,
   "id": "b973a94e",
   "metadata": {},
   "outputs": [
    {
     "name": "stdout",
     "output_type": "stream",
     "text": [
      "<class 'pandas.core.frame.DataFrame'>\n",
      "Int64Index: 49993 entries, 0 to 49992\n",
      "Data columns (total 22 columns):\n",
      " #   Column             Non-Null Count  Dtype  \n",
      "---  ------             --------------  -----  \n",
      " 0   Uid                49993 non-null  int64  \n",
      " 1   Familty_type       49993 non-null  object \n",
      " 2   Highest_diploma    49993 non-null  object \n",
      " 3   insee_code         49993 non-null  object \n",
      " 4   Job_42             49993 non-null  object \n",
      " 5   ACT                49993 non-null  object \n",
      " 6   sex                49993 non-null  object \n",
      " 7   Studying           49993 non-null  bool   \n",
      " 8   age_2020           49993 non-null  int64  \n",
      " 9   target             49993 non-null  float64\n",
      " 10  WORK_CONDITION     19081 non-null  object \n",
      " 11  TERMS_OF_EMP       19081 non-null  object \n",
      " 12  working_hours      19075 non-null  float64\n",
      " 13  JOB_DEP            19066 non-null  object \n",
      " 14  Eco_sect           19082 non-null  object \n",
      " 15  Employer_category  19081 non-null  object \n",
      " 16  job_category       19082 non-null  object \n",
      " 17  Job_desc           19082 non-null  object \n",
      " 18  EMOLUMENT          19082 non-null  float64\n",
      " 19  employee_count     19081 non-null  object \n",
      " 20  emp                23935 non-null  object \n",
      " 21  CLUB               27034 non-null  object \n",
      "dtypes: bool(1), float64(3), int64(2), object(16)\n",
      "memory usage: 8.4+ MB\n"
     ]
    }
   ],
   "source": [
    "learn_dataset_merge.info()"
   ]
  },
  {
   "cell_type": "markdown",
   "id": "9cdb010d",
   "metadata": {},
   "source": [
    "### 4.2. Visualisation des données :"
   ]
  },
  {
   "cell_type": "code",
   "execution_count": 29,
   "id": "c2d90569",
   "metadata": {},
   "outputs": [
    {
     "data": {
      "image/png": "[encoded data removed]",
      "text/plain": [
       "<Figure size 640x480 with 2 Axes>"
      ]
     },
     "metadata": {},
     "output_type": "display_data"
    }
   ],
   "source": [
    "# Sélectionner uniquement les colonnes numériques\n",
    "numeric_columns = learn_dataset_merge.select_dtypes(include=[np.number])\n",
    "\n",
    "# Calculer la matrice de corrélation\n",
    "correlation_matrix = numeric_columns.corr()\n",
    "sns.heatmap(correlation_matrix, annot=True, cmap='coolwarm', fmt=\".2f\")\n",
    "plt.title('Matrice de corrélation')\n",
    "plt.show()"
   ]
  },
  {
   "cell_type": "markdown",
   "id": "e971eea3",
   "metadata": {},
   "source": [
    "### Commentaires : \n",
    "Nous observons une corrélation négative modérée entre nos deux variables âge et la varibale cible (-0,27) :\n",
    "\n",
    "- **Valeur négative**: Le signe négatif indique une relation inverse entre les variables. Cela signifie que lorsque la valeur de l'une des variables augmente, la valeur de l'autre variable diminue, et vice versa.\n",
    "  \n",
    "- **Modérée**: Une corrélation de -0,27 n'est pas très forte, mais elle indique tout de même une relation significative entre les deux variables. Elle suggère qu'il y a une tendance pour que lorsque l'âge augmente, la valeur de la variable cible diminue légèrement, et vice versa.\n",
    "\n",
    "Dans le contexte de notre analyse, cela pourrait signifier que l'âge a une influence modérée sur la variable cible. Par exemple, dans un problème de prédiction de revenu, une corrélation négative modérée entre l'âge et le revenu pourrait signifier que les personnes plus âgées ont tendance à avoir des revenus légèrement plus faibles, Dans le cas espèce, nous ne pouvons pas aller plus loin, la variable cible étant inconnu.\n",
    "\n",
    "Nous observons également une corrélation positive entre nos deux variables Emolument et Working_hours (0,53) :\n",
    "\n",
    "- **Valeur positive**: Le signe positif indique une relation linéaire entre les variables. Cela signifie que lorsque la valeur de l'une des variables augmente, la valeur de l'autre variable augmente également, et vice versa.\n",
    "  \n",
    "- **Modérée**: Une corrélation de 0,53 n'est pas très forte, mais elle indique tout de même une relation significative entre les deux variables.\n",
    "\n",
    "Dans ce cas, une corrélation de 0,53 entre le salaire annuel et le nombre total d'heures de travail suggère que, en général, les personnes gagnant des salaires annuels plus élevés ont tendance à travailler un plus grand nombre d'heures par an."
   ]
  },
  {
   "cell_type": "code",
   "execution_count": 30,
   "id": "04ffb335",
   "metadata": {},
   "outputs": [
    {
     "data": {
      "image/png": "[encoded data removed]",
      "text/plain": [
       "<Figure size 750x750 with 12 Axes>"
      ]
     },
     "metadata": {},
     "output_type": "display_data"
    }
   ],
   "source": [
    "sns.pairplot(learn_dataset_merge[['age_2020', 'EMOLUMENT', 'working_hours']])\n",
    "plt.show()"
   ]
  },
  {
   "cell_type": "markdown",
   "id": "652c9142",
   "metadata": {},
   "source": [
    "### Commentaires : "
   ]
  },
  {
   "cell_type": "code",
   "execution_count": null,
   "id": "bbc079e0",
   "metadata": {},
   "outputs": [],
   "source": []
  },
  {
   "cell_type": "code",
   "execution_count": null,
   "id": "e49a6213",
   "metadata": {},
   "outputs": [],
   "source": []
  },
  {
   "cell_type": "code",
   "execution_count": 31,
   "id": "19ba65de",
   "metadata": {},
   "outputs": [
    {
     "name": "stdout",
     "output_type": "stream",
     "text": [
      "Nombre de valeurs manquantes dans 'EMOLUMENT' : 22959\n",
      "Nombre de valeurs manquantes dans 'CLUB' : 22959\n"
     ]
    }
   ],
   "source": [
    "# Vérifier les valeurs manquantes dans la colonne 'Job_desc'\n",
    "missing_values = learn_dataset_merge['EMOLUMENT'].isna().sum()\n",
    "missing_values = learn_dataset_merge['CLUB'].isna().sum()\n",
    "print(\"Nombre de valeurs manquantes dans 'EMOLUMENT' :\", missing_values)\n",
    "print(\"Nombre de valeurs manquantes dans 'CLUB' :\", missing_values)\n",
    "\n",
    "# Remplacer les valeurs manquantes par une valeur par défaut, par exemple 'NaN'\n",
    "learn_dataset_merge['WORK_CONDITION'].fillna('NaN', inplace=True)\n",
    "learn_dataset_merge['TERMS_OF_EMP'].fillna('NaN', inplace=True)\n",
    "##learn_dataset_merge['working_hours'].fillna('NaN', inplace=True)\n",
    "learn_dataset_merge['JOB_DEP'].fillna('NaN', inplace=True)\n",
    "learn_dataset_merge['Eco_sect'].fillna('NaN', inplace=True)\n",
    "learn_dataset_merge['Employer_category'].fillna('NaN', inplace=True)\n",
    "learn_dataset_merge['job_category'].fillna('NaN', inplace=True)\n",
    "#learn_dataset_merge['Job_desc'].fillna('NaN', inplace=True)\n",
    "##learn_dataset_merge['EMOLUMENT'].fillna('NaN', inplace=True)\n",
    "learn_dataset_merge['employee_count'].fillna('NaN', inplace=True)\n",
    "learn_dataset_merge['emp'].fillna('NaN', inplace=True)\n",
    "##learn_dataset_merge['CLUB'].fillna('NaN', inplace=True)"
   ]
  },
  {
   "cell_type": "code",
   "execution_count": 32,
   "id": "dda308f7",
   "metadata": {},
   "outputs": [
    {
     "data": {
      "text/plain": [
       "<bound method Series.info of 0        Club-000\n",
       "1        Club-000\n",
       "2        club-109\n",
       "3        club-106\n",
       "4        Club-000\n",
       "           ...   \n",
       "49988    club-106\n",
       "49989    club-103\n",
       "49990    club-113\n",
       "49991    club-101\n",
       "49992    club-402\n",
       "Name: CLUB, Length: 49993, dtype: object>"
      ]
     },
     "execution_count": 32,
     "metadata": {},
     "output_type": "execute_result"
    }
   ],
   "source": [
    "# Remplacer les valeurs manquantes dans la colonne \"CLUB\" par \"Club-000\"\n",
    "learn_dataset_merge['CLUB'].fillna('Club-000', inplace=True)\n",
    "\n",
    "test_dataset_merge['CLUB'].fillna('Club-000', inplace=True)\n",
    "\n",
    "learn_dataset_merge['CLUB'].info"
   ]
  },
  {
   "cell_type": "code",
   "execution_count": 33,
   "id": "ad19f94f",
   "metadata": {},
   "outputs": [
    {
     "name": "stdout",
     "output_type": "stream",
     "text": [
      "<bound method Series.info of 0        Club-000\n",
      "1        Club-000\n",
      "2        club-109\n",
      "3        club-106\n",
      "4        Club-000\n",
      "           ...   \n",
      "49988    club-106\n",
      "49989    club-103\n",
      "49990    club-113\n",
      "49991    club-101\n",
      "49992    club-402\n",
      "Name: CLUB, Length: 49993, dtype: object>\n"
     ]
    }
   ],
   "source": [
    "print(learn_dataset_merge['CLUB'].info)"
   ]
  },
  {
   "cell_type": "code",
   "execution_count": 34,
   "id": "656c6a96",
   "metadata": {},
   "outputs": [
    {
     "data": {
      "text/plain": [
       "0    Club-000\n",
       "1    Club-000\n",
       "2    club-109\n",
       "3    club-106\n",
       "4    Club-000\n",
       "Name: CLUB, dtype: object"
      ]
     },
     "execution_count": 34,
     "metadata": {},
     "output_type": "execute_result"
    }
   ],
   "source": [
    "learn_dataset_merge['CLUB'].head()"
   ]
  },
  {
   "cell_type": "code",
   "execution_count": 35,
   "id": "afbfccb7",
   "metadata": {},
   "outputs": [
    {
     "name": "stdout",
     "output_type": "stream",
     "text": [
      "<bound method NDFrame.head of 0        Club-000\n",
      "1        Club-000\n",
      "2        club-109\n",
      "3        club-106\n",
      "4        Club-000\n",
      "           ...   \n",
      "49988    club-106\n",
      "49989    club-103\n",
      "49990    club-113\n",
      "49991    club-101\n",
      "49992    club-402\n",
      "Name: CLUB, Length: 49993, dtype: object>\n"
     ]
    }
   ],
   "source": [
    "print(learn_dataset_merge['CLUB'].head)"
   ]
  },
  {
   "cell_type": "code",
   "execution_count": 36,
   "id": "c6bc80cd",
   "metadata": {},
   "outputs": [],
   "source": [
    "# Remplacer les valeurs manquantes dans la colonne \"CLUB\" par \"Club-000\"\n",
    "#learn_dataset_merge['Job_desc'].fillna('90', inplace=True)\n",
    "\n",
    "#test_dataset_merge['Job_desc'].fillna('90', inplace=True)\n",
    "\n",
    "#learn_dataset_merge['Job_desc'].info"
   ]
  },
  {
   "cell_type": "code",
   "execution_count": null,
   "id": "2cf3003e",
   "metadata": {},
   "outputs": [],
   "source": []
  },
  {
   "cell_type": "code",
   "execution_count": 37,
   "id": "91d32a5d",
   "metadata": {},
   "outputs": [
    {
     "data": {
      "text/html": [
       "<div>\n",
       "<style scoped>\n",
       "    .dataframe tbody tr th:only-of-type {\n",
       "        vertical-align: middle;\n",
       "    }\n",
       "\n",
       "    .dataframe tbody tr th {\n",
       "        vertical-align: top;\n",
       "    }\n",
       "\n",
       "    .dataframe thead th {\n",
       "        text-align: right;\n",
       "    }\n",
       "</style>\n",
       "<table border=\"1\" class=\"dataframe\">\n",
       "  <thead>\n",
       "    <tr style=\"text-align: right;\">\n",
       "      <th></th>\n",
       "      <th>Uid</th>\n",
       "      <th>Familty_type</th>\n",
       "      <th>Highest_diploma</th>\n",
       "      <th>insee_code</th>\n",
       "      <th>Job_42</th>\n",
       "      <th>ACT</th>\n",
       "      <th>sex</th>\n",
       "      <th>Studying</th>\n",
       "      <th>age_2020</th>\n",
       "      <th>target</th>\n",
       "      <th>...</th>\n",
       "      <th>working_hours</th>\n",
       "      <th>JOB_DEP</th>\n",
       "      <th>Eco_sect</th>\n",
       "      <th>Employer_category</th>\n",
       "      <th>job_category</th>\n",
       "      <th>Job_desc</th>\n",
       "      <th>EMOLUMENT</th>\n",
       "      <th>employee_count</th>\n",
       "      <th>emp</th>\n",
       "      <th>CLUB</th>\n",
       "    </tr>\n",
       "  </thead>\n",
       "  <tbody>\n",
       "    <tr>\n",
       "      <th>0</th>\n",
       "      <td>1</td>\n",
       "      <td>FT.4.2</td>\n",
       "      <td>EDU1-3</td>\n",
       "      <td>01002</td>\n",
       "      <td>csp_5_2</td>\n",
       "      <td>AT1|1</td>\n",
       "      <td>Male</td>\n",
       "      <td>False</td>\n",
       "      <td>56</td>\n",
       "      <td>334.988013</td>\n",
       "      <td>...</td>\n",
       "      <td>NaN</td>\n",
       "      <td>NaN</td>\n",
       "      <td>NaN</td>\n",
       "      <td>NaN</td>\n",
       "      <td>NaN</td>\n",
       "      <td>NaN</td>\n",
       "      <td>NaN</td>\n",
       "      <td>NaN</td>\n",
       "      <td>temp|1|6</td>\n",
       "      <td>Club-000</td>\n",
       "    </tr>\n",
       "    <tr>\n",
       "      <th>1</th>\n",
       "      <td>3</td>\n",
       "      <td>FT.3.2</td>\n",
       "      <td>EDU1-3</td>\n",
       "      <td>01004</td>\n",
       "      <td>csp_6_8</td>\n",
       "      <td>AT1|1</td>\n",
       "      <td>Male</td>\n",
       "      <td>True</td>\n",
       "      <td>19</td>\n",
       "      <td>385.059215</td>\n",
       "      <td>...</td>\n",
       "      <td>607.0</td>\n",
       "      <td>69</td>\n",
       "      <td>GZ</td>\n",
       "      <td>ct_9</td>\n",
       "      <td>A</td>\n",
       "      <td>685a</td>\n",
       "      <td>3097.0</td>\n",
       "      <td>tr_1</td>\n",
       "      <td>temp|1|1</td>\n",
       "      <td>Club-000</td>\n",
       "    </tr>\n",
       "    <tr>\n",
       "      <th>2</th>\n",
       "      <td>4</td>\n",
       "      <td>FT.1.1</td>\n",
       "      <td>EDU1-3</td>\n",
       "      <td>01004</td>\n",
       "      <td>csp_5_4</td>\n",
       "      <td>AT1|1</td>\n",
       "      <td>Male</td>\n",
       "      <td>False</td>\n",
       "      <td>47</td>\n",
       "      <td>311.387009</td>\n",
       "      <td>...</td>\n",
       "      <td>1792.0</td>\n",
       "      <td>71</td>\n",
       "      <td>FZ</td>\n",
       "      <td>ct_9</td>\n",
       "      <td>O</td>\n",
       "      <td>543h</td>\n",
       "      <td>25041.0</td>\n",
       "      <td>tr_1</td>\n",
       "      <td>temp|1|6</td>\n",
       "      <td>club-109</td>\n",
       "    </tr>\n",
       "    <tr>\n",
       "      <th>3</th>\n",
       "      <td>6</td>\n",
       "      <td>FT.4.2</td>\n",
       "      <td>EDU1-8</td>\n",
       "      <td>01004</td>\n",
       "      <td>csp_4_6</td>\n",
       "      <td>AT1|1</td>\n",
       "      <td>Male</td>\n",
       "      <td>False</td>\n",
       "      <td>28</td>\n",
       "      <td>281.922903</td>\n",
       "      <td>...</td>\n",
       "      <td>1824.0</td>\n",
       "      <td>73</td>\n",
       "      <td>GZ</td>\n",
       "      <td>ct_9</td>\n",
       "      <td>O</td>\n",
       "      <td>462e</td>\n",
       "      <td>30782.0</td>\n",
       "      <td>tr_1</td>\n",
       "      <td>temp|1|6</td>\n",
       "      <td>club-106</td>\n",
       "    </tr>\n",
       "    <tr>\n",
       "      <th>4</th>\n",
       "      <td>10</td>\n",
       "      <td>FT.2.0</td>\n",
       "      <td>EDU2</td>\n",
       "      <td>01004</td>\n",
       "      <td>csp_8_4</td>\n",
       "      <td>AT2|2</td>\n",
       "      <td>Male</td>\n",
       "      <td>True</td>\n",
       "      <td>16</td>\n",
       "      <td>602.748256</td>\n",
       "      <td>...</td>\n",
       "      <td>NaN</td>\n",
       "      <td>NaN</td>\n",
       "      <td>NaN</td>\n",
       "      <td>NaN</td>\n",
       "      <td>NaN</td>\n",
       "      <td>NaN</td>\n",
       "      <td>NaN</td>\n",
       "      <td>NaN</td>\n",
       "      <td>NaN</td>\n",
       "      <td>Club-000</td>\n",
       "    </tr>\n",
       "  </tbody>\n",
       "</table>\n",
       "<p>5 rows × 22 columns</p>\n",
       "</div>"
      ],
      "text/plain": [
       "   Uid Familty_type Highest_diploma insee_code   Job_42    ACT   sex  \\\n",
       "0    1       FT.4.2          EDU1-3      01002  csp_5_2  AT1|1  Male   \n",
       "1    3       FT.3.2          EDU1-3      01004  csp_6_8  AT1|1  Male   \n",
       "2    4       FT.1.1          EDU1-3      01004  csp_5_4  AT1|1  Male   \n",
       "3    6       FT.4.2          EDU1-8      01004  csp_4_6  AT1|1  Male   \n",
       "4   10       FT.2.0            EDU2      01004  csp_8_4  AT2|2  Male   \n",
       "\n",
       "   Studying  age_2020      target  ... working_hours JOB_DEP  Eco_sect  \\\n",
       "0     False        56  334.988013  ...           NaN     NaN       NaN   \n",
       "1      True        19  385.059215  ...         607.0      69        GZ   \n",
       "2     False        47  311.387009  ...        1792.0      71        FZ   \n",
       "3     False        28  281.922903  ...        1824.0      73        GZ   \n",
       "4      True        16  602.748256  ...           NaN     NaN       NaN   \n",
       "\n",
       "  Employer_category job_category Job_desc EMOLUMENT employee_count       emp  \\\n",
       "0               NaN          NaN      NaN       NaN            NaN  temp|1|6   \n",
       "1              ct_9            A     685a    3097.0           tr_1  temp|1|1   \n",
       "2              ct_9            O     543h   25041.0           tr_1  temp|1|6   \n",
       "3              ct_9            O     462e   30782.0           tr_1  temp|1|6   \n",
       "4               NaN          NaN      NaN       NaN            NaN       NaN   \n",
       "\n",
       "       CLUB  \n",
       "0  Club-000  \n",
       "1  Club-000  \n",
       "2  club-109  \n",
       "3  club-106  \n",
       "4  Club-000  \n",
       "\n",
       "[5 rows x 22 columns]"
      ]
     },
     "execution_count": 37,
     "metadata": {},
     "output_type": "execute_result"
    }
   ],
   "source": [
    "learn_dataset_merge.head()"
   ]
  },
  {
   "cell_type": "markdown",
   "id": "5fc5818c",
   "metadata": {},
   "source": [
    "# "
   ]
  },
  {
   "cell_type": "markdown",
   "id": "546a0da3",
   "metadata": {},
   "source": [
    "# "
   ]
  },
  {
   "cell_type": "markdown",
   "id": "c8ef0f82",
   "metadata": {},
   "source": [
    "# "
   ]
  },
  {
   "cell_type": "code",
   "execution_count": 38,
   "id": "487cb196",
   "metadata": {},
   "outputs": [
    {
     "data": {
      "text/html": [
       "<div>\n",
       "<style scoped>\n",
       "    .dataframe tbody tr th:only-of-type {\n",
       "        vertical-align: middle;\n",
       "    }\n",
       "\n",
       "    .dataframe tbody tr th {\n",
       "        vertical-align: top;\n",
       "    }\n",
       "\n",
       "    .dataframe thead th {\n",
       "        text-align: right;\n",
       "    }\n",
       "</style>\n",
       "<table border=\"1\" class=\"dataframe\">\n",
       "  <thead>\n",
       "    <tr style=\"text-align: right;\">\n",
       "      <th></th>\n",
       "      <th>Uid</th>\n",
       "      <th>Familty_type</th>\n",
       "      <th>Highest_diploma</th>\n",
       "      <th>insee_code</th>\n",
       "      <th>Job_42</th>\n",
       "      <th>ACT</th>\n",
       "      <th>sex</th>\n",
       "      <th>Studying</th>\n",
       "      <th>age_2020</th>\n",
       "      <th>WORK_CONDITION</th>\n",
       "      <th>...</th>\n",
       "      <th>working_hours</th>\n",
       "      <th>JOB_DEP</th>\n",
       "      <th>Eco_sect</th>\n",
       "      <th>Employer_category</th>\n",
       "      <th>job_category</th>\n",
       "      <th>Job_desc</th>\n",
       "      <th>EMOLUMENT</th>\n",
       "      <th>employee_count</th>\n",
       "      <th>emp</th>\n",
       "      <th>CLUB</th>\n",
       "    </tr>\n",
       "  </thead>\n",
       "  <tbody>\n",
       "    <tr>\n",
       "      <th>0</th>\n",
       "      <td>2</td>\n",
       "      <td>FT.4.3</td>\n",
       "      <td>EDU1-3</td>\n",
       "      <td>01004</td>\n",
       "      <td>csp_4_8</td>\n",
       "      <td>AT1|2</td>\n",
       "      <td>Male</td>\n",
       "      <td>False</td>\n",
       "      <td>40</td>\n",
       "      <td>NaN</td>\n",
       "      <td>...</td>\n",
       "      <td>NaN</td>\n",
       "      <td>NaN</td>\n",
       "      <td>NaN</td>\n",
       "      <td>NaN</td>\n",
       "      <td>NaN</td>\n",
       "      <td>NaN</td>\n",
       "      <td>NaN</td>\n",
       "      <td>NaN</td>\n",
       "      <td>NaN</td>\n",
       "      <td>club-117</td>\n",
       "    </tr>\n",
       "    <tr>\n",
       "      <th>1</th>\n",
       "      <td>5</td>\n",
       "      <td>FT.4.4</td>\n",
       "      <td>EDU1-3</td>\n",
       "      <td>01004</td>\n",
       "      <td>csp_8_6</td>\n",
       "      <td>AT2|5</td>\n",
       "      <td>Female</td>\n",
       "      <td>False</td>\n",
       "      <td>72</td>\n",
       "      <td>NaN</td>\n",
       "      <td>...</td>\n",
       "      <td>NaN</td>\n",
       "      <td>NaN</td>\n",
       "      <td>NaN</td>\n",
       "      <td>NaN</td>\n",
       "      <td>NaN</td>\n",
       "      <td>NaN</td>\n",
       "      <td>NaN</td>\n",
       "      <td>NaN</td>\n",
       "      <td>NaN</td>\n",
       "      <td>club-105</td>\n",
       "    </tr>\n",
       "    <tr>\n",
       "      <th>2</th>\n",
       "      <td>7</td>\n",
       "      <td>FT.4.1</td>\n",
       "      <td>EDU1-5</td>\n",
       "      <td>01004</td>\n",
       "      <td>csp_5_4</td>\n",
       "      <td>AT1|1</td>\n",
       "      <td>Female</td>\n",
       "      <td>False</td>\n",
       "      <td>50</td>\n",
       "      <td>C</td>\n",
       "      <td>...</td>\n",
       "      <td>1820.0</td>\n",
       "      <td>01</td>\n",
       "      <td>OZ</td>\n",
       "      <td>ct_1</td>\n",
       "      <td>O</td>\n",
       "      <td>543g</td>\n",
       "      <td>27201.0</td>\n",
       "      <td>tr_3</td>\n",
       "      <td>temp|1|6</td>\n",
       "      <td>club-102</td>\n",
       "    </tr>\n",
       "    <tr>\n",
       "      <th>3</th>\n",
       "      <td>8</td>\n",
       "      <td>FT.4.3</td>\n",
       "      <td>EDU1-3</td>\n",
       "      <td>01004</td>\n",
       "      <td>csp_4_6</td>\n",
       "      <td>AT1|1</td>\n",
       "      <td>Female</td>\n",
       "      <td>False</td>\n",
       "      <td>55</td>\n",
       "      <td>C</td>\n",
       "      <td>...</td>\n",
       "      <td>1820.0</td>\n",
       "      <td>01</td>\n",
       "      <td>GZ</td>\n",
       "      <td>ct_9</td>\n",
       "      <td>O</td>\n",
       "      <td>461d</td>\n",
       "      <td>26576.0</td>\n",
       "      <td>tr_4</td>\n",
       "      <td>temp|1|6</td>\n",
       "      <td>club-102</td>\n",
       "    </tr>\n",
       "    <tr>\n",
       "      <th>4</th>\n",
       "      <td>9</td>\n",
       "      <td>FT.4.1</td>\n",
       "      <td>EDU1-5</td>\n",
       "      <td>01004</td>\n",
       "      <td>csp_6_3</td>\n",
       "      <td>AT1|1</td>\n",
       "      <td>Male</td>\n",
       "      <td>False</td>\n",
       "      <td>37</td>\n",
       "      <td>C</td>\n",
       "      <td>...</td>\n",
       "      <td>877.0</td>\n",
       "      <td>74</td>\n",
       "      <td>IZ</td>\n",
       "      <td>ct_9</td>\n",
       "      <td>O</td>\n",
       "      <td>636d</td>\n",
       "      <td>8897.0</td>\n",
       "      <td>tr_1</td>\n",
       "      <td>temp|1|5</td>\n",
       "      <td>club-117</td>\n",
       "    </tr>\n",
       "  </tbody>\n",
       "</table>\n",
       "<p>5 rows × 21 columns</p>\n",
       "</div>"
      ],
      "text/plain": [
       "   Uid Familty_type Highest_diploma insee_code   Job_42    ACT     sex  \\\n",
       "0    2       FT.4.3          EDU1-3      01004  csp_4_8  AT1|2    Male   \n",
       "1    5       FT.4.4          EDU1-3      01004  csp_8_6  AT2|5  Female   \n",
       "2    7       FT.4.1          EDU1-5      01004  csp_5_4  AT1|1  Female   \n",
       "3    8       FT.4.3          EDU1-3      01004  csp_4_6  AT1|1  Female   \n",
       "4    9       FT.4.1          EDU1-5      01004  csp_6_3  AT1|1    Male   \n",
       "\n",
       "   Studying  age_2020 WORK_CONDITION  ... working_hours  JOB_DEP Eco_sect  \\\n",
       "0     False        40            NaN  ...           NaN      NaN      NaN   \n",
       "1     False        72            NaN  ...           NaN      NaN      NaN   \n",
       "2     False        50              C  ...        1820.0       01       OZ   \n",
       "3     False        55              C  ...        1820.0       01       GZ   \n",
       "4     False        37              C  ...         877.0       74       IZ   \n",
       "\n",
       "  Employer_category job_category Job_desc EMOLUMENT  employee_count       emp  \\\n",
       "0               NaN          NaN      NaN       NaN             NaN       NaN   \n",
       "1               NaN          NaN      NaN       NaN             NaN       NaN   \n",
       "2              ct_1            O     543g   27201.0            tr_3  temp|1|6   \n",
       "3              ct_9            O     461d   26576.0            tr_4  temp|1|6   \n",
       "4              ct_9            O     636d    8897.0            tr_1  temp|1|5   \n",
       "\n",
       "       CLUB  \n",
       "0  club-117  \n",
       "1  club-105  \n",
       "2  club-102  \n",
       "3  club-102  \n",
       "4  club-117  \n",
       "\n",
       "[5 rows x 21 columns]"
      ]
     },
     "execution_count": 38,
     "metadata": {},
     "output_type": "execute_result"
    }
   ],
   "source": [
    "test_dataset_merge.head()"
   ]
  },
  {
   "cell_type": "code",
   "execution_count": 39,
   "id": "fbbd0251",
   "metadata": {
    "scrolled": true
   },
   "outputs": [],
   "source": [
    "#import pandas as pd\n",
    "\n",
    "\n",
    "# Utilise get_dummies pour effectuer le One-Hot Encoding\n",
    "#encoded_1 = pd.get_dummies(learn_dataset_merge, columns=['WORK_CONDITION'])\n",
    "#encoded_2 = pd.get_dummies(encoded_1, columns=['Job_42'])\n",
    "#encoded_3 = pd.get_dummies(encoded_2, columns=['ACT'])\n",
    "#encoded_4 = pd.get_dummies(encoded_3, columns=['CLUB'])\n",
    "#encoded_5 = pd.get_dummies(encoded_4, columns=['job_category'])\n",
    "#encoded_6 = pd.get_dummies(encoded_5, columns=['TERMS_OF_EMP'])\n",
    "#encoded_7 = pd.get_dummies(encoded_6, columns=['sex'])\n",
    "#Learn_encoded = pd.get_dummies(encoded_6, columns=['emp'])\n",
    "\n",
    "# Vous pouvez spécifier drop_first=True pour supprimer la première catégorie encodée de chaque variable\n",
    "# Cela évite le piège de la colinéarité entre les variables\n",
    "#Learn_encoded = pd.get_dummies(Learn_encoded, columns=['sex'], drop_first=True)\n",
    "\n",
    "# Affichez les 5 premières lignes du DataFrame encodé\n",
    "#Learn_encoded.head()"
   ]
  },
  {
   "cell_type": "code",
   "execution_count": null,
   "id": "ec9652c8",
   "metadata": {},
   "outputs": [],
   "source": []
  },
  {
   "cell_type": "markdown",
   "id": "c2effdf6",
   "metadata": {},
   "source": [
    "# "
   ]
  },
  {
   "cell_type": "code",
   "execution_count": 40,
   "id": "36aab099",
   "metadata": {},
   "outputs": [],
   "source": [
    "from sklearn.preprocessing import LabelEncoder\n",
    "\n",
    "# Initialiser un objet LabelEncoder\n",
    "le = LabelEncoder()\n",
    "\n",
    "# Appliquer le LabelEncoder à la colonne 'animal'\n",
    "\n",
    "\n",
    "learn_dataset_merge['WORK_CONDITION'] = le.fit_transform(learn_dataset_merge['WORK_CONDITION'])\n",
    "learn_dataset_merge['Job_42'] = le.fit_transform(learn_dataset_merge['Job_42'])\n",
    "learn_dataset_merge['ACT'] = le.fit_transform(learn_dataset_merge['ACT'])\n",
    "learn_dataset_merge['CLUB'] = le.fit_transform(learn_dataset_merge['CLUB'])\n",
    "learn_dataset_merge['job_category'] = le.fit_transform(learn_dataset_merge['job_category'])\n",
    "learn_dataset_merge['TERMS_OF_EMP'] = le.fit_transform(learn_dataset_merge['TERMS_OF_EMP'])\n",
    "learn_dataset_merge['sex'] = le.fit_transform(learn_dataset_merge['sex'])\n",
    "learn_dataset_merge['emp'] = le.fit_transform(learn_dataset_merge['emp'])\n",
    "learn_dataset_merge['Job_desc'] = le.fit_transform(learn_dataset_merge['Job_desc'])\n",
    "learn_dataset_merge['Familty_type'] = le.fit_transform(learn_dataset_merge['Familty_type'])\n",
    "learn_dataset_merge['Highest_diploma'] = le.fit_transform(learn_dataset_merge['Highest_diploma'])\n",
    "learn_dataset_merge['Eco_sect'] = le.fit_transform(learn_dataset_merge['Eco_sect'])\n",
    "learn_dataset_merge['Employer_category'] = le.fit_transform(learn_dataset_merge['Employer_category'])\n",
    "learn_dataset_merge['employee_count'] = le.fit_transform(learn_dataset_merge['employee_count'])\n",
    "\n",
    "\n",
    "# Afficher le résultat\n",
    "#print(learn_dataset_merge)\n"
   ]
  },
  {
   "cell_type": "code",
   "execution_count": 41,
   "id": "b9fc25cd",
   "metadata": {},
   "outputs": [],
   "source": [
    "from sklearn.preprocessing import LabelEncoder\n",
    "\n",
    "# Initialiser un objet LabelEncoder\n",
    "le = LabelEncoder()\n",
    "\n",
    "\n",
    "test_dataset_merge['WORK_CONDITION'] = le.fit_transform(test_dataset_merge['WORK_CONDITION'])\n",
    "test_dataset_merge['Job_42'] = le.fit_transform(test_dataset_merge['Job_42'])\n",
    "test_dataset_merge['ACT'] = le.fit_transform(test_dataset_merge['ACT'])\n",
    "test_dataset_merge['CLUB'] = le.fit_transform(test_dataset_merge['CLUB'])\n",
    "test_dataset_merge['job_category'] = le.fit_transform(test_dataset_merge['job_category'])\n",
    "test_dataset_merge['TERMS_OF_EMP'] = le.fit_transform(test_dataset_merge['TERMS_OF_EMP'])\n",
    "test_dataset_merge['sex'] = le.fit_transform(test_dataset_merge['sex'])\n",
    "test_dataset_merge['emp'] = le.fit_transform(test_dataset_merge['emp'])\n",
    "test_dataset_merge['Job_desc'] = le.fit_transform(test_dataset_merge['Job_desc'])\n",
    "test_dataset_merge['Familty_type'] = le.fit_transform(test_dataset_merge['Familty_type'])\n",
    "test_dataset_merge['Highest_diploma'] = le.fit_transform(test_dataset_merge['Highest_diploma'])\n",
    "test_dataset_merge['Eco_sect'] = le.fit_transform(test_dataset_merge['Eco_sect'])\n",
    "test_dataset_merge['Employer_category'] = le.fit_transform(test_dataset_merge['Employer_category'])\n",
    "test_dataset_merge['employee_count'] = le.fit_transform(test_dataset_merge['employee_count'])\n",
    "\n",
    "\n",
    "# Afficher le résultat\n",
    "#print(test_dataset_merge)"
   ]
  },
  {
   "cell_type": "code",
   "execution_count": 42,
   "id": "ccdb4f8b",
   "metadata": {},
   "outputs": [],
   "source": [
    "# 1. Extraire la colonne cible du premier DataFrame\n",
    "target_column = learn_dataset_merge['target']\n",
    "\n",
    "# 2. Supprimer la colonne cible du premier DataFrame\n",
    "learn_dataset_merge.drop(columns=['target'], inplace=True)\n",
    "\n",
    "# 3. Ajouter la colonne cible à la fin du DataFrame fusionné\n",
    "learn_dataset_merge['target'] = target_column\n",
    "#learn_dataset_merge.info()"
   ]
  },
  {
   "cell_type": "code",
   "execution_count": 43,
   "id": "7e156863",
   "metadata": {},
   "outputs": [],
   "source": [
    "# Sélectionner les colonnes numériques et booléennes\n",
    "numeric_bool_cols = learn_dataset_merge.select_dtypes(include=['number', 'bool']).columns\n",
    "\n",
    "# Créer un nouveau DataFrame avec uniquement les colonnes numériques et booléennes\n",
    "Learn_encoded_num = learn_dataset_merge[numeric_bool_cols]"
   ]
  },
  {
   "cell_type": "code",
   "execution_count": 44,
   "id": "390a3d3e",
   "metadata": {},
   "outputs": [],
   "source": [
    "# Sélectionner les colonnes numériques et booléennes\n",
    "numeric_bool_cols_test = test_dataset_merge.select_dtypes(include=['number', 'bool']).columns\n",
    "\n",
    "# Créer un nouveau DataFrame avec uniquement les colonnes numériques et booléennes\n",
    "test_encoded_num = test_dataset_merge[numeric_bool_cols_test]"
   ]
  },
  {
   "cell_type": "markdown",
   "id": "e0ed2fdf",
   "metadata": {},
   "source": [
    "# "
   ]
  },
  {
   "cell_type": "markdown",
   "id": "9d4cfd1a",
   "metadata": {},
   "source": []
  },
  {
   "cell_type": "code",
   "execution_count": 45,
   "id": "385102ee",
   "metadata": {},
   "outputs": [],
   "source": [
    "from sklearn.linear_model import LinearRegression\n",
    "from sklearn.ensemble import RandomForestRegressor\n",
    "from sklearn.model_selection import cross_val_score\n",
    "from sklearn.model_selection import train_test_split"
   ]
  },
  {
   "cell_type": "code",
   "execution_count": 46,
   "id": "d390e66e",
   "metadata": {},
   "outputs": [
    {
     "data": {
      "text/html": [
       "<div>\n",
       "<style scoped>\n",
       "    .dataframe tbody tr th:only-of-type {\n",
       "        vertical-align: middle;\n",
       "    }\n",
       "\n",
       "    .dataframe tbody tr th {\n",
       "        vertical-align: top;\n",
       "    }\n",
       "\n",
       "    .dataframe thead th {\n",
       "        text-align: right;\n",
       "    }\n",
       "</style>\n",
       "<table border=\"1\" class=\"dataframe\">\n",
       "  <thead>\n",
       "    <tr style=\"text-align: right;\">\n",
       "      <th></th>\n",
       "      <th>Uid</th>\n",
       "      <th>Familty_type</th>\n",
       "      <th>Highest_diploma</th>\n",
       "      <th>Job_42</th>\n",
       "      <th>ACT</th>\n",
       "      <th>sex</th>\n",
       "      <th>Studying</th>\n",
       "      <th>age_2020</th>\n",
       "      <th>WORK_CONDITION</th>\n",
       "      <th>TERMS_OF_EMP</th>\n",
       "      <th>working_hours</th>\n",
       "      <th>Eco_sect</th>\n",
       "      <th>Employer_category</th>\n",
       "      <th>job_category</th>\n",
       "      <th>Job_desc</th>\n",
       "      <th>EMOLUMENT</th>\n",
       "      <th>employee_count</th>\n",
       "      <th>emp</th>\n",
       "      <th>CLUB</th>\n",
       "      <th>target</th>\n",
       "    </tr>\n",
       "  </thead>\n",
       "  <tbody>\n",
       "    <tr>\n",
       "      <th>0</th>\n",
       "      <td>1</td>\n",
       "      <td>6</td>\n",
       "      <td>3</td>\n",
       "      <td>19</td>\n",
       "      <td>0</td>\n",
       "      <td>1</td>\n",
       "      <td>False</td>\n",
       "      <td>56</td>\n",
       "      <td>2</td>\n",
       "      <td>4</td>\n",
       "      <td>NaN</td>\n",
       "      <td>30</td>\n",
       "      <td>0</td>\n",
       "      <td>1</td>\n",
       "      <td>403</td>\n",
       "      <td>NaN</td>\n",
       "      <td>0</td>\n",
       "      <td>6</td>\n",
       "      <td>0</td>\n",
       "      <td>334.988013</td>\n",
       "    </tr>\n",
       "    <tr>\n",
       "      <th>1</th>\n",
       "      <td>3</td>\n",
       "      <td>4</td>\n",
       "      <td>3</td>\n",
       "      <td>29</td>\n",
       "      <td>0</td>\n",
       "      <td>1</td>\n",
       "      <td>True</td>\n",
       "      <td>19</td>\n",
       "      <td>0</td>\n",
       "      <td>0</td>\n",
       "      <td>607.0</td>\n",
       "      <td>18</td>\n",
       "      <td>9</td>\n",
       "      <td>0</td>\n",
       "      <td>395</td>\n",
       "      <td>3097.0</td>\n",
       "      <td>2</td>\n",
       "      <td>1</td>\n",
       "      <td>0</td>\n",
       "      <td>385.059215</td>\n",
       "    </tr>\n",
       "    <tr>\n",
       "      <th>2</th>\n",
       "      <td>4</td>\n",
       "      <td>0</td>\n",
       "      <td>3</td>\n",
       "      <td>21</td>\n",
       "      <td>0</td>\n",
       "      <td>1</td>\n",
       "      <td>False</td>\n",
       "      <td>47</td>\n",
       "      <td>0</td>\n",
       "      <td>3</td>\n",
       "      <td>1792.0</td>\n",
       "      <td>17</td>\n",
       "      <td>9</td>\n",
       "      <td>2</td>\n",
       "      <td>242</td>\n",
       "      <td>25041.0</td>\n",
       "      <td>2</td>\n",
       "      <td>6</td>\n",
       "      <td>8</td>\n",
       "      <td>311.387009</td>\n",
       "    </tr>\n",
       "    <tr>\n",
       "      <th>3</th>\n",
       "      <td>6</td>\n",
       "      <td>6</td>\n",
       "      <td>8</td>\n",
       "      <td>16</td>\n",
       "      <td>0</td>\n",
       "      <td>1</td>\n",
       "      <td>False</td>\n",
       "      <td>28</td>\n",
       "      <td>0</td>\n",
       "      <td>3</td>\n",
       "      <td>1824.0</td>\n",
       "      <td>18</td>\n",
       "      <td>9</td>\n",
       "      <td>2</td>\n",
       "      <td>142</td>\n",
       "      <td>30782.0</td>\n",
       "      <td>2</td>\n",
       "      <td>6</td>\n",
       "      <td>5</td>\n",
       "      <td>281.922903</td>\n",
       "    </tr>\n",
       "    <tr>\n",
       "      <th>4</th>\n",
       "      <td>10</td>\n",
       "      <td>2</td>\n",
       "      <td>10</td>\n",
       "      <td>38</td>\n",
       "      <td>3</td>\n",
       "      <td>1</td>\n",
       "      <td>True</td>\n",
       "      <td>16</td>\n",
       "      <td>2</td>\n",
       "      <td>4</td>\n",
       "      <td>NaN</td>\n",
       "      <td>30</td>\n",
       "      <td>0</td>\n",
       "      <td>1</td>\n",
       "      <td>403</td>\n",
       "      <td>NaN</td>\n",
       "      <td>0</td>\n",
       "      <td>0</td>\n",
       "      <td>0</td>\n",
       "      <td>602.748256</td>\n",
       "    </tr>\n",
       "  </tbody>\n",
       "</table>\n",
       "</div>"
      ],
      "text/plain": [
       "   Uid  Familty_type  Highest_diploma  Job_42  ACT  sex  Studying  age_2020  \\\n",
       "0    1             6                3      19    0    1     False        56   \n",
       "1    3             4                3      29    0    1      True        19   \n",
       "2    4             0                3      21    0    1     False        47   \n",
       "3    6             6                8      16    0    1     False        28   \n",
       "4   10             2               10      38    3    1      True        16   \n",
       "\n",
       "   WORK_CONDITION  TERMS_OF_EMP  working_hours  Eco_sect  Employer_category  \\\n",
       "0               2             4            NaN        30                  0   \n",
       "1               0             0          607.0        18                  9   \n",
       "2               0             3         1792.0        17                  9   \n",
       "3               0             3         1824.0        18                  9   \n",
       "4               2             4            NaN        30                  0   \n",
       "\n",
       "   job_category  Job_desc  EMOLUMENT  employee_count  emp  CLUB      target  \n",
       "0             1       403        NaN               0    6     0  334.988013  \n",
       "1             0       395     3097.0               2    1     0  385.059215  \n",
       "2             2       242    25041.0               2    6     8  311.387009  \n",
       "3             2       142    30782.0               2    6     5  281.922903  \n",
       "4             1       403        NaN               0    0     0  602.748256  "
      ]
     },
     "execution_count": 46,
     "metadata": {},
     "output_type": "execute_result"
    }
   ],
   "source": [
    "Learn_encoded_num.head()"
   ]
  },
  {
   "cell_type": "markdown",
   "id": "1d94fc36",
   "metadata": {},
   "source": [
    "### Remplacer les valeurs manquantes par la moyenne"
   ]
  },
  {
   "cell_type": "code",
   "execution_count": 47,
   "id": "85e8d443",
   "metadata": {},
   "outputs": [
    {
     "name": "stdout",
     "output_type": "stream",
     "text": [
      "False\n",
      "False\n"
     ]
    }
   ],
   "source": [
    "# Créer une copie du DataFrame test_encoded_num\n",
    "Learn_encoded_nums = Learn_encoded_num.copy()\n",
    "\n",
    "# Remplacer les valeurs manquantes dans la copie\n",
    "Learn_encoded_nums['working_hours'].fillna(Learn_encoded_num['working_hours'].mean(), inplace=True)\n",
    "Learn_encoded_nums['EMOLUMENT'].fillna(Learn_encoded_num['EMOLUMENT'].mean(), inplace=True)\n",
    "print(Learn_encoded_nums['working_hours'].isnull().any())\n",
    "print(Learn_encoded_nums['EMOLUMENT'].isnull().any())"
   ]
  },
  {
   "cell_type": "code",
   "execution_count": 48,
   "id": "0c386d0f",
   "metadata": {},
   "outputs": [],
   "source": [
    "# Créer une copie du DataFrame test_encoded_num\n",
    "Test_encoded_nums = test_encoded_num.copy()\n",
    "\n",
    "# Remplacer les valeurs manquantes dans la copie\n",
    "Test_encoded_nums['working_hours'].fillna(test_encoded_num['working_hours'].mean(), inplace=True)\n",
    "Test_encoded_nums['EMOLUMENT'].fillna(test_encoded_num['EMOLUMENT'].mean(), inplace=True)\n"
   ]
  },
  {
   "cell_type": "code",
   "execution_count": 49,
   "id": "e778d9cd",
   "metadata": {},
   "outputs": [
    {
     "data": {
      "text/html": [
       "<div>\n",
       "<style scoped>\n",
       "    .dataframe tbody tr th:only-of-type {\n",
       "        vertical-align: middle;\n",
       "    }\n",
       "\n",
       "    .dataframe tbody tr th {\n",
       "        vertical-align: top;\n",
       "    }\n",
       "\n",
       "    .dataframe thead th {\n",
       "        text-align: right;\n",
       "    }\n",
       "</style>\n",
       "<table border=\"1\" class=\"dataframe\">\n",
       "  <thead>\n",
       "    <tr style=\"text-align: right;\">\n",
       "      <th></th>\n",
       "      <th>Uid</th>\n",
       "      <th>Familty_type</th>\n",
       "      <th>Highest_diploma</th>\n",
       "      <th>Job_42</th>\n",
       "      <th>ACT</th>\n",
       "      <th>sex</th>\n",
       "      <th>Studying</th>\n",
       "      <th>age_2020</th>\n",
       "      <th>WORK_CONDITION</th>\n",
       "      <th>TERMS_OF_EMP</th>\n",
       "      <th>working_hours</th>\n",
       "      <th>Eco_sect</th>\n",
       "      <th>Employer_category</th>\n",
       "      <th>job_category</th>\n",
       "      <th>Job_desc</th>\n",
       "      <th>EMOLUMENT</th>\n",
       "      <th>employee_count</th>\n",
       "      <th>emp</th>\n",
       "      <th>CLUB</th>\n",
       "    </tr>\n",
       "  </thead>\n",
       "  <tbody>\n",
       "    <tr>\n",
       "      <th>0</th>\n",
       "      <td>2</td>\n",
       "      <td>7</td>\n",
       "      <td>3</td>\n",
       "      <td>18</td>\n",
       "      <td>1</td>\n",
       "      <td>1</td>\n",
       "      <td>False</td>\n",
       "      <td>40</td>\n",
       "      <td>3</td>\n",
       "      <td>6</td>\n",
       "      <td>1508.423023</td>\n",
       "      <td>37</td>\n",
       "      <td>9</td>\n",
       "      <td>3</td>\n",
       "      <td>410</td>\n",
       "      <td>22898.078718</td>\n",
       "      <td>7</td>\n",
       "      <td>9</td>\n",
       "      <td>16</td>\n",
       "    </tr>\n",
       "    <tr>\n",
       "      <th>1</th>\n",
       "      <td>5</td>\n",
       "      <td>8</td>\n",
       "      <td>3</td>\n",
       "      <td>40</td>\n",
       "      <td>5</td>\n",
       "      <td>0</td>\n",
       "      <td>False</td>\n",
       "      <td>72</td>\n",
       "      <td>3</td>\n",
       "      <td>6</td>\n",
       "      <td>1508.423023</td>\n",
       "      <td>37</td>\n",
       "      <td>9</td>\n",
       "      <td>3</td>\n",
       "      <td>410</td>\n",
       "      <td>22898.078718</td>\n",
       "      <td>7</td>\n",
       "      <td>9</td>\n",
       "      <td>4</td>\n",
       "    </tr>\n",
       "    <tr>\n",
       "      <th>2</th>\n",
       "      <td>7</td>\n",
       "      <td>5</td>\n",
       "      <td>5</td>\n",
       "      <td>21</td>\n",
       "      <td>0</td>\n",
       "      <td>0</td>\n",
       "      <td>False</td>\n",
       "      <td>50</td>\n",
       "      <td>0</td>\n",
       "      <td>3</td>\n",
       "      <td>1820.000000</td>\n",
       "      <td>30</td>\n",
       "      <td>0</td>\n",
       "      <td>1</td>\n",
       "      <td>248</td>\n",
       "      <td>27201.000000</td>\n",
       "      <td>3</td>\n",
       "      <td>5</td>\n",
       "      <td>2</td>\n",
       "    </tr>\n",
       "    <tr>\n",
       "      <th>3</th>\n",
       "      <td>8</td>\n",
       "      <td>7</td>\n",
       "      <td>3</td>\n",
       "      <td>16</td>\n",
       "      <td>0</td>\n",
       "      <td>0</td>\n",
       "      <td>False</td>\n",
       "      <td>55</td>\n",
       "      <td>0</td>\n",
       "      <td>3</td>\n",
       "      <td>1820.000000</td>\n",
       "      <td>18</td>\n",
       "      <td>8</td>\n",
       "      <td>1</td>\n",
       "      <td>140</td>\n",
       "      <td>26576.000000</td>\n",
       "      <td>4</td>\n",
       "      <td>5</td>\n",
       "      <td>2</td>\n",
       "    </tr>\n",
       "    <tr>\n",
       "      <th>4</th>\n",
       "      <td>9</td>\n",
       "      <td>5</td>\n",
       "      <td>5</td>\n",
       "      <td>25</td>\n",
       "      <td>0</td>\n",
       "      <td>1</td>\n",
       "      <td>False</td>\n",
       "      <td>37</td>\n",
       "      <td>0</td>\n",
       "      <td>4</td>\n",
       "      <td>877.000000</td>\n",
       "      <td>20</td>\n",
       "      <td>8</td>\n",
       "      <td>1</td>\n",
       "      <td>357</td>\n",
       "      <td>8897.000000</td>\n",
       "      <td>1</td>\n",
       "      <td>4</td>\n",
       "      <td>16</td>\n",
       "    </tr>\n",
       "    <tr>\n",
       "      <th>...</th>\n",
       "      <td>...</td>\n",
       "      <td>...</td>\n",
       "      <td>...</td>\n",
       "      <td>...</td>\n",
       "      <td>...</td>\n",
       "      <td>...</td>\n",
       "      <td>...</td>\n",
       "      <td>...</td>\n",
       "      <td>...</td>\n",
       "      <td>...</td>\n",
       "      <td>...</td>\n",
       "      <td>...</td>\n",
       "      <td>...</td>\n",
       "      <td>...</td>\n",
       "      <td>...</td>\n",
       "      <td>...</td>\n",
       "      <td>...</td>\n",
       "      <td>...</td>\n",
       "      <td>...</td>\n",
       "    </tr>\n",
       "    <tr>\n",
       "      <th>49987</th>\n",
       "      <td>99965</td>\n",
       "      <td>4</td>\n",
       "      <td>2</td>\n",
       "      <td>35</td>\n",
       "      <td>2</td>\n",
       "      <td>0</td>\n",
       "      <td>False</td>\n",
       "      <td>83</td>\n",
       "      <td>3</td>\n",
       "      <td>6</td>\n",
       "      <td>1508.423023</td>\n",
       "      <td>37</td>\n",
       "      <td>9</td>\n",
       "      <td>3</td>\n",
       "      <td>410</td>\n",
       "      <td>22898.078718</td>\n",
       "      <td>7</td>\n",
       "      <td>9</td>\n",
       "      <td>0</td>\n",
       "    </tr>\n",
       "    <tr>\n",
       "      <th>49988</th>\n",
       "      <td>99967</td>\n",
       "      <td>5</td>\n",
       "      <td>11</td>\n",
       "      <td>21</td>\n",
       "      <td>0</td>\n",
       "      <td>0</td>\n",
       "      <td>False</td>\n",
       "      <td>64</td>\n",
       "      <td>2</td>\n",
       "      <td>3</td>\n",
       "      <td>1568.000000</td>\n",
       "      <td>31</td>\n",
       "      <td>7</td>\n",
       "      <td>1</td>\n",
       "      <td>242</td>\n",
       "      <td>19073.000000</td>\n",
       "      <td>1</td>\n",
       "      <td>5</td>\n",
       "      <td>1</td>\n",
       "    </tr>\n",
       "    <tr>\n",
       "      <th>49989</th>\n",
       "      <td>99973</td>\n",
       "      <td>0</td>\n",
       "      <td>5</td>\n",
       "      <td>39</td>\n",
       "      <td>5</td>\n",
       "      <td>1</td>\n",
       "      <td>False</td>\n",
       "      <td>26</td>\n",
       "      <td>3</td>\n",
       "      <td>6</td>\n",
       "      <td>1508.423023</td>\n",
       "      <td>37</td>\n",
       "      <td>9</td>\n",
       "      <td>3</td>\n",
       "      <td>410</td>\n",
       "      <td>22898.078718</td>\n",
       "      <td>7</td>\n",
       "      <td>9</td>\n",
       "      <td>5</td>\n",
       "    </tr>\n",
       "    <tr>\n",
       "      <th>49990</th>\n",
       "      <td>99976</td>\n",
       "      <td>1</td>\n",
       "      <td>10</td>\n",
       "      <td>40</td>\n",
       "      <td>2</td>\n",
       "      <td>0</td>\n",
       "      <td>False</td>\n",
       "      <td>89</td>\n",
       "      <td>3</td>\n",
       "      <td>6</td>\n",
       "      <td>1508.423023</td>\n",
       "      <td>37</td>\n",
       "      <td>9</td>\n",
       "      <td>3</td>\n",
       "      <td>410</td>\n",
       "      <td>22898.078718</td>\n",
       "      <td>7</td>\n",
       "      <td>9</td>\n",
       "      <td>0</td>\n",
       "    </tr>\n",
       "    <tr>\n",
       "      <th>49991</th>\n",
       "      <td>99981</td>\n",
       "      <td>5</td>\n",
       "      <td>5</td>\n",
       "      <td>21</td>\n",
       "      <td>0</td>\n",
       "      <td>0</td>\n",
       "      <td>False</td>\n",
       "      <td>28</td>\n",
       "      <td>0</td>\n",
       "      <td>3</td>\n",
       "      <td>1916.000000</td>\n",
       "      <td>23</td>\n",
       "      <td>8</td>\n",
       "      <td>1</td>\n",
       "      <td>248</td>\n",
       "      <td>26056.000000</td>\n",
       "      <td>6</td>\n",
       "      <td>5</td>\n",
       "      <td>31</td>\n",
       "    </tr>\n",
       "  </tbody>\n",
       "</table>\n",
       "<p>49992 rows × 19 columns</p>\n",
       "</div>"
      ],
      "text/plain": [
       "         Uid  Familty_type  Highest_diploma  Job_42  ACT  sex  Studying  \\\n",
       "0          2             7                3      18    1    1     False   \n",
       "1          5             8                3      40    5    0     False   \n",
       "2          7             5                5      21    0    0     False   \n",
       "3          8             7                3      16    0    0     False   \n",
       "4          9             5                5      25    0    1     False   \n",
       "...      ...           ...              ...     ...  ...  ...       ...   \n",
       "49987  99965             4                2      35    2    0     False   \n",
       "49988  99967             5               11      21    0    0     False   \n",
       "49989  99973             0                5      39    5    1     False   \n",
       "49990  99976             1               10      40    2    0     False   \n",
       "49991  99981             5                5      21    0    0     False   \n",
       "\n",
       "       age_2020  WORK_CONDITION  TERMS_OF_EMP  working_hours  Eco_sect  \\\n",
       "0            40               3             6    1508.423023        37   \n",
       "1            72               3             6    1508.423023        37   \n",
       "2            50               0             3    1820.000000        30   \n",
       "3            55               0             3    1820.000000        18   \n",
       "4            37               0             4     877.000000        20   \n",
       "...         ...             ...           ...            ...       ...   \n",
       "49987        83               3             6    1508.423023        37   \n",
       "49988        64               2             3    1568.000000        31   \n",
       "49989        26               3             6    1508.423023        37   \n",
       "49990        89               3             6    1508.423023        37   \n",
       "49991        28               0             3    1916.000000        23   \n",
       "\n",
       "       Employer_category  job_category  Job_desc     EMOLUMENT  \\\n",
       "0                      9             3       410  22898.078718   \n",
       "1                      9             3       410  22898.078718   \n",
       "2                      0             1       248  27201.000000   \n",
       "3                      8             1       140  26576.000000   \n",
       "4                      8             1       357   8897.000000   \n",
       "...                  ...           ...       ...           ...   \n",
       "49987                  9             3       410  22898.078718   \n",
       "49988                  7             1       242  19073.000000   \n",
       "49989                  9             3       410  22898.078718   \n",
       "49990                  9             3       410  22898.078718   \n",
       "49991                  8             1       248  26056.000000   \n",
       "\n",
       "       employee_count  emp  CLUB  \n",
       "0                   7    9    16  \n",
       "1                   7    9     4  \n",
       "2                   3    5     2  \n",
       "3                   4    5     2  \n",
       "4                   1    4    16  \n",
       "...               ...  ...   ...  \n",
       "49987               7    9     0  \n",
       "49988               1    5     1  \n",
       "49989               7    9     5  \n",
       "49990               7    9     0  \n",
       "49991               6    5    31  \n",
       "\n",
       "[49992 rows x 19 columns]"
      ]
     },
     "execution_count": 49,
     "metadata": {},
     "output_type": "execute_result"
    }
   ],
   "source": [
    "Test_encoded_nums"
   ]
  },
  {
   "cell_type": "code",
   "execution_count": 50,
   "id": "b6d6e1b0",
   "metadata": {},
   "outputs": [
    {
     "data": {
      "text/html": [
       "<div>\n",
       "<style scoped>\n",
       "    .dataframe tbody tr th:only-of-type {\n",
       "        vertical-align: middle;\n",
       "    }\n",
       "\n",
       "    .dataframe tbody tr th {\n",
       "        vertical-align: top;\n",
       "    }\n",
       "\n",
       "    .dataframe thead th {\n",
       "        text-align: right;\n",
       "    }\n",
       "</style>\n",
       "<table border=\"1\" class=\"dataframe\">\n",
       "  <thead>\n",
       "    <tr style=\"text-align: right;\">\n",
       "      <th></th>\n",
       "      <th>Uid</th>\n",
       "      <th>Familty_type</th>\n",
       "      <th>Highest_diploma</th>\n",
       "      <th>Job_42</th>\n",
       "      <th>ACT</th>\n",
       "      <th>sex</th>\n",
       "      <th>Studying</th>\n",
       "      <th>age_2020</th>\n",
       "      <th>WORK_CONDITION</th>\n",
       "      <th>TERMS_OF_EMP</th>\n",
       "      <th>working_hours</th>\n",
       "      <th>Eco_sect</th>\n",
       "      <th>Employer_category</th>\n",
       "      <th>job_category</th>\n",
       "      <th>Job_desc</th>\n",
       "      <th>EMOLUMENT</th>\n",
       "      <th>employee_count</th>\n",
       "      <th>emp</th>\n",
       "      <th>CLUB</th>\n",
       "      <th>target</th>\n",
       "    </tr>\n",
       "  </thead>\n",
       "  <tbody>\n",
       "    <tr>\n",
       "      <th>0</th>\n",
       "      <td>1</td>\n",
       "      <td>6</td>\n",
       "      <td>3</td>\n",
       "      <td>19</td>\n",
       "      <td>0</td>\n",
       "      <td>1</td>\n",
       "      <td>False</td>\n",
       "      <td>56</td>\n",
       "      <td>2</td>\n",
       "      <td>4</td>\n",
       "      <td>1517.366448</td>\n",
       "      <td>30</td>\n",
       "      <td>0</td>\n",
       "      <td>1</td>\n",
       "      <td>403</td>\n",
       "      <td>23145.556807</td>\n",
       "      <td>0</td>\n",
       "      <td>6</td>\n",
       "      <td>0</td>\n",
       "      <td>334.988013</td>\n",
       "    </tr>\n",
       "    <tr>\n",
       "      <th>1</th>\n",
       "      <td>3</td>\n",
       "      <td>4</td>\n",
       "      <td>3</td>\n",
       "      <td>29</td>\n",
       "      <td>0</td>\n",
       "      <td>1</td>\n",
       "      <td>True</td>\n",
       "      <td>19</td>\n",
       "      <td>0</td>\n",
       "      <td>0</td>\n",
       "      <td>607.000000</td>\n",
       "      <td>18</td>\n",
       "      <td>9</td>\n",
       "      <td>0</td>\n",
       "      <td>395</td>\n",
       "      <td>3097.000000</td>\n",
       "      <td>2</td>\n",
       "      <td>1</td>\n",
       "      <td>0</td>\n",
       "      <td>385.059215</td>\n",
       "    </tr>\n",
       "    <tr>\n",
       "      <th>2</th>\n",
       "      <td>4</td>\n",
       "      <td>0</td>\n",
       "      <td>3</td>\n",
       "      <td>21</td>\n",
       "      <td>0</td>\n",
       "      <td>1</td>\n",
       "      <td>False</td>\n",
       "      <td>47</td>\n",
       "      <td>0</td>\n",
       "      <td>3</td>\n",
       "      <td>1792.000000</td>\n",
       "      <td>17</td>\n",
       "      <td>9</td>\n",
       "      <td>2</td>\n",
       "      <td>242</td>\n",
       "      <td>25041.000000</td>\n",
       "      <td>2</td>\n",
       "      <td>6</td>\n",
       "      <td>8</td>\n",
       "      <td>311.387009</td>\n",
       "    </tr>\n",
       "    <tr>\n",
       "      <th>3</th>\n",
       "      <td>6</td>\n",
       "      <td>6</td>\n",
       "      <td>8</td>\n",
       "      <td>16</td>\n",
       "      <td>0</td>\n",
       "      <td>1</td>\n",
       "      <td>False</td>\n",
       "      <td>28</td>\n",
       "      <td>0</td>\n",
       "      <td>3</td>\n",
       "      <td>1824.000000</td>\n",
       "      <td>18</td>\n",
       "      <td>9</td>\n",
       "      <td>2</td>\n",
       "      <td>142</td>\n",
       "      <td>30782.000000</td>\n",
       "      <td>2</td>\n",
       "      <td>6</td>\n",
       "      <td>5</td>\n",
       "      <td>281.922903</td>\n",
       "    </tr>\n",
       "    <tr>\n",
       "      <th>4</th>\n",
       "      <td>10</td>\n",
       "      <td>2</td>\n",
       "      <td>10</td>\n",
       "      <td>38</td>\n",
       "      <td>3</td>\n",
       "      <td>1</td>\n",
       "      <td>True</td>\n",
       "      <td>16</td>\n",
       "      <td>2</td>\n",
       "      <td>4</td>\n",
       "      <td>1517.366448</td>\n",
       "      <td>30</td>\n",
       "      <td>0</td>\n",
       "      <td>1</td>\n",
       "      <td>403</td>\n",
       "      <td>23145.556807</td>\n",
       "      <td>0</td>\n",
       "      <td>0</td>\n",
       "      <td>0</td>\n",
       "      <td>602.748256</td>\n",
       "    </tr>\n",
       "    <tr>\n",
       "      <th>...</th>\n",
       "      <td>...</td>\n",
       "      <td>...</td>\n",
       "      <td>...</td>\n",
       "      <td>...</td>\n",
       "      <td>...</td>\n",
       "      <td>...</td>\n",
       "      <td>...</td>\n",
       "      <td>...</td>\n",
       "      <td>...</td>\n",
       "      <td>...</td>\n",
       "      <td>...</td>\n",
       "      <td>...</td>\n",
       "      <td>...</td>\n",
       "      <td>...</td>\n",
       "      <td>...</td>\n",
       "      <td>...</td>\n",
       "      <td>...</td>\n",
       "      <td>...</td>\n",
       "      <td>...</td>\n",
       "      <td>...</td>\n",
       "    </tr>\n",
       "    <tr>\n",
       "      <th>49988</th>\n",
       "      <td>99980</td>\n",
       "      <td>8</td>\n",
       "      <td>6</td>\n",
       "      <td>16</td>\n",
       "      <td>0</td>\n",
       "      <td>1</td>\n",
       "      <td>False</td>\n",
       "      <td>27</td>\n",
       "      <td>0</td>\n",
       "      <td>6</td>\n",
       "      <td>951.000000</td>\n",
       "      <td>29</td>\n",
       "      <td>9</td>\n",
       "      <td>2</td>\n",
       "      <td>146</td>\n",
       "      <td>11943.000000</td>\n",
       "      <td>1</td>\n",
       "      <td>2</td>\n",
       "      <td>5</td>\n",
       "      <td>285.313635</td>\n",
       "    </tr>\n",
       "    <tr>\n",
       "      <th>49989</th>\n",
       "      <td>99982</td>\n",
       "      <td>2</td>\n",
       "      <td>6</td>\n",
       "      <td>10</td>\n",
       "      <td>0</td>\n",
       "      <td>0</td>\n",
       "      <td>False</td>\n",
       "      <td>57</td>\n",
       "      <td>0</td>\n",
       "      <td>3</td>\n",
       "      <td>1813.000000</td>\n",
       "      <td>24</td>\n",
       "      <td>9</td>\n",
       "      <td>2</td>\n",
       "      <td>55</td>\n",
       "      <td>39930.000000</td>\n",
       "      <td>7</td>\n",
       "      <td>6</td>\n",
       "      <td>3</td>\n",
       "      <td>265.463420</td>\n",
       "    </tr>\n",
       "    <tr>\n",
       "      <th>49990</th>\n",
       "      <td>99983</td>\n",
       "      <td>8</td>\n",
       "      <td>3</td>\n",
       "      <td>19</td>\n",
       "      <td>1</td>\n",
       "      <td>1</td>\n",
       "      <td>False</td>\n",
       "      <td>34</td>\n",
       "      <td>2</td>\n",
       "      <td>4</td>\n",
       "      <td>1517.366448</td>\n",
       "      <td>30</td>\n",
       "      <td>0</td>\n",
       "      <td>1</td>\n",
       "      <td>403</td>\n",
       "      <td>23145.556807</td>\n",
       "      <td>0</td>\n",
       "      <td>0</td>\n",
       "      <td>12</td>\n",
       "      <td>523.862954</td>\n",
       "    </tr>\n",
       "    <tr>\n",
       "      <th>49991</th>\n",
       "      <td>99984</td>\n",
       "      <td>7</td>\n",
       "      <td>8</td>\n",
       "      <td>10</td>\n",
       "      <td>1</td>\n",
       "      <td>1</td>\n",
       "      <td>False</td>\n",
       "      <td>62</td>\n",
       "      <td>2</td>\n",
       "      <td>4</td>\n",
       "      <td>1517.366448</td>\n",
       "      <td>30</td>\n",
       "      <td>0</td>\n",
       "      <td>1</td>\n",
       "      <td>403</td>\n",
       "      <td>23145.556807</td>\n",
       "      <td>0</td>\n",
       "      <td>0</td>\n",
       "      <td>1</td>\n",
       "      <td>433.191678</td>\n",
       "    </tr>\n",
       "    <tr>\n",
       "      <th>49992</th>\n",
       "      <td>99985</td>\n",
       "      <td>1</td>\n",
       "      <td>4</td>\n",
       "      <td>34</td>\n",
       "      <td>2</td>\n",
       "      <td>0</td>\n",
       "      <td>False</td>\n",
       "      <td>75</td>\n",
       "      <td>2</td>\n",
       "      <td>4</td>\n",
       "      <td>1517.366448</td>\n",
       "      <td>30</td>\n",
       "      <td>0</td>\n",
       "      <td>1</td>\n",
       "      <td>403</td>\n",
       "      <td>23145.556807</td>\n",
       "      <td>0</td>\n",
       "      <td>0</td>\n",
       "      <td>80</td>\n",
       "      <td>345.456129</td>\n",
       "    </tr>\n",
       "  </tbody>\n",
       "</table>\n",
       "<p>49993 rows × 20 columns</p>\n",
       "</div>"
      ],
      "text/plain": [
       "         Uid  Familty_type  Highest_diploma  Job_42  ACT  sex  Studying  \\\n",
       "0          1             6                3      19    0    1     False   \n",
       "1          3             4                3      29    0    1      True   \n",
       "2          4             0                3      21    0    1     False   \n",
       "3          6             6                8      16    0    1     False   \n",
       "4         10             2               10      38    3    1      True   \n",
       "...      ...           ...              ...     ...  ...  ...       ...   \n",
       "49988  99980             8                6      16    0    1     False   \n",
       "49989  99982             2                6      10    0    0     False   \n",
       "49990  99983             8                3      19    1    1     False   \n",
       "49991  99984             7                8      10    1    1     False   \n",
       "49992  99985             1                4      34    2    0     False   \n",
       "\n",
       "       age_2020  WORK_CONDITION  TERMS_OF_EMP  working_hours  Eco_sect  \\\n",
       "0            56               2             4    1517.366448        30   \n",
       "1            19               0             0     607.000000        18   \n",
       "2            47               0             3    1792.000000        17   \n",
       "3            28               0             3    1824.000000        18   \n",
       "4            16               2             4    1517.366448        30   \n",
       "...         ...             ...           ...            ...       ...   \n",
       "49988        27               0             6     951.000000        29   \n",
       "49989        57               0             3    1813.000000        24   \n",
       "49990        34               2             4    1517.366448        30   \n",
       "49991        62               2             4    1517.366448        30   \n",
       "49992        75               2             4    1517.366448        30   \n",
       "\n",
       "       Employer_category  job_category  Job_desc     EMOLUMENT  \\\n",
       "0                      0             1       403  23145.556807   \n",
       "1                      9             0       395   3097.000000   \n",
       "2                      9             2       242  25041.000000   \n",
       "3                      9             2       142  30782.000000   \n",
       "4                      0             1       403  23145.556807   \n",
       "...                  ...           ...       ...           ...   \n",
       "49988                  9             2       146  11943.000000   \n",
       "49989                  9             2        55  39930.000000   \n",
       "49990                  0             1       403  23145.556807   \n",
       "49991                  0             1       403  23145.556807   \n",
       "49992                  0             1       403  23145.556807   \n",
       "\n",
       "       employee_count  emp  CLUB      target  \n",
       "0                   0    6     0  334.988013  \n",
       "1                   2    1     0  385.059215  \n",
       "2                   2    6     8  311.387009  \n",
       "3                   2    6     5  281.922903  \n",
       "4                   0    0     0  602.748256  \n",
       "...               ...  ...   ...         ...  \n",
       "49988               1    2     5  285.313635  \n",
       "49989               7    6     3  265.463420  \n",
       "49990               0    0    12  523.862954  \n",
       "49991               0    0     1  433.191678  \n",
       "49992               0    0    80  345.456129  \n",
       "\n",
       "[49993 rows x 20 columns]"
      ]
     },
     "execution_count": 50,
     "metadata": {},
     "output_type": "execute_result"
    }
   ],
   "source": [
    "Learn_encoded_nums"
   ]
  },
  {
   "cell_type": "code",
   "execution_count": 51,
   "id": "0638256d",
   "metadata": {},
   "outputs": [],
   "source": [
    "# Cible (Y) quality\n",
    "# variables explicatives (X) les autres\n",
    "y = Learn_encoded_nums[\"target\"]\n",
    "x = Learn_encoded_nums.drop([\"target\"], axis=1)\n",
    "\n",
    "# Apprentissage/test\n",
    "from sklearn.model_selection import train_test_split\n",
    "#x_train, x_test, y_train, y_test = train_test_split(X, Y, train_size=0.8, random_state=42)\n",
    "\n",
    "# Séparation des données en ensembles d'entraînement et de test\n",
    "x_train, x_test, y_train, y_test = train_test_split(x, y, train_size=0.8, random_state=42)\n"
   ]
  },
  {
   "cell_type": "code",
   "execution_count": 52,
   "id": "af612e77",
   "metadata": {},
   "outputs": [],
   "source": [
    "X_test = Test_encoded_nums"
   ]
  },
  {
   "cell_type": "code",
   "execution_count": null,
   "id": "1cbe1736",
   "metadata": {},
   "outputs": [],
   "source": []
  },
  {
   "cell_type": "markdown",
   "id": "ac8d0860",
   "metadata": {},
   "source": [
    "## 5. Sélection des algorithmes d'apprentissage supervisé : <a id=\"section-5\"></a>"
   ]
  },
  {
   "cell_type": "code",
   "execution_count": 53,
   "id": "0ad87a77",
   "metadata": {},
   "outputs": [],
   "source": [
    "### 6.1 Modèle Linéaire"
   ]
  },
  {
   "cell_type": "code",
   "execution_count": 54,
   "id": "789305bf",
   "metadata": {},
   "outputs": [],
   "source": [
    "model_linear = LinearRegression()"
   ]
  },
  {
   "cell_type": "code",
   "execution_count": 55,
   "id": "701880c8",
   "metadata": {},
   "outputs": [],
   "source": [
    "### 6.2 Random Forest"
   ]
  },
  {
   "cell_type": "code",
   "execution_count": 56,
   "id": "c9711267",
   "metadata": {},
   "outputs": [],
   "source": [
    "model_rf = RandomForestRegressor()"
   ]
  },
  {
   "cell_type": "code",
   "execution_count": 57,
   "id": "4ea19612",
   "metadata": {},
   "outputs": [],
   "source": [
    "### 6.3 Plus proches voisins"
   ]
  },
  {
   "cell_type": "code",
   "execution_count": 58,
   "id": "a421a0db",
   "metadata": {},
   "outputs": [],
   "source": [
    "model_knn = KNeighborsRegressor()"
   ]
  },
  {
   "cell_type": "code",
   "execution_count": 59,
   "id": "9640f53e",
   "metadata": {},
   "outputs": [],
   "source": [
    "### 6.4 SVM"
   ]
  },
  {
   "cell_type": "code",
   "execution_count": 60,
   "id": "20d23685",
   "metadata": {},
   "outputs": [],
   "source": [
    "model_svm = SVR()"
   ]
  },
  {
   "cell_type": "markdown",
   "id": "63d19083",
   "metadata": {},
   "source": [
    "### Entrainons les modèles"
   ]
  },
  {
   "cell_type": "code",
   "execution_count": 61,
   "id": "2d2b9cfe",
   "metadata": {},
   "outputs": [
    {
     "data": {
      "text/html": [
       "<style>#sk-container-id-1 {color: black;background-color: white;}#sk-container-id-1 pre{padding: 0;}#sk-container-id-1 div.sk-toggleable {background-color: white;}#sk-container-id-1 label.sk-toggleable__label {cursor: pointer;display: block;width: 100%;margin-bottom: 0;padding: 0.3em;box-sizing: border-box;text-align: center;}#sk-container-id-1 label.sk-toggleable__label-arrow:before {content: \"▸\";float: left;margin-right: 0.25em;color: #696969;}#sk-container-id-1 label.sk-toggleable__label-arrow:hover:before {color: black;}#sk-container-id-1 div.sk-estimator:hover label.sk-toggleable__label-arrow:before {color: black;}#sk-container-id-1 div.sk-toggleable__content {max-height: 0;max-width: 0;overflow: hidden;text-align: left;background-color: #f0f8ff;}#sk-container-id-1 div.sk-toggleable__content pre {margin: 0.2em;color: black;border-radius: 0.25em;background-color: #f0f8ff;}#sk-container-id-1 input.sk-toggleable__control:checked~div.sk-toggleable__content {max-height: 200px;max-width: 100%;overflow: auto;}#sk-container-id-1 input.sk-toggleable__control:checked~label.sk-toggleable__label-arrow:before {content: \"▾\";}#sk-container-id-1 div.sk-estimator input.sk-toggleable__control:checked~label.sk-toggleable__label {background-color: #d4ebff;}#sk-container-id-1 div.sk-label input.sk-toggleable__control:checked~label.sk-toggleable__label {background-color: #d4ebff;}#sk-container-id-1 input.sk-hidden--visually {border: 0;clip: rect(1px 1px 1px 1px);clip: rect(1px, 1px, 1px, 1px);height: 1px;margin: -1px;overflow: hidden;padding: 0;position: absolute;width: 1px;}#sk-container-id-1 div.sk-estimator {font-family: monospace;background-color: #f0f8ff;border: 1px dotted black;border-radius: 0.25em;box-sizing: border-box;margin-bottom: 0.5em;}#sk-container-id-1 div.sk-estimator:hover {background-color: #d4ebff;}#sk-container-id-1 div.sk-parallel-item::after {content: \"\";width: 100%;border-bottom: 1px solid gray;flex-grow: 1;}#sk-container-id-1 div.sk-label:hover label.sk-toggleable__label {background-color: #d4ebff;}#sk-container-id-1 div.sk-serial::before {content: \"\";position: absolute;border-left: 1px solid gray;box-sizing: border-box;top: 0;bottom: 0;left: 50%;z-index: 0;}#sk-container-id-1 div.sk-serial {display: flex;flex-direction: column;align-items: center;background-color: white;padding-right: 0.2em;padding-left: 0.2em;position: relative;}#sk-container-id-1 div.sk-item {position: relative;z-index: 1;}#sk-container-id-1 div.sk-parallel {display: flex;align-items: stretch;justify-content: center;background-color: white;position: relative;}#sk-container-id-1 div.sk-item::before, #sk-container-id-1 div.sk-parallel-item::before {content: \"\";position: absolute;border-left: 1px solid gray;box-sizing: border-box;top: 0;bottom: 0;left: 50%;z-index: -1;}#sk-container-id-1 div.sk-parallel-item {display: flex;flex-direction: column;z-index: 1;position: relative;background-color: white;}#sk-container-id-1 div.sk-parallel-item:first-child::after {align-self: flex-end;width: 50%;}#sk-container-id-1 div.sk-parallel-item:last-child::after {align-self: flex-start;width: 50%;}#sk-container-id-1 div.sk-parallel-item:only-child::after {width: 0;}#sk-container-id-1 div.sk-dashed-wrapped {border: 1px dashed gray;margin: 0 0.4em 0.5em 0.4em;box-sizing: border-box;padding-bottom: 0.4em;background-color: white;}#sk-container-id-1 div.sk-label label {font-family: monospace;font-weight: bold;display: inline-block;line-height: 1.2em;}#sk-container-id-1 div.sk-label-container {text-align: center;}#sk-container-id-1 div.sk-container {/* jupyter's `normalize.less` sets `[hidden] { display: none; }` but bootstrap.min.css set `[hidden] { display: none !important; }` so we also need the `!important` here to be able to override the default hidden behavior on the sphinx rendered scikit-learn.org. See: https://github.com/scikit-learn/scikit-learn/issues/21755 */display: inline-block !important;position: relative;}#sk-container-id-1 div.sk-text-repr-fallback {display: none;}</style><div id=\"sk-container-id-1\" class=\"sk-top-container\"><div class=\"sk-text-repr-fallback\"><pre>LinearRegression()</pre><b>In a Jupyter environment, please rerun this cell to show the HTML representation or trust the notebook. <br />On GitHub, the HTML representation is unable to render, please try loading this page with nbviewer.org.</b></div><div class=\"sk-container\" hidden><div class=\"sk-item\"><div class=\"sk-estimator sk-toggleable\"><input class=\"sk-toggleable__control sk-hidden--visually\" id=\"sk-estimator-id-1\" type=\"checkbox\" checked><label for=\"sk-estimator-id-1\" class=\"sk-toggleable__label sk-toggleable__label-arrow\">LinearRegression</label><div class=\"sk-toggleable__content\"><pre>LinearRegression()</pre></div></div></div></div></div>"
      ],
      "text/plain": [
       "LinearRegression()"
      ]
     },
     "execution_count": 61,
     "metadata": {},
     "output_type": "execute_result"
    }
   ],
   "source": [
    "model_linear.fit(x_train, y_train)"
   ]
  },
  {
   "cell_type": "code",
   "execution_count": 62,
   "id": "c6a031b0",
   "metadata": {},
   "outputs": [
    {
     "data": {
      "text/html": [
       "<style>#sk-container-id-2 {color: black;background-color: white;}#sk-container-id-2 pre{padding: 0;}#sk-container-id-2 div.sk-toggleable {background-color: white;}#sk-container-id-2 label.sk-toggleable__label {cursor: pointer;display: block;width: 100%;margin-bottom: 0;padding: 0.3em;box-sizing: border-box;text-align: center;}#sk-container-id-2 label.sk-toggleable__label-arrow:before {content: \"▸\";float: left;margin-right: 0.25em;color: #696969;}#sk-container-id-2 label.sk-toggleable__label-arrow:hover:before {color: black;}#sk-container-id-2 div.sk-estimator:hover label.sk-toggleable__label-arrow:before {color: black;}#sk-container-id-2 div.sk-toggleable__content {max-height: 0;max-width: 0;overflow: hidden;text-align: left;background-color: #f0f8ff;}#sk-container-id-2 div.sk-toggleable__content pre {margin: 0.2em;color: black;border-radius: 0.25em;background-color: #f0f8ff;}#sk-container-id-2 input.sk-toggleable__control:checked~div.sk-toggleable__content {max-height: 200px;max-width: 100%;overflow: auto;}#sk-container-id-2 input.sk-toggleable__control:checked~label.sk-toggleable__label-arrow:before {content: \"▾\";}#sk-container-id-2 div.sk-estimator input.sk-toggleable__control:checked~label.sk-toggleable__label {background-color: #d4ebff;}#sk-container-id-2 div.sk-label input.sk-toggleable__control:checked~label.sk-toggleable__label {background-color: #d4ebff;}#sk-container-id-2 input.sk-hidden--visually {border: 0;clip: rect(1px 1px 1px 1px);clip: rect(1px, 1px, 1px, 1px);height: 1px;margin: -1px;overflow: hidden;padding: 0;position: absolute;width: 1px;}#sk-container-id-2 div.sk-estimator {font-family: monospace;background-color: #f0f8ff;border: 1px dotted black;border-radius: 0.25em;box-sizing: border-box;margin-bottom: 0.5em;}#sk-container-id-2 div.sk-estimator:hover {background-color: #d4ebff;}#sk-container-id-2 div.sk-parallel-item::after {content: \"\";width: 100%;border-bottom: 1px solid gray;flex-grow: 1;}#sk-container-id-2 div.sk-label:hover label.sk-toggleable__label {background-color: #d4ebff;}#sk-container-id-2 div.sk-serial::before {content: \"\";position: absolute;border-left: 1px solid gray;box-sizing: border-box;top: 0;bottom: 0;left: 50%;z-index: 0;}#sk-container-id-2 div.sk-serial {display: flex;flex-direction: column;align-items: center;background-color: white;padding-right: 0.2em;padding-left: 0.2em;position: relative;}#sk-container-id-2 div.sk-item {position: relative;z-index: 1;}#sk-container-id-2 div.sk-parallel {display: flex;align-items: stretch;justify-content: center;background-color: white;position: relative;}#sk-container-id-2 div.sk-item::before, #sk-container-id-2 div.sk-parallel-item::before {content: \"\";position: absolute;border-left: 1px solid gray;box-sizing: border-box;top: 0;bottom: 0;left: 50%;z-index: -1;}#sk-container-id-2 div.sk-parallel-item {display: flex;flex-direction: column;z-index: 1;position: relative;background-color: white;}#sk-container-id-2 div.sk-parallel-item:first-child::after {align-self: flex-end;width: 50%;}#sk-container-id-2 div.sk-parallel-item:last-child::after {align-self: flex-start;width: 50%;}#sk-container-id-2 div.sk-parallel-item:only-child::after {width: 0;}#sk-container-id-2 div.sk-dashed-wrapped {border: 1px dashed gray;margin: 0 0.4em 0.5em 0.4em;box-sizing: border-box;padding-bottom: 0.4em;background-color: white;}#sk-container-id-2 div.sk-label label {font-family: monospace;font-weight: bold;display: inline-block;line-height: 1.2em;}#sk-container-id-2 div.sk-label-container {text-align: center;}#sk-container-id-2 div.sk-container {/* jupyter's `normalize.less` sets `[hidden] { display: none; }` but bootstrap.min.css set `[hidden] { display: none !important; }` so we also need the `!important` here to be able to override the default hidden behavior on the sphinx rendered scikit-learn.org. See: https://github.com/scikit-learn/scikit-learn/issues/21755 */display: inline-block !important;position: relative;}#sk-container-id-2 div.sk-text-repr-fallback {display: none;}</style><div id=\"sk-container-id-2\" class=\"sk-top-container\"><div class=\"sk-text-repr-fallback\"><pre>RandomForestRegressor()</pre><b>In a Jupyter environment, please rerun this cell to show the HTML representation or trust the notebook. <br />On GitHub, the HTML representation is unable to render, please try loading this page with nbviewer.org.</b></div><div class=\"sk-container\" hidden><div class=\"sk-item\"><div class=\"sk-estimator sk-toggleable\"><input class=\"sk-toggleable__control sk-hidden--visually\" id=\"sk-estimator-id-2\" type=\"checkbox\" checked><label for=\"sk-estimator-id-2\" class=\"sk-toggleable__label sk-toggleable__label-arrow\">RandomForestRegressor</label><div class=\"sk-toggleable__content\"><pre>RandomForestRegressor()</pre></div></div></div></div></div>"
      ],
      "text/plain": [
       "RandomForestRegressor()"
      ]
     },
     "execution_count": 62,
     "metadata": {},
     "output_type": "execute_result"
    }
   ],
   "source": [
    "model_rf.fit(x_train, y_train)"
   ]
  },
  {
   "cell_type": "code",
   "execution_count": 63,
   "id": "9ce509d6",
   "metadata": {},
   "outputs": [
    {
     "data": {
      "text/html": [
       "<style>#sk-container-id-3 {color: black;background-color: white;}#sk-container-id-3 pre{padding: 0;}#sk-container-id-3 div.sk-toggleable {background-color: white;}#sk-container-id-3 label.sk-toggleable__label {cursor: pointer;display: block;width: 100%;margin-bottom: 0;padding: 0.3em;box-sizing: border-box;text-align: center;}#sk-container-id-3 label.sk-toggleable__label-arrow:before {content: \"▸\";float: left;margin-right: 0.25em;color: #696969;}#sk-container-id-3 label.sk-toggleable__label-arrow:hover:before {color: black;}#sk-container-id-3 div.sk-estimator:hover label.sk-toggleable__label-arrow:before {color: black;}#sk-container-id-3 div.sk-toggleable__content {max-height: 0;max-width: 0;overflow: hidden;text-align: left;background-color: #f0f8ff;}#sk-container-id-3 div.sk-toggleable__content pre {margin: 0.2em;color: black;border-radius: 0.25em;background-color: #f0f8ff;}#sk-container-id-3 input.sk-toggleable__control:checked~div.sk-toggleable__content {max-height: 200px;max-width: 100%;overflow: auto;}#sk-container-id-3 input.sk-toggleable__control:checked~label.sk-toggleable__label-arrow:before {content: \"▾\";}#sk-container-id-3 div.sk-estimator input.sk-toggleable__control:checked~label.sk-toggleable__label {background-color: #d4ebff;}#sk-container-id-3 div.sk-label input.sk-toggleable__control:checked~label.sk-toggleable__label {background-color: #d4ebff;}#sk-container-id-3 input.sk-hidden--visually {border: 0;clip: rect(1px 1px 1px 1px);clip: rect(1px, 1px, 1px, 1px);height: 1px;margin: -1px;overflow: hidden;padding: 0;position: absolute;width: 1px;}#sk-container-id-3 div.sk-estimator {font-family: monospace;background-color: #f0f8ff;border: 1px dotted black;border-radius: 0.25em;box-sizing: border-box;margin-bottom: 0.5em;}#sk-container-id-3 div.sk-estimator:hover {background-color: #d4ebff;}#sk-container-id-3 div.sk-parallel-item::after {content: \"\";width: 100%;border-bottom: 1px solid gray;flex-grow: 1;}#sk-container-id-3 div.sk-label:hover label.sk-toggleable__label {background-color: #d4ebff;}#sk-container-id-3 div.sk-serial::before {content: \"\";position: absolute;border-left: 1px solid gray;box-sizing: border-box;top: 0;bottom: 0;left: 50%;z-index: 0;}#sk-container-id-3 div.sk-serial {display: flex;flex-direction: column;align-items: center;background-color: white;padding-right: 0.2em;padding-left: 0.2em;position: relative;}#sk-container-id-3 div.sk-item {position: relative;z-index: 1;}#sk-container-id-3 div.sk-parallel {display: flex;align-items: stretch;justify-content: center;background-color: white;position: relative;}#sk-container-id-3 div.sk-item::before, #sk-container-id-3 div.sk-parallel-item::before {content: \"\";position: absolute;border-left: 1px solid gray;box-sizing: border-box;top: 0;bottom: 0;left: 50%;z-index: -1;}#sk-container-id-3 div.sk-parallel-item {display: flex;flex-direction: column;z-index: 1;position: relative;background-color: white;}#sk-container-id-3 div.sk-parallel-item:first-child::after {align-self: flex-end;width: 50%;}#sk-container-id-3 div.sk-parallel-item:last-child::after {align-self: flex-start;width: 50%;}#sk-container-id-3 div.sk-parallel-item:only-child::after {width: 0;}#sk-container-id-3 div.sk-dashed-wrapped {border: 1px dashed gray;margin: 0 0.4em 0.5em 0.4em;box-sizing: border-box;padding-bottom: 0.4em;background-color: white;}#sk-container-id-3 div.sk-label label {font-family: monospace;font-weight: bold;display: inline-block;line-height: 1.2em;}#sk-container-id-3 div.sk-label-container {text-align: center;}#sk-container-id-3 div.sk-container {/* jupyter's `normalize.less` sets `[hidden] { display: none; }` but bootstrap.min.css set `[hidden] { display: none !important; }` so we also need the `!important` here to be able to override the default hidden behavior on the sphinx rendered scikit-learn.org. See: https://github.com/scikit-learn/scikit-learn/issues/21755 */display: inline-block !important;position: relative;}#sk-container-id-3 div.sk-text-repr-fallback {display: none;}</style><div id=\"sk-container-id-3\" class=\"sk-top-container\"><div class=\"sk-text-repr-fallback\"><pre>KNeighborsRegressor()</pre><b>In a Jupyter environment, please rerun this cell to show the HTML representation or trust the notebook. <br />On GitHub, the HTML representation is unable to render, please try loading this page with nbviewer.org.</b></div><div class=\"sk-container\" hidden><div class=\"sk-item\"><div class=\"sk-estimator sk-toggleable\"><input class=\"sk-toggleable__control sk-hidden--visually\" id=\"sk-estimator-id-3\" type=\"checkbox\" checked><label for=\"sk-estimator-id-3\" class=\"sk-toggleable__label sk-toggleable__label-arrow\">KNeighborsRegressor</label><div class=\"sk-toggleable__content\"><pre>KNeighborsRegressor()</pre></div></div></div></div></div>"
      ],
      "text/plain": [
       "KNeighborsRegressor()"
      ]
     },
     "execution_count": 63,
     "metadata": {},
     "output_type": "execute_result"
    }
   ],
   "source": [
    "model_knn.fit(x_train, y_train)"
   ]
  },
  {
   "cell_type": "code",
   "execution_count": 64,
   "id": "8d0aa315",
   "metadata": {},
   "outputs": [
    {
     "data": {
      "text/html": [
       "<style>#sk-container-id-4 {color: black;background-color: white;}#sk-container-id-4 pre{padding: 0;}#sk-container-id-4 div.sk-toggleable {background-color: white;}#sk-container-id-4 label.sk-toggleable__label {cursor: pointer;display: block;width: 100%;margin-bottom: 0;padding: 0.3em;box-sizing: border-box;text-align: center;}#sk-container-id-4 label.sk-toggleable__label-arrow:before {content: \"▸\";float: left;margin-right: 0.25em;color: #696969;}#sk-container-id-4 label.sk-toggleable__label-arrow:hover:before {color: black;}#sk-container-id-4 div.sk-estimator:hover label.sk-toggleable__label-arrow:before {color: black;}#sk-container-id-4 div.sk-toggleable__content {max-height: 0;max-width: 0;overflow: hidden;text-align: left;background-color: #f0f8ff;}#sk-container-id-4 div.sk-toggleable__content pre {margin: 0.2em;color: black;border-radius: 0.25em;background-color: #f0f8ff;}#sk-container-id-4 input.sk-toggleable__control:checked~div.sk-toggleable__content {max-height: 200px;max-width: 100%;overflow: auto;}#sk-container-id-4 input.sk-toggleable__control:checked~label.sk-toggleable__label-arrow:before {content: \"▾\";}#sk-container-id-4 div.sk-estimator input.sk-toggleable__control:checked~label.sk-toggleable__label {background-color: #d4ebff;}#sk-container-id-4 div.sk-label input.sk-toggleable__control:checked~label.sk-toggleable__label {background-color: #d4ebff;}#sk-container-id-4 input.sk-hidden--visually {border: 0;clip: rect(1px 1px 1px 1px);clip: rect(1px, 1px, 1px, 1px);height: 1px;margin: -1px;overflow: hidden;padding: 0;position: absolute;width: 1px;}#sk-container-id-4 div.sk-estimator {font-family: monospace;background-color: #f0f8ff;border: 1px dotted black;border-radius: 0.25em;box-sizing: border-box;margin-bottom: 0.5em;}#sk-container-id-4 div.sk-estimator:hover {background-color: #d4ebff;}#sk-container-id-4 div.sk-parallel-item::after {content: \"\";width: 100%;border-bottom: 1px solid gray;flex-grow: 1;}#sk-container-id-4 div.sk-label:hover label.sk-toggleable__label {background-color: #d4ebff;}#sk-container-id-4 div.sk-serial::before {content: \"\";position: absolute;border-left: 1px solid gray;box-sizing: border-box;top: 0;bottom: 0;left: 50%;z-index: 0;}#sk-container-id-4 div.sk-serial {display: flex;flex-direction: column;align-items: center;background-color: white;padding-right: 0.2em;padding-left: 0.2em;position: relative;}#sk-container-id-4 div.sk-item {position: relative;z-index: 1;}#sk-container-id-4 div.sk-parallel {display: flex;align-items: stretch;justify-content: center;background-color: white;position: relative;}#sk-container-id-4 div.sk-item::before, #sk-container-id-4 div.sk-parallel-item::before {content: \"\";position: absolute;border-left: 1px solid gray;box-sizing: border-box;top: 0;bottom: 0;left: 50%;z-index: -1;}#sk-container-id-4 div.sk-parallel-item {display: flex;flex-direction: column;z-index: 1;position: relative;background-color: white;}#sk-container-id-4 div.sk-parallel-item:first-child::after {align-self: flex-end;width: 50%;}#sk-container-id-4 div.sk-parallel-item:last-child::after {align-self: flex-start;width: 50%;}#sk-container-id-4 div.sk-parallel-item:only-child::after {width: 0;}#sk-container-id-4 div.sk-dashed-wrapped {border: 1px dashed gray;margin: 0 0.4em 0.5em 0.4em;box-sizing: border-box;padding-bottom: 0.4em;background-color: white;}#sk-container-id-4 div.sk-label label {font-family: monospace;font-weight: bold;display: inline-block;line-height: 1.2em;}#sk-container-id-4 div.sk-label-container {text-align: center;}#sk-container-id-4 div.sk-container {/* jupyter's `normalize.less` sets `[hidden] { display: none; }` but bootstrap.min.css set `[hidden] { display: none !important; }` so we also need the `!important` here to be able to override the default hidden behavior on the sphinx rendered scikit-learn.org. See: https://github.com/scikit-learn/scikit-learn/issues/21755 */display: inline-block !important;position: relative;}#sk-container-id-4 div.sk-text-repr-fallback {display: none;}</style><div id=\"sk-container-id-4\" class=\"sk-top-container\"><div class=\"sk-text-repr-fallback\"><pre>SVR()</pre><b>In a Jupyter environment, please rerun this cell to show the HTML representation or trust the notebook. <br />On GitHub, the HTML representation is unable to render, please try loading this page with nbviewer.org.</b></div><div class=\"sk-container\" hidden><div class=\"sk-item\"><div class=\"sk-estimator sk-toggleable\"><input class=\"sk-toggleable__control sk-hidden--visually\" id=\"sk-estimator-id-4\" type=\"checkbox\" checked><label for=\"sk-estimator-id-4\" class=\"sk-toggleable__label sk-toggleable__label-arrow\">SVR</label><div class=\"sk-toggleable__content\"><pre>SVR()</pre></div></div></div></div></div>"
      ],
      "text/plain": [
       "SVR()"
      ]
     },
     "execution_count": 64,
     "metadata": {},
     "output_type": "execute_result"
    }
   ],
   "source": [
    "model_svm.fit(x_train, y_train)"
   ]
  },
  {
   "cell_type": "markdown",
   "id": "b6ef49e3",
   "metadata": {},
   "source": [
    "### Prédictions sur l'ensemble de tests"
   ]
  },
  {
   "cell_type": "code",
   "execution_count": 65,
   "id": "4f2603d7",
   "metadata": {},
   "outputs": [],
   "source": [
    "predictions_linear = model_linear.predict(x_test)"
   ]
  },
  {
   "cell_type": "code",
   "execution_count": 66,
   "id": "4f4398a8",
   "metadata": {},
   "outputs": [
    {
     "data": {
      "text/plain": [
       "array([375.71076586, 453.9763946 , 326.90908233, ..., 591.33693411,\n",
       "       623.59337937, 218.0634448 ])"
      ]
     },
     "execution_count": 66,
     "metadata": {},
     "output_type": "execute_result"
    }
   ],
   "source": [
    "predictions_linear"
   ]
  },
  {
   "cell_type": "code",
   "execution_count": 67,
   "id": "8ceeb9e0",
   "metadata": {},
   "outputs": [],
   "source": [
    "predictions_rf = model_rf.predict(x_test)"
   ]
  },
  {
   "cell_type": "code",
   "execution_count": 68,
   "id": "b6a00b21",
   "metadata": {},
   "outputs": [
    {
     "data": {
      "text/plain": [
       "array([468.81280481, 533.92955234, 440.39929562, ..., 710.07137928,\n",
       "       754.8267908 , 385.64144606])"
      ]
     },
     "execution_count": 68,
     "metadata": {},
     "output_type": "execute_result"
    }
   ],
   "source": [
    "predictions_rf"
   ]
  },
  {
   "cell_type": "code",
   "execution_count": 69,
   "id": "126907e6",
   "metadata": {},
   "outputs": [],
   "source": [
    "predictions_knn = model_knn.predict(x_test)"
   ]
  },
  {
   "cell_type": "code",
   "execution_count": 70,
   "id": "c850007b",
   "metadata": {},
   "outputs": [
    {
     "data": {
      "text/plain": [
       "array([399.47604719, 389.04754746, 408.10262965, ..., 672.24720647,\n",
       "       633.08304384, 461.03692416])"
      ]
     },
     "execution_count": 70,
     "metadata": {},
     "output_type": "execute_result"
    }
   ],
   "source": [
    "predictions_knn"
   ]
  },
  {
   "cell_type": "code",
   "execution_count": 71,
   "id": "c33d2f06",
   "metadata": {},
   "outputs": [],
   "source": [
    "predictions_svm = model_svm.predict(x_test)"
   ]
  },
  {
   "cell_type": "code",
   "execution_count": 72,
   "id": "3f7ab747",
   "metadata": {},
   "outputs": [
    {
     "data": {
      "text/plain": [
       "array([447.27277197, 420.56190798, 431.83775253, ..., 446.52237203,\n",
       "       436.83789582, 409.36406393])"
      ]
     },
     "execution_count": 72,
     "metadata": {},
     "output_type": "execute_result"
    }
   ],
   "source": [
    "predictions_svm"
   ]
  },
  {
   "cell_type": "markdown",
   "id": "5ae34dec",
   "metadata": {},
   "source": [
    "### Évaluations des performances des modèles"
   ]
  },
  {
   "cell_type": "code",
   "execution_count": 73,
   "id": "de3cd46b",
   "metadata": {},
   "outputs": [],
   "source": [
    "mse_linear = mean_squared_error(y_test, predictions_linear)\n",
    "mse_rf = mean_squared_error(y_test, predictions_rf)\n",
    "mse_knn = mean_squared_error(y_test, predictions_knn)\n",
    "mse_svm = mean_squared_error(y_test, predictions_svm)"
   ]
  },
  {
   "cell_type": "markdown",
   "id": "81e3bf32",
   "metadata": {},
   "source": [
    "### Coefficient de détermination des modèles"
   ]
  },
  {
   "cell_type": "markdown",
   "id": "638555b6",
   "metadata": {},
   "source": [
    "#### Sur l'ensemble de test"
   ]
  },
  {
   "cell_type": "code",
   "execution_count": 74,
   "id": "f8616d0f",
   "metadata": {},
   "outputs": [
    {
     "name": "stdout",
     "output_type": "stream",
     "text": [
      "le R2 pour le model_linear est :  0.47006075466044817\n",
      "le R2 pour le random forest est :  0.8094992482276947\n",
      "le R2 pour le Knn model est :  0.4034202300066212\n",
      "le R2 pour le Svm model est :  0.032121128200017446\n"
     ]
    }
   ],
   "source": [
    "from sklearn.metrics import r2_score\n",
    "print(\"le R2 pour le model_linear est : \", r2_score(y_test, predictions_linear))\n",
    "print(\"le R2 pour le random forest est : \", r2_score(y_test, predictions_rf))\n",
    "print(\"le R2 pour le Knn model est : \", r2_score(y_test, predictions_knn))\n",
    "print(\"le R2 pour le Svm model est : \", r2_score(y_test, predictions_svm))"
   ]
  },
  {
   "cell_type": "markdown",
   "id": "539f6c09",
   "metadata": {},
   "source": [
    "Le Random forest apparait avec le le meilleur coefficient de détermination, il explique environ 80% de la variance dans les données de test.\n",
    "Un R2 de 0.032 n'est pas très élevé, ce qui indique que le modèle Svm ne parvient pas à capturer une grande partie de la variance des données de test. Cela peut être dû à une sous-ajustement (underfitting) du modèle, où le modèle est trop simple pour capturer la complexité des données."
   ]
  },
  {
   "cell_type": "markdown",
   "id": "26ac7ffa",
   "metadata": {},
   "source": [
    "#### Sur l'ensemble d'entraînement"
   ]
  },
  {
   "cell_type": "code",
   "execution_count": 75,
   "id": "3a952911",
   "metadata": {},
   "outputs": [
    {
     "name": "stdout",
     "output_type": "stream",
     "text": [
      "le R2 pour le model_linear est :  0.46310029102899775\n",
      "le R2 pour le random forest est :  0.9736370129389976\n",
      "le R2 pour le Knn linear est :  0.6158522316544622\n",
      "le R2 pour le Svm linear est :  0.0325167284977641\n"
     ]
    }
   ],
   "source": [
    "print(\"le R2 pour le model_linear est : \",r2_score(y_train, model_linear.predict(x_train)))\n",
    "print(\"le R2 pour le random forest est : \",r2_score(y_train, model_rf.predict(x_train)))\n",
    "print(\"le R2 pour le Knn linear est : \",r2_score(y_train, model_knn.predict(x_train)))\n",
    "print(\"le R2 pour le Svm linear est : \",r2_score(y_train, model_svm.predict(x_train)))"
   ]
  },
  {
   "cell_type": "markdown",
   "id": "353081dc",
   "metadata": {},
   "source": [
    "Le même modèle explique environ 97,3% de la variance dans les données d'entraînement.\n",
    "Un R2 de  0.97 pour l'ensemble d'entraînement est plus élevé que celui pour l'ensemble de test, ce qui est souvent le cas. Cela peut indiquer un certain surajustement (overfitting) du modèle aux données d'entraînement. Le modèle peut être trop complexe et avoir appris le bruit présent dans les données d'entraînement.\n",
    "Même remarque avec le Knn model ou nous passons de 37% à 60%. Les deux autres apparaissent raisonnables."
   ]
  },
  {
   "cell_type": "markdown",
   "id": "0dd1a386",
   "metadata": {},
   "source": [
    "### Comparaison ses performances des différents modèles choisis"
   ]
  },
  {
   "cell_type": "code",
   "execution_count": 76,
   "id": "9c09bf62",
   "metadata": {},
   "outputs": [
    {
     "name": "stdout",
     "output_type": "stream",
     "text": [
      "{'Linear Regression': 11058.921598765703, 'Random Forest': 3975.423403499752, 'K-Nearest Neighbors': 12449.594857876906, 'Support Vector Machine': 20197.96920962053}\n"
     ]
    }
   ],
   "source": [
    "performances = {'Linear Regression': mse_linear, 'Random Forest': mse_rf, 'K-Nearest Neighbors': mse_knn, 'Support Vector Machine': mse_svm}\n",
    "print(performances)"
   ]
  },
  {
   "cell_type": "markdown",
   "id": "997cda17",
   "metadata": {},
   "source": [
    "#### Interpretation\n",
    "\n",
    "Nos résultats montrent les performances des différents modèles en termes d'erreur quadratique moyenne (MSE) sur un ensemble de données de test. \n",
    "Ci-après une interpretation des résultats :\n",
    "\n",
    "- **Linear Regression**: L'erreur quadratique moyenne obtenue avec la régression linéaire est d'environ 11050.77.\n",
    "\n",
    "- **Random Forest**: L'erreur quadratique moyenne obtenue avec le modèle de forêt aléatoire est d'environ 3992.39.\n",
    "\n",
    "- **K-Nearest Neighbors**: L'erreur quadratique moyenne obtenue avec le modèle de k-plus proches voisins est d'environ 13100.18.\n",
    "\n",
    "- **Support Vector Machine**: L'erreur quadratique moyenne obtenue avec le modèle de machine à vecteurs de support est d'environ 20197.93.\n",
    "\n",
    "En général, des valeurs de MSE plus faibles indiquent de meilleures performances du modèle, car cela signifie que les prédictions du modèle sont plus proches des vraies valeurs. Ainsi, dans ce cas, le modèle Random Forest semble être le plus performant, suivi par la régression linéaire, les k-plus proches voisins et enfin la machine à vecteurs de support.\n",
    "\n",
    "Cependant les résultas du random Forest nous semble malgré tout assez élevé, nous souhaitons donc d'utiliser d'autres approches plus robuste afin d'améliorer les résultats de prédiction."
   ]
  },
  {
   "cell_type": "markdown",
   "id": "530c3a73",
   "metadata": {},
   "source": [
    "# "
   ]
  },
  {
   "cell_type": "markdown",
   "id": "d18d227f",
   "metadata": {},
   "source": [
    "## 6. Approche complexe  <a id=\"section-6\"></a>"
   ]
  },
  {
   "cell_type": "markdown",
   "id": "a1f85664",
   "metadata": {},
   "source": [
    "### 6.1  Approche polynomiale"
   ]
  },
  {
   "cell_type": "code",
   "execution_count": 77,
   "id": "528bb21b",
   "metadata": {},
   "outputs": [],
   "source": [
    "from sklearn.preprocessing import PolynomialFeatures\n",
    "from sklearn.pipeline import make_pipeline\n",
    "\n",
    "# Créer un pipeline avec PolynomialFeatures pour ajouter des interactions et des termes polynomiaux\n",
    "model_poly = make_pipeline(PolynomialFeatures(degree=2), KNeighborsRegressor())\n"
   ]
  },
  {
   "cell_type": "markdown",
   "id": "4a068f0b",
   "metadata": {},
   "source": [
    "#### Entrainement du modèle"
   ]
  },
  {
   "cell_type": "code",
   "execution_count": 78,
   "id": "6a7f0243",
   "metadata": {},
   "outputs": [
    {
     "data": {
      "text/html": [
       "<style>#sk-container-id-5 {color: black;background-color: white;}#sk-container-id-5 pre{padding: 0;}#sk-container-id-5 div.sk-toggleable {background-color: white;}#sk-container-id-5 label.sk-toggleable__label {cursor: pointer;display: block;width: 100%;margin-bottom: 0;padding: 0.3em;box-sizing: border-box;text-align: center;}#sk-container-id-5 label.sk-toggleable__label-arrow:before {content: \"▸\";float: left;margin-right: 0.25em;color: #696969;}#sk-container-id-5 label.sk-toggleable__label-arrow:hover:before {color: black;}#sk-container-id-5 div.sk-estimator:hover label.sk-toggleable__label-arrow:before {color: black;}#sk-container-id-5 div.sk-toggleable__content {max-height: 0;max-width: 0;overflow: hidden;text-align: left;background-color: #f0f8ff;}#sk-container-id-5 div.sk-toggleable__content pre {margin: 0.2em;color: black;border-radius: 0.25em;background-color: #f0f8ff;}#sk-container-id-5 input.sk-toggleable__control:checked~div.sk-toggleable__content {max-height: 200px;max-width: 100%;overflow: auto;}#sk-container-id-5 input.sk-toggleable__control:checked~label.sk-toggleable__label-arrow:before {content: \"▾\";}#sk-container-id-5 div.sk-estimator input.sk-toggleable__control:checked~label.sk-toggleable__label {background-color: #d4ebff;}#sk-container-id-5 div.sk-label input.sk-toggleable__control:checked~label.sk-toggleable__label {background-color: #d4ebff;}#sk-container-id-5 input.sk-hidden--visually {border: 0;clip: rect(1px 1px 1px 1px);clip: rect(1px, 1px, 1px, 1px);height: 1px;margin: -1px;overflow: hidden;padding: 0;position: absolute;width: 1px;}#sk-container-id-5 div.sk-estimator {font-family: monospace;background-color: #f0f8ff;border: 1px dotted black;border-radius: 0.25em;box-sizing: border-box;margin-bottom: 0.5em;}#sk-container-id-5 div.sk-estimator:hover {background-color: #d4ebff;}#sk-container-id-5 div.sk-parallel-item::after {content: \"\";width: 100%;border-bottom: 1px solid gray;flex-grow: 1;}#sk-container-id-5 div.sk-label:hover label.sk-toggleable__label {background-color: #d4ebff;}#sk-container-id-5 div.sk-serial::before {content: \"\";position: absolute;border-left: 1px solid gray;box-sizing: border-box;top: 0;bottom: 0;left: 50%;z-index: 0;}#sk-container-id-5 div.sk-serial {display: flex;flex-direction: column;align-items: center;background-color: white;padding-right: 0.2em;padding-left: 0.2em;position: relative;}#sk-container-id-5 div.sk-item {position: relative;z-index: 1;}#sk-container-id-5 div.sk-parallel {display: flex;align-items: stretch;justify-content: center;background-color: white;position: relative;}#sk-container-id-5 div.sk-item::before, #sk-container-id-5 div.sk-parallel-item::before {content: \"\";position: absolute;border-left: 1px solid gray;box-sizing: border-box;top: 0;bottom: 0;left: 50%;z-index: -1;}#sk-container-id-5 div.sk-parallel-item {display: flex;flex-direction: column;z-index: 1;position: relative;background-color: white;}#sk-container-id-5 div.sk-parallel-item:first-child::after {align-self: flex-end;width: 50%;}#sk-container-id-5 div.sk-parallel-item:last-child::after {align-self: flex-start;width: 50%;}#sk-container-id-5 div.sk-parallel-item:only-child::after {width: 0;}#sk-container-id-5 div.sk-dashed-wrapped {border: 1px dashed gray;margin: 0 0.4em 0.5em 0.4em;box-sizing: border-box;padding-bottom: 0.4em;background-color: white;}#sk-container-id-5 div.sk-label label {font-family: monospace;font-weight: bold;display: inline-block;line-height: 1.2em;}#sk-container-id-5 div.sk-label-container {text-align: center;}#sk-container-id-5 div.sk-container {/* jupyter's `normalize.less` sets `[hidden] { display: none; }` but bootstrap.min.css set `[hidden] { display: none !important; }` so we also need the `!important` here to be able to override the default hidden behavior on the sphinx rendered scikit-learn.org. See: https://github.com/scikit-learn/scikit-learn/issues/21755 */display: inline-block !important;position: relative;}#sk-container-id-5 div.sk-text-repr-fallback {display: none;}</style><div id=\"sk-container-id-5\" class=\"sk-top-container\"><div class=\"sk-text-repr-fallback\"><pre>Pipeline(steps=[(&#x27;polynomialfeatures&#x27;, PolynomialFeatures()),\n",
       "                (&#x27;kneighborsregressor&#x27;, KNeighborsRegressor())])</pre><b>In a Jupyter environment, please rerun this cell to show the HTML representation or trust the notebook. <br />On GitHub, the HTML representation is unable to render, please try loading this page with nbviewer.org.</b></div><div class=\"sk-container\" hidden><div class=\"sk-item sk-dashed-wrapped\"><div class=\"sk-label-container\"><div class=\"sk-label sk-toggleable\"><input class=\"sk-toggleable__control sk-hidden--visually\" id=\"sk-estimator-id-5\" type=\"checkbox\" ><label for=\"sk-estimator-id-5\" class=\"sk-toggleable__label sk-toggleable__label-arrow\">Pipeline</label><div class=\"sk-toggleable__content\"><pre>Pipeline(steps=[(&#x27;polynomialfeatures&#x27;, PolynomialFeatures()),\n",
       "                (&#x27;kneighborsregressor&#x27;, KNeighborsRegressor())])</pre></div></div></div><div class=\"sk-serial\"><div class=\"sk-item\"><div class=\"sk-estimator sk-toggleable\"><input class=\"sk-toggleable__control sk-hidden--visually\" id=\"sk-estimator-id-6\" type=\"checkbox\" ><label for=\"sk-estimator-id-6\" class=\"sk-toggleable__label sk-toggleable__label-arrow\">PolynomialFeatures</label><div class=\"sk-toggleable__content\"><pre>PolynomialFeatures()</pre></div></div></div><div class=\"sk-item\"><div class=\"sk-estimator sk-toggleable\"><input class=\"sk-toggleable__control sk-hidden--visually\" id=\"sk-estimator-id-7\" type=\"checkbox\" ><label for=\"sk-estimator-id-7\" class=\"sk-toggleable__label sk-toggleable__label-arrow\">KNeighborsRegressor</label><div class=\"sk-toggleable__content\"><pre>KNeighborsRegressor()</pre></div></div></div></div></div></div></div>"
      ],
      "text/plain": [
       "Pipeline(steps=[('polynomialfeatures', PolynomialFeatures()),\n",
       "                ('kneighborsregressor', KNeighborsRegressor())])"
      ]
     },
     "execution_count": 78,
     "metadata": {},
     "output_type": "execute_result"
    }
   ],
   "source": [
    "model_poly.fit(x_train, y_train)\n"
   ]
  },
  {
   "cell_type": "markdown",
   "id": "5dd934f8",
   "metadata": {},
   "source": [
    "# "
   ]
  },
  {
   "cell_type": "markdown",
   "id": "855f9cf6",
   "metadata": {},
   "source": [
    "# "
   ]
  },
  {
   "cell_type": "markdown",
   "id": "159bc043",
   "metadata": {},
   "source": [
    "# "
   ]
  },
  {
   "cell_type": "code",
   "execution_count": null,
   "id": "ebdc2518",
   "metadata": {},
   "outputs": [],
   "source": []
  },
  {
   "cell_type": "markdown",
   "id": "8847c112",
   "metadata": {},
   "source": [
    "#### Prédiction"
   ]
  },
  {
   "cell_type": "code",
   "execution_count": 79,
   "id": "340fd34e",
   "metadata": {},
   "outputs": [],
   "source": [
    "prediction_poly = model_poly.predict(x_test)\n"
   ]
  },
  {
   "cell_type": "markdown",
   "id": "5ecb2eb8",
   "metadata": {},
   "source": [
    "#### Évaluation du modèle"
   ]
  },
  {
   "cell_type": "code",
   "execution_count": 80,
   "id": "23fd1346",
   "metadata": {},
   "outputs": [
    {
     "name": "stdout",
     "output_type": "stream",
     "text": [
      "MSE : 13299.646325422014\n",
      "R2 Score : 0.362686092488103\n"
     ]
    }
   ],
   "source": [
    "from sklearn.metrics import mean_squared_error, r2_score\n",
    "\n",
    "mse = mean_squared_error(y_test, prediction_poly)\n",
    "r2 = r2_score(y_test, prediction_poly)\n",
    "\n",
    "print(\"MSE :\", mse)\n",
    "print(\"R2 Score :\", r2)"
   ]
  },
  {
   "cell_type": "markdown",
   "id": "4f396caf",
   "metadata": {},
   "source": [
    "#### \n",
    "Ces résultats sont plus élevés que ceux obtenus avec le random forest plus haut."
   ]
  },
  {
   "cell_type": "code",
   "execution_count": 81,
   "id": "db02a89a",
   "metadata": {},
   "outputs": [
    {
     "data": {
      "image/png": "[encoded data removed]",
      "text/plain": [
       "<Figure size 640x480 with 1 Axes>"
      ]
     },
     "metadata": {},
     "output_type": "display_data"
    }
   ],
   "source": [
    "# Visualisation des prédictions par rapport aux valeurs réelles\n",
    "plt.scatter(y_test, prediction_poly)\n",
    "plt.xlabel(\"Valeurs réelles\")\n",
    "plt.ylabel(\"Prédictions\")\n",
    "plt.title(\"Comparaison des valeurs réelles et des prédictions\")\n",
    "plt.show()"
   ]
  },
  {
   "cell_type": "markdown",
   "id": "7c8fc7dd",
   "metadata": {},
   "source": [
    "# "
   ]
  },
  {
   "cell_type": "markdown",
   "id": "b4cc5a48",
   "metadata": {},
   "source": [
    "### 6.2 Utilisons des techniques de régularisation : un modèle Ridge"
   ]
  },
  {
   "cell_type": "code",
   "execution_count": 82,
   "id": "de3a072a",
   "metadata": {},
   "outputs": [],
   "source": [
    "\n",
    "\n",
    "from sklearn.linear_model import Ridge\n",
    "\n",
    "# Utiliser la régression ridge pour ajouter de la régularisation\n",
    "model_ridge = Ridge(alpha=0.5)  # Nous choisissons alpha = 0.5 en fonction de la force de régularisation souhaitée"
   ]
  },
  {
   "cell_type": "code",
   "execution_count": 83,
   "id": "cb19593f",
   "metadata": {},
   "outputs": [
    {
     "data": {
      "text/html": [
       "<style>#sk-container-id-6 {color: black;background-color: white;}#sk-container-id-6 pre{padding: 0;}#sk-container-id-6 div.sk-toggleable {background-color: white;}#sk-container-id-6 label.sk-toggleable__label {cursor: pointer;display: block;width: 100%;margin-bottom: 0;padding: 0.3em;box-sizing: border-box;text-align: center;}#sk-container-id-6 label.sk-toggleable__label-arrow:before {content: \"▸\";float: left;margin-right: 0.25em;color: #696969;}#sk-container-id-6 label.sk-toggleable__label-arrow:hover:before {color: black;}#sk-container-id-6 div.sk-estimator:hover label.sk-toggleable__label-arrow:before {color: black;}#sk-container-id-6 div.sk-toggleable__content {max-height: 0;max-width: 0;overflow: hidden;text-align: left;background-color: #f0f8ff;}#sk-container-id-6 div.sk-toggleable__content pre {margin: 0.2em;color: black;border-radius: 0.25em;background-color: #f0f8ff;}#sk-container-id-6 input.sk-toggleable__control:checked~div.sk-toggleable__content {max-height: 200px;max-width: 100%;overflow: auto;}#sk-container-id-6 input.sk-toggleable__control:checked~label.sk-toggleable__label-arrow:before {content: \"▾\";}#sk-container-id-6 div.sk-estimator input.sk-toggleable__control:checked~label.sk-toggleable__label {background-color: #d4ebff;}#sk-container-id-6 div.sk-label input.sk-toggleable__control:checked~label.sk-toggleable__label {background-color: #d4ebff;}#sk-container-id-6 input.sk-hidden--visually {border: 0;clip: rect(1px 1px 1px 1px);clip: rect(1px, 1px, 1px, 1px);height: 1px;margin: -1px;overflow: hidden;padding: 0;position: absolute;width: 1px;}#sk-container-id-6 div.sk-estimator {font-family: monospace;background-color: #f0f8ff;border: 1px dotted black;border-radius: 0.25em;box-sizing: border-box;margin-bottom: 0.5em;}#sk-container-id-6 div.sk-estimator:hover {background-color: #d4ebff;}#sk-container-id-6 div.sk-parallel-item::after {content: \"\";width: 100%;border-bottom: 1px solid gray;flex-grow: 1;}#sk-container-id-6 div.sk-label:hover label.sk-toggleable__label {background-color: #d4ebff;}#sk-container-id-6 div.sk-serial::before {content: \"\";position: absolute;border-left: 1px solid gray;box-sizing: border-box;top: 0;bottom: 0;left: 50%;z-index: 0;}#sk-container-id-6 div.sk-serial {display: flex;flex-direction: column;align-items: center;background-color: white;padding-right: 0.2em;padding-left: 0.2em;position: relative;}#sk-container-id-6 div.sk-item {position: relative;z-index: 1;}#sk-container-id-6 div.sk-parallel {display: flex;align-items: stretch;justify-content: center;background-color: white;position: relative;}#sk-container-id-6 div.sk-item::before, #sk-container-id-6 div.sk-parallel-item::before {content: \"\";position: absolute;border-left: 1px solid gray;box-sizing: border-box;top: 0;bottom: 0;left: 50%;z-index: -1;}#sk-container-id-6 div.sk-parallel-item {display: flex;flex-direction: column;z-index: 1;position: relative;background-color: white;}#sk-container-id-6 div.sk-parallel-item:first-child::after {align-self: flex-end;width: 50%;}#sk-container-id-6 div.sk-parallel-item:last-child::after {align-self: flex-start;width: 50%;}#sk-container-id-6 div.sk-parallel-item:only-child::after {width: 0;}#sk-container-id-6 div.sk-dashed-wrapped {border: 1px dashed gray;margin: 0 0.4em 0.5em 0.4em;box-sizing: border-box;padding-bottom: 0.4em;background-color: white;}#sk-container-id-6 div.sk-label label {font-family: monospace;font-weight: bold;display: inline-block;line-height: 1.2em;}#sk-container-id-6 div.sk-label-container {text-align: center;}#sk-container-id-6 div.sk-container {/* jupyter's `normalize.less` sets `[hidden] { display: none; }` but bootstrap.min.css set `[hidden] { display: none !important; }` so we also need the `!important` here to be able to override the default hidden behavior on the sphinx rendered scikit-learn.org. See: https://github.com/scikit-learn/scikit-learn/issues/21755 */display: inline-block !important;position: relative;}#sk-container-id-6 div.sk-text-repr-fallback {display: none;}</style><div id=\"sk-container-id-6\" class=\"sk-top-container\"><div class=\"sk-text-repr-fallback\"><pre>Ridge(alpha=0.5)</pre><b>In a Jupyter environment, please rerun this cell to show the HTML representation or trust the notebook. <br />On GitHub, the HTML representation is unable to render, please try loading this page with nbviewer.org.</b></div><div class=\"sk-container\" hidden><div class=\"sk-item\"><div class=\"sk-estimator sk-toggleable\"><input class=\"sk-toggleable__control sk-hidden--visually\" id=\"sk-estimator-id-8\" type=\"checkbox\" checked><label for=\"sk-estimator-id-8\" class=\"sk-toggleable__label sk-toggleable__label-arrow\">Ridge</label><div class=\"sk-toggleable__content\"><pre>Ridge(alpha=0.5)</pre></div></div></div></div></div>"
      ],
      "text/plain": [
       "Ridge(alpha=0.5)"
      ]
     },
     "execution_count": 83,
     "metadata": {},
     "output_type": "execute_result"
    }
   ],
   "source": [
    "model_ridge.fit(x_train, y_train)\n"
   ]
  },
  {
   "cell_type": "markdown",
   "id": "27260c07",
   "metadata": {},
   "source": [
    "#### Évaluation du modèle : "
   ]
  },
  {
   "cell_type": "code",
   "execution_count": 84,
   "id": "4257a364",
   "metadata": {},
   "outputs": [],
   "source": [
    "prediction_ridge = model_ridge.predict(x_test)"
   ]
  },
  {
   "cell_type": "markdown",
   "id": "a66e0992",
   "metadata": {},
   "source": [
    "#### Analyse des performances : "
   ]
  },
  {
   "cell_type": "code",
   "execution_count": 85,
   "id": "76160d85",
   "metadata": {},
   "outputs": [],
   "source": [
    "mse = mean_squared_error(y_test, prediction_ridge)\n",
    "r2 = r2_score(y_test, prediction_ridge)"
   ]
  },
  {
   "cell_type": "code",
   "execution_count": 86,
   "id": "2a02e070",
   "metadata": {},
   "outputs": [
    {
     "name": "stdout",
     "output_type": "stream",
     "text": [
      "mse_ridge : 11058.918878376611\n",
      "R2_ridge : 0.4700608850204412\n"
     ]
    }
   ],
   "source": [
    "print(\"mse_ridge :\", mse)\n",
    "print(\"R2_ridge :\", r2)"
   ]
  },
  {
   "cell_type": "markdown",
   "id": "e17e6c38",
   "metadata": {},
   "source": [
    "### Interpretation des résultats obtenu avec le modèle ridge\n",
    "\n",
    "Notre **MSE** de **11050.79** indique que les prédictions du modèle, en moyenne, s'écartent de la vraie valeur cible d'environ 11050.79 unités\n",
    "Notre **R2** de **0.47** signifie que le modèle explique environ 47% de la variance totale des données de test.\n",
    "\n",
    "Notre modèle Ridge semble avoir des performances raisonnables, mais il y a encore de la place pour l'amélioration, surtout si nous cherchons à réduire l'erreur de prédiction et à augmenter la proportion de variance expliquée par le modèle."
   ]
  },
  {
   "cell_type": "markdown",
   "id": "729fe02b",
   "metadata": {},
   "source": [
    "#### Optimisation des hyperparamètres : "
   ]
  },
  {
   "cell_type": "code",
   "execution_count": 87,
   "id": "7071ce3c",
   "metadata": {},
   "outputs": [],
   "source": [
    "from sklearn.model_selection import GridSearchCV\n",
    "\n",
    "# Exemple d'optimisation des hyperparamètres\n",
    "grid_search = GridSearchCV(estimator=Ridge(), param_grid={'alpha': [0.1, 0.5, 1.0]}, cv=5)\n",
    "grid_search.fit(x_train, y_train)\n",
    "best_alpha = grid_search.best_params_['alpha']"
   ]
  },
  {
   "cell_type": "code",
   "execution_count": 88,
   "id": "c1a42470",
   "metadata": {},
   "outputs": [
    {
     "data": {
      "text/html": [
       "<style>#sk-container-id-7 {color: black;background-color: white;}#sk-container-id-7 pre{padding: 0;}#sk-container-id-7 div.sk-toggleable {background-color: white;}#sk-container-id-7 label.sk-toggleable__label {cursor: pointer;display: block;width: 100%;margin-bottom: 0;padding: 0.3em;box-sizing: border-box;text-align: center;}#sk-container-id-7 label.sk-toggleable__label-arrow:before {content: \"▸\";float: left;margin-right: 0.25em;color: #696969;}#sk-container-id-7 label.sk-toggleable__label-arrow:hover:before {color: black;}#sk-container-id-7 div.sk-estimator:hover label.sk-toggleable__label-arrow:before {color: black;}#sk-container-id-7 div.sk-toggleable__content {max-height: 0;max-width: 0;overflow: hidden;text-align: left;background-color: #f0f8ff;}#sk-container-id-7 div.sk-toggleable__content pre {margin: 0.2em;color: black;border-radius: 0.25em;background-color: #f0f8ff;}#sk-container-id-7 input.sk-toggleable__control:checked~div.sk-toggleable__content {max-height: 200px;max-width: 100%;overflow: auto;}#sk-container-id-7 input.sk-toggleable__control:checked~label.sk-toggleable__label-arrow:before {content: \"▾\";}#sk-container-id-7 div.sk-estimator input.sk-toggleable__control:checked~label.sk-toggleable__label {background-color: #d4ebff;}#sk-container-id-7 div.sk-label input.sk-toggleable__control:checked~label.sk-toggleable__label {background-color: #d4ebff;}#sk-container-id-7 input.sk-hidden--visually {border: 0;clip: rect(1px 1px 1px 1px);clip: rect(1px, 1px, 1px, 1px);height: 1px;margin: -1px;overflow: hidden;padding: 0;position: absolute;width: 1px;}#sk-container-id-7 div.sk-estimator {font-family: monospace;background-color: #f0f8ff;border: 1px dotted black;border-radius: 0.25em;box-sizing: border-box;margin-bottom: 0.5em;}#sk-container-id-7 div.sk-estimator:hover {background-color: #d4ebff;}#sk-container-id-7 div.sk-parallel-item::after {content: \"\";width: 100%;border-bottom: 1px solid gray;flex-grow: 1;}#sk-container-id-7 div.sk-label:hover label.sk-toggleable__label {background-color: #d4ebff;}#sk-container-id-7 div.sk-serial::before {content: \"\";position: absolute;border-left: 1px solid gray;box-sizing: border-box;top: 0;bottom: 0;left: 50%;z-index: 0;}#sk-container-id-7 div.sk-serial {display: flex;flex-direction: column;align-items: center;background-color: white;padding-right: 0.2em;padding-left: 0.2em;position: relative;}#sk-container-id-7 div.sk-item {position: relative;z-index: 1;}#sk-container-id-7 div.sk-parallel {display: flex;align-items: stretch;justify-content: center;background-color: white;position: relative;}#sk-container-id-7 div.sk-item::before, #sk-container-id-7 div.sk-parallel-item::before {content: \"\";position: absolute;border-left: 1px solid gray;box-sizing: border-box;top: 0;bottom: 0;left: 50%;z-index: -1;}#sk-container-id-7 div.sk-parallel-item {display: flex;flex-direction: column;z-index: 1;position: relative;background-color: white;}#sk-container-id-7 div.sk-parallel-item:first-child::after {align-self: flex-end;width: 50%;}#sk-container-id-7 div.sk-parallel-item:last-child::after {align-self: flex-start;width: 50%;}#sk-container-id-7 div.sk-parallel-item:only-child::after {width: 0;}#sk-container-id-7 div.sk-dashed-wrapped {border: 1px dashed gray;margin: 0 0.4em 0.5em 0.4em;box-sizing: border-box;padding-bottom: 0.4em;background-color: white;}#sk-container-id-7 div.sk-label label {font-family: monospace;font-weight: bold;display: inline-block;line-height: 1.2em;}#sk-container-id-7 div.sk-label-container {text-align: center;}#sk-container-id-7 div.sk-container {/* jupyter's `normalize.less` sets `[hidden] { display: none; }` but bootstrap.min.css set `[hidden] { display: none !important; }` so we also need the `!important` here to be able to override the default hidden behavior on the sphinx rendered scikit-learn.org. See: https://github.com/scikit-learn/scikit-learn/issues/21755 */display: inline-block !important;position: relative;}#sk-container-id-7 div.sk-text-repr-fallback {display: none;}</style><div id=\"sk-container-id-7\" class=\"sk-top-container\"><div class=\"sk-text-repr-fallback\"><pre>Ridge()</pre><b>In a Jupyter environment, please rerun this cell to show the HTML representation or trust the notebook. <br />On GitHub, the HTML representation is unable to render, please try loading this page with nbviewer.org.</b></div><div class=\"sk-container\" hidden><div class=\"sk-item\"><div class=\"sk-estimator sk-toggleable\"><input class=\"sk-toggleable__control sk-hidden--visually\" id=\"sk-estimator-id-9\" type=\"checkbox\" checked><label for=\"sk-estimator-id-9\" class=\"sk-toggleable__label sk-toggleable__label-arrow\">Ridge</label><div class=\"sk-toggleable__content\"><pre>Ridge()</pre></div></div></div></div></div>"
      ],
      "text/plain": [
       "Ridge()"
      ]
     },
     "execution_count": 88,
     "metadata": {},
     "output_type": "execute_result"
    }
   ],
   "source": [
    "# Créer un nouveau modèle Ridge avec le meilleur alpha\n",
    "best_ridge_model = Ridge(alpha=best_alpha)\n",
    "\n",
    "# Entraîner le modèle sur l'ensemble d'entraînement complet\n",
    "best_ridge_model.fit(x_train, y_train)\n"
   ]
  },
  {
   "cell_type": "markdown",
   "id": "0abac738",
   "metadata": {},
   "source": [
    "#### Évaluons les performances du modèle"
   ]
  },
  {
   "cell_type": "code",
   "execution_count": 89,
   "id": "3354da83",
   "metadata": {},
   "outputs": [
    {
     "name": "stdout",
     "output_type": "stream",
     "text": [
      "MSE: 11058.916168677742\n",
      "R²: 0.4700610148681629\n"
     ]
    }
   ],
   "source": [
    "# Faire des prédictions sur l'ensemble de test\n",
    "predictions_rdg = best_ridge_model.predict(x_test)\n",
    "\n",
    "# Calculer l'erreur quadratique moyenne (MSE)\n",
    "mse = mean_squared_error(y_test, predictions_rdg)\n",
    "\n",
    "# Calculer le coefficient de détermination (R²)\n",
    "r2 = r2_score(y_test, predictions_rdg)\n",
    "\n",
    "# Afficher les performances\n",
    "print(\"MSE:\", mse)\n",
    "print(\"R²:\", r2)\n"
   ]
  },
  {
   "cell_type": "markdown",
   "id": "7f7a2350",
   "metadata": {},
   "source": [
    "#### Analyse des coefficients du modèle"
   ]
  },
  {
   "cell_type": "code",
   "execution_count": 90,
   "id": "e9df6ce2",
   "metadata": {},
   "outputs": [
    {
     "name": "stdout",
     "output_type": "stream",
     "text": [
      "Uid : -0.0005266174024338466\n",
      "Familty_type : -3.0327784065246988\n",
      "Highest_diploma : -5.27219410451327\n",
      "Job_42 : 0.08136971330461966\n",
      "ACT : 34.22575605817072\n",
      "sex : 28.297580835199543\n",
      "Studying : -7.509424265152476\n",
      "age_2020 : -2.840972022446897\n",
      "WORK_CONDITION : 8.328986296819764\n",
      "TERMS_OF_EMP : 25.417215339010944\n",
      "working_hours : -0.00027460207902695543\n",
      "Eco_sect : 0.2424178138519283\n",
      "Employer_category : 2.8143516125297854\n",
      "job_category : 25.83887528979055\n",
      "Job_desc : 0.4327389324698308\n",
      "EMOLUMENT : 0.0011687093354819976\n",
      "employee_count : 4.811255653533696\n",
      "emp : -3.58352037864475\n",
      "CLUB : -0.041182024170218906\n"
     ]
    }
   ],
   "source": [
    "# Obtenir les coefficients de régression\n",
    "coefficients = best_ridge_model.coef_\n",
    "\n",
    "# Afficher les coefficients\n",
    "for feature, coef in zip(x_train.columns, coefficients):\n",
    "    print(feature, \":\", coef)\n"
   ]
  },
  {
   "cell_type": "markdown",
   "id": "aad7536c",
   "metadata": {},
   "source": [
    "# "
   ]
  },
  {
   "cell_type": "markdown",
   "id": "5ac283bb",
   "metadata": {},
   "source": [
    "# "
   ]
  },
  {
   "cell_type": "markdown",
   "id": "60df6911",
   "metadata": {},
   "source": [
    "# "
   ]
  },
  {
   "cell_type": "markdown",
   "id": "b421b30b",
   "metadata": {},
   "source": [
    "#### Interpretation "
   ]
  },
  {
   "cell_type": "markdown",
   "id": "79e34297",
   "metadata": {},
   "source": [
    "Pour analyser les coefficients du modèle, Nous pouvons considérer les points suivants :\n",
    "\n",
    "1. **Importance des caractéristiques** : Les coefficients indiquent l'importance relative de chaque caractéristique dans la prédiction de la variable cible. Les caractéristiques avec des coefficients plus importants ont un impact plus important sur les prédictions. Dans notre cas : ACT, job_category, sex, TERMS_OF_EMP et Studying\n",
    "\n",
    "2. **Interprétation de signe** : Le signe du coefficient indique la direction de la relation entre la caractéristique et la variable cible. Un coefficient positif signifie qu'une augmentation de la valeur de la caractéristique est associée à une augmentation de la variable cible, ( ici **ACT, sex, : les types d'activités, le sexe des individus**)  tandis qu'un coefficient négatif signifie l'opposé (ici job_category_cod, Studying : les variables encodées des cathégories de jobs et la variable qui renseigne si l'individu est étudiant ou pas) .\n",
    "\n",
    "3. **Magnitude des coefficients** : Plus la valeur absolue d'un coefficient est grande, plus l'impact de la caractéristique correspondante sur la variable cible est important. Les coefficients avec une magnitude élevée peuvent indiquer des relations fortes entre les caractéristiques et la variable cible.\n",
    "\n",
    "4. **Comparaison avec d'autres coefficients** : Comparons les coefficients entre eux pour évaluer leur importance relative. Les caractéristiques avec des coefficients plus importants peuvent être considérées comme ayant un plus grand pouvoir prédictif.\n",
    "\n",
    "En analysant nos coefficients nous pouvons conclure :\n",
    "\n",
    "- Les caractéristiques avec des coefficients négatifs (comme 'Uid', 'Studying', 'age_2020', etc.) ont une relation négative avec la variable cible. Cela signifie que lorsque ces caractéristiques augmentent, la variable cible a tendance à diminuer, et vice versa.\n",
    "\n",
    "- À l'inverse, les caractéristiques avec des coefficients positifs (comme 'ACT', 'sex', 'TERMS_OF_EMP', etc.) ont une relation positive avec la variable cible. Cela signifie qu'une augmentation de ces caractéristiques est associée à une augmentation de la variable cible, et vice versa.\n",
    "\n",
    "- Les caractéristiques avec des coefficients proches de zéro ont moins d'impact sur la variable cible.\n",
    "\n",
    "- La magnitude des coefficients peut être utilisée pour comparer l'importance relative des caractéristiques. Par exemple, 'ACT' a un coefficient relativement élevé, ce qui suggère qu'il a un impact plus important sur la variable cible par rapport aux autres caractéristiques."
   ]
  },
  {
   "cell_type": "markdown",
   "id": "d99280ff",
   "metadata": {},
   "source": [
    "#### Visualisations les prédictions du modèle"
   ]
  },
  {
   "cell_type": "code",
   "execution_count": 91,
   "id": "444d89e6",
   "metadata": {},
   "outputs": [
    {
     "data": {
      "image/png": "[encoded data removed]",
      "text/plain": [
       "<Figure size 640x480 with 1 Axes>"
      ]
     },
     "metadata": {},
     "output_type": "display_data"
    }
   ],
   "source": [
    "import matplotlib.pyplot as plt\n",
    "\n",
    "# Tracer les prédictions par rapport aux valeurs réelles\n",
    "plt.scatter(y_test, predictions_rdg)\n",
    "plt.xlabel(\"Valeurs réelles\")\n",
    "plt.ylabel(\"Prédictions\")\n",
    "plt.title(\"Prédictions vs Valeurs réelles\")\n",
    "plt.show()\n"
   ]
  },
  {
   "cell_type": "markdown",
   "id": "7fbd18ca",
   "metadata": {},
   "source": [
    "Nous observons une dispersion entre les valeurs réels de notre ensemmble d'entrainement et celles qui ont été prédicte via le modèle de rigde "
   ]
  },
  {
   "cell_type": "markdown",
   "id": "141bc537",
   "metadata": {},
   "source": [
    "#### Analyse des résidus"
   ]
  },
  {
   "cell_type": "code",
   "execution_count": 92,
   "id": "6197ffdc",
   "metadata": {},
   "outputs": [
    {
     "data": {
      "image/png": "[encoded data removed]",
      "text/plain": [
       "<Figure size 640x480 with 1 Axes>"
      ]
     },
     "metadata": {},
     "output_type": "display_data"
    }
   ],
   "source": [
    "#%% [hide]\n",
    "\n",
    "# Calculer les résidus\n",
    "residuals = y_test - predictions_rdg\n",
    "\n",
    "# Tracer les résidus\n",
    "plt.scatter(predictions_rdg, residuals)\n",
    "plt.xlabel(\"Prédictions\")\n",
    "plt.ylabel(\"Résidus\")\n",
    "plt.axhline(y=0, color='r', linestyle='-')\n",
    "plt.title(\"Résidus vs Prédictions\")\n",
    "plt.show()\n"
   ]
  },
  {
   "cell_type": "markdown",
   "id": "e3834b7b",
   "metadata": {},
   "source": [
    "### 6.3 Utiliser les meilleures valeurs d'hyperparamètres : KNeighborsRegressor\n",
    "####  GridSearchCV "
   ]
  },
  {
   "cell_type": "code",
   "execution_count": 93,
   "id": "7bc4f3bc",
   "metadata": {},
   "outputs": [],
   "source": [
    "# Effectuons une sélection de caractéristiques :\n",
    "\n",
    "from sklearn.feature_selection import SelectKBest, f_regression\n",
    "\n",
    "# Utiliser SelectKBest pour sélectionner les k meilleures caractéristiques\n",
    "selector = SelectKBest(score_func=f_regression, k=10)  # Choisissons le nombre de caractéristiques à conserver\n",
    "x_train_selected = selector.fit_transform(x_train, y_train)\n",
    "x_test_selected = selector.transform(x_test)\n"
   ]
  },
  {
   "cell_type": "code",
   "execution_count": 94,
   "id": "b1232448",
   "metadata": {},
   "outputs": [],
   "source": [
    "# Utilisons la validation croisée :\n",
    "\n",
    "from sklearn.model_selection import GridSearchCV\n",
    "\n",
    "# Utiliser GridSearchCV pour effectuer une recherche sur une grille de paramètres\n",
    "param_grid = {'n_neighbors': [5, 10, 15]}  # Spécifiez les hyperparamètres à rechercher\n",
    "grid_search = GridSearchCV(KNeighborsRegressor(), param_grid, cv=5)\n",
    "grid_search.fit(x_train, y_train)\n",
    "best_model = grid_search.best_estimator_\n"
   ]
  },
  {
   "cell_type": "code",
   "execution_count": 95,
   "id": "ee8ff601",
   "metadata": {},
   "outputs": [
    {
     "data": {
      "text/html": [
       "<style>#sk-container-id-8 {color: black;background-color: white;}#sk-container-id-8 pre{padding: 0;}#sk-container-id-8 div.sk-toggleable {background-color: white;}#sk-container-id-8 label.sk-toggleable__label {cursor: pointer;display: block;width: 100%;margin-bottom: 0;padding: 0.3em;box-sizing: border-box;text-align: center;}#sk-container-id-8 label.sk-toggleable__label-arrow:before {content: \"▸\";float: left;margin-right: 0.25em;color: #696969;}#sk-container-id-8 label.sk-toggleable__label-arrow:hover:before {color: black;}#sk-container-id-8 div.sk-estimator:hover label.sk-toggleable__label-arrow:before {color: black;}#sk-container-id-8 div.sk-toggleable__content {max-height: 0;max-width: 0;overflow: hidden;text-align: left;background-color: #f0f8ff;}#sk-container-id-8 div.sk-toggleable__content pre {margin: 0.2em;color: black;border-radius: 0.25em;background-color: #f0f8ff;}#sk-container-id-8 input.sk-toggleable__control:checked~div.sk-toggleable__content {max-height: 200px;max-width: 100%;overflow: auto;}#sk-container-id-8 input.sk-toggleable__control:checked~label.sk-toggleable__label-arrow:before {content: \"▾\";}#sk-container-id-8 div.sk-estimator input.sk-toggleable__control:checked~label.sk-toggleable__label {background-color: #d4ebff;}#sk-container-id-8 div.sk-label input.sk-toggleable__control:checked~label.sk-toggleable__label {background-color: #d4ebff;}#sk-container-id-8 input.sk-hidden--visually {border: 0;clip: rect(1px 1px 1px 1px);clip: rect(1px, 1px, 1px, 1px);height: 1px;margin: -1px;overflow: hidden;padding: 0;position: absolute;width: 1px;}#sk-container-id-8 div.sk-estimator {font-family: monospace;background-color: #f0f8ff;border: 1px dotted black;border-radius: 0.25em;box-sizing: border-box;margin-bottom: 0.5em;}#sk-container-id-8 div.sk-estimator:hover {background-color: #d4ebff;}#sk-container-id-8 div.sk-parallel-item::after {content: \"\";width: 100%;border-bottom: 1px solid gray;flex-grow: 1;}#sk-container-id-8 div.sk-label:hover label.sk-toggleable__label {background-color: #d4ebff;}#sk-container-id-8 div.sk-serial::before {content: \"\";position: absolute;border-left: 1px solid gray;box-sizing: border-box;top: 0;bottom: 0;left: 50%;z-index: 0;}#sk-container-id-8 div.sk-serial {display: flex;flex-direction: column;align-items: center;background-color: white;padding-right: 0.2em;padding-left: 0.2em;position: relative;}#sk-container-id-8 div.sk-item {position: relative;z-index: 1;}#sk-container-id-8 div.sk-parallel {display: flex;align-items: stretch;justify-content: center;background-color: white;position: relative;}#sk-container-id-8 div.sk-item::before, #sk-container-id-8 div.sk-parallel-item::before {content: \"\";position: absolute;border-left: 1px solid gray;box-sizing: border-box;top: 0;bottom: 0;left: 50%;z-index: -1;}#sk-container-id-8 div.sk-parallel-item {display: flex;flex-direction: column;z-index: 1;position: relative;background-color: white;}#sk-container-id-8 div.sk-parallel-item:first-child::after {align-self: flex-end;width: 50%;}#sk-container-id-8 div.sk-parallel-item:last-child::after {align-self: flex-start;width: 50%;}#sk-container-id-8 div.sk-parallel-item:only-child::after {width: 0;}#sk-container-id-8 div.sk-dashed-wrapped {border: 1px dashed gray;margin: 0 0.4em 0.5em 0.4em;box-sizing: border-box;padding-bottom: 0.4em;background-color: white;}#sk-container-id-8 div.sk-label label {font-family: monospace;font-weight: bold;display: inline-block;line-height: 1.2em;}#sk-container-id-8 div.sk-label-container {text-align: center;}#sk-container-id-8 div.sk-container {/* jupyter's `normalize.less` sets `[hidden] { display: none; }` but bootstrap.min.css set `[hidden] { display: none !important; }` so we also need the `!important` here to be able to override the default hidden behavior on the sphinx rendered scikit-learn.org. See: https://github.com/scikit-learn/scikit-learn/issues/21755 */display: inline-block !important;position: relative;}#sk-container-id-8 div.sk-text-repr-fallback {display: none;}</style><div id=\"sk-container-id-8\" class=\"sk-top-container\"><div class=\"sk-text-repr-fallback\"><pre>KNeighborsRegressor()</pre><b>In a Jupyter environment, please rerun this cell to show the HTML representation or trust the notebook. <br />On GitHub, the HTML representation is unable to render, please try loading this page with nbviewer.org.</b></div><div class=\"sk-container\" hidden><div class=\"sk-item\"><div class=\"sk-estimator sk-toggleable\"><input class=\"sk-toggleable__control sk-hidden--visually\" id=\"sk-estimator-id-10\" type=\"checkbox\" checked><label for=\"sk-estimator-id-10\" class=\"sk-toggleable__label sk-toggleable__label-arrow\">KNeighborsRegressor</label><div class=\"sk-toggleable__content\"><pre>KNeighborsRegressor()</pre></div></div></div></div></div>"
      ],
      "text/plain": [
       "KNeighborsRegressor()"
      ]
     },
     "execution_count": 95,
     "metadata": {},
     "output_type": "execute_result"
    }
   ],
   "source": [
    "best_model"
   ]
  },
  {
   "cell_type": "markdown",
   "id": "874a1aad",
   "metadata": {},
   "source": [
    "#### Évaluation du modèle : "
   ]
  },
  {
   "cell_type": "code",
   "execution_count": 96,
   "id": "2b1bf994",
   "metadata": {},
   "outputs": [
    {
     "name": "stdout",
     "output_type": "stream",
     "text": [
      "MSE: 12449.594857876906\n",
      "R2: 0.4034202300066212\n"
     ]
    }
   ],
   "source": [
    "# Faire des prédictions sur l'ensemble de test\n",
    "predictions_Knn = best_model.predict(x_test)\n",
    "\n",
    "# Évaluer les performances du modèle\n",
    "mse = mean_squared_error(y_test, predictions_Knn)\n",
    "r2 = r2_score(y_test, predictions_Knn)\n",
    "print(\"MSE:\", mse)\n",
    "print(\"R2:\", r2)\n"
   ]
  },
  {
   "cell_type": "markdown",
   "id": "fa1f8f66",
   "metadata": {},
   "source": [
    "# "
   ]
  },
  {
   "cell_type": "markdown",
   "id": "c7d1033f",
   "metadata": {},
   "source": [
    "# "
   ]
  },
  {
   "cell_type": "markdown",
   "id": "35c051a4",
   "metadata": {},
   "source": [
    "### 6.4 Gradient Boosting\n"
   ]
  },
  {
   "cell_type": "markdown",
   "id": "53a374ec",
   "metadata": {},
   "source": [
    "####  Recherche des meilleures valeurs d'hyperparamètres : GradientBoosting\n",
    "\n",
    "####  GridSearchCV "
   ]
  },
  {
   "cell_type": "code",
   "execution_count": 99,
   "id": "d039c15b",
   "metadata": {},
   "outputs": [],
   "source": [
    "from sklearn.model_selection import GridSearchCV\n",
    "from sklearn.ensemble import GradientBoostingRegressor\n",
    "\n",
    "# Définition du modèle\n",
    "model = GradientBoostingRegressor()\n",
    "\n",
    "# Définition de la grille des hyperparamètres à tester\n",
    "param_grid = {\n",
    "    'n_estimators': [50, 100, 200],\n",
    "    'learning_rate': [0.01, 0.1, 0.5],\n",
    "    'max_depth': [3, 5, 7]\n",
    "}"
   ]
  },
  {
   "cell_type": "code",
   "execution_count": 100,
   "id": "f1f5af18",
   "metadata": {},
   "outputs": [
    {
     "data": {
      "text/html": [
       "<style>#sk-container-id-9 {color: black;background-color: white;}#sk-container-id-9 pre{padding: 0;}#sk-container-id-9 div.sk-toggleable {background-color: white;}#sk-container-id-9 label.sk-toggleable__label {cursor: pointer;display: block;width: 100%;margin-bottom: 0;padding: 0.3em;box-sizing: border-box;text-align: center;}#sk-container-id-9 label.sk-toggleable__label-arrow:before {content: \"▸\";float: left;margin-right: 0.25em;color: #696969;}#sk-container-id-9 label.sk-toggleable__label-arrow:hover:before {color: black;}#sk-container-id-9 div.sk-estimator:hover label.sk-toggleable__label-arrow:before {color: black;}#sk-container-id-9 div.sk-toggleable__content {max-height: 0;max-width: 0;overflow: hidden;text-align: left;background-color: #f0f8ff;}#sk-container-id-9 div.sk-toggleable__content pre {margin: 0.2em;color: black;border-radius: 0.25em;background-color: #f0f8ff;}#sk-container-id-9 input.sk-toggleable__control:checked~div.sk-toggleable__content {max-height: 200px;max-width: 100%;overflow: auto;}#sk-container-id-9 input.sk-toggleable__control:checked~label.sk-toggleable__label-arrow:before {content: \"▾\";}#sk-container-id-9 div.sk-estimator input.sk-toggleable__control:checked~label.sk-toggleable__label {background-color: #d4ebff;}#sk-container-id-9 div.sk-label input.sk-toggleable__control:checked~label.sk-toggleable__label {background-color: #d4ebff;}#sk-container-id-9 input.sk-hidden--visually {border: 0;clip: rect(1px 1px 1px 1px);clip: rect(1px, 1px, 1px, 1px);height: 1px;margin: -1px;overflow: hidden;padding: 0;position: absolute;width: 1px;}#sk-container-id-9 div.sk-estimator {font-family: monospace;background-color: #f0f8ff;border: 1px dotted black;border-radius: 0.25em;box-sizing: border-box;margin-bottom: 0.5em;}#sk-container-id-9 div.sk-estimator:hover {background-color: #d4ebff;}#sk-container-id-9 div.sk-parallel-item::after {content: \"\";width: 100%;border-bottom: 1px solid gray;flex-grow: 1;}#sk-container-id-9 div.sk-label:hover label.sk-toggleable__label {background-color: #d4ebff;}#sk-container-id-9 div.sk-serial::before {content: \"\";position: absolute;border-left: 1px solid gray;box-sizing: border-box;top: 0;bottom: 0;left: 50%;z-index: 0;}#sk-container-id-9 div.sk-serial {display: flex;flex-direction: column;align-items: center;background-color: white;padding-right: 0.2em;padding-left: 0.2em;position: relative;}#sk-container-id-9 div.sk-item {position: relative;z-index: 1;}#sk-container-id-9 div.sk-parallel {display: flex;align-items: stretch;justify-content: center;background-color: white;position: relative;}#sk-container-id-9 div.sk-item::before, #sk-container-id-9 div.sk-parallel-item::before {content: \"\";position: absolute;border-left: 1px solid gray;box-sizing: border-box;top: 0;bottom: 0;left: 50%;z-index: -1;}#sk-container-id-9 div.sk-parallel-item {display: flex;flex-direction: column;z-index: 1;position: relative;background-color: white;}#sk-container-id-9 div.sk-parallel-item:first-child::after {align-self: flex-end;width: 50%;}#sk-container-id-9 div.sk-parallel-item:last-child::after {align-self: flex-start;width: 50%;}#sk-container-id-9 div.sk-parallel-item:only-child::after {width: 0;}#sk-container-id-9 div.sk-dashed-wrapped {border: 1px dashed gray;margin: 0 0.4em 0.5em 0.4em;box-sizing: border-box;padding-bottom: 0.4em;background-color: white;}#sk-container-id-9 div.sk-label label {font-family: monospace;font-weight: bold;display: inline-block;line-height: 1.2em;}#sk-container-id-9 div.sk-label-container {text-align: center;}#sk-container-id-9 div.sk-container {/* jupyter's `normalize.less` sets `[hidden] { display: none; }` but bootstrap.min.css set `[hidden] { display: none !important; }` so we also need the `!important` here to be able to override the default hidden behavior on the sphinx rendered scikit-learn.org. See: https://github.com/scikit-learn/scikit-learn/issues/21755 */display: inline-block !important;position: relative;}#sk-container-id-9 div.sk-text-repr-fallback {display: none;}</style><div id=\"sk-container-id-9\" class=\"sk-top-container\"><div class=\"sk-text-repr-fallback\"><pre>GridSearchCV(cv=5, estimator=GradientBoostingRegressor(),\n",
       "             param_grid={&#x27;learning_rate&#x27;: [0.01, 0.1, 0.5],\n",
       "                         &#x27;max_depth&#x27;: [3, 5, 7],\n",
       "                         &#x27;n_estimators&#x27;: [50, 100, 200]},\n",
       "             scoring=&#x27;neg_mean_squared_error&#x27;)</pre><b>In a Jupyter environment, please rerun this cell to show the HTML representation or trust the notebook. <br />On GitHub, the HTML representation is unable to render, please try loading this page with nbviewer.org.</b></div><div class=\"sk-container\" hidden><div class=\"sk-item sk-dashed-wrapped\"><div class=\"sk-label-container\"><div class=\"sk-label sk-toggleable\"><input class=\"sk-toggleable__control sk-hidden--visually\" id=\"sk-estimator-id-11\" type=\"checkbox\" ><label for=\"sk-estimator-id-11\" class=\"sk-toggleable__label sk-toggleable__label-arrow\">GridSearchCV</label><div class=\"sk-toggleable__content\"><pre>GridSearchCV(cv=5, estimator=GradientBoostingRegressor(),\n",
       "             param_grid={&#x27;learning_rate&#x27;: [0.01, 0.1, 0.5],\n",
       "                         &#x27;max_depth&#x27;: [3, 5, 7],\n",
       "                         &#x27;n_estimators&#x27;: [50, 100, 200]},\n",
       "             scoring=&#x27;neg_mean_squared_error&#x27;)</pre></div></div></div><div class=\"sk-parallel\"><div class=\"sk-parallel-item\"><div class=\"sk-item\"><div class=\"sk-label-container\"><div class=\"sk-label sk-toggleable\"><input class=\"sk-toggleable__control sk-hidden--visually\" id=\"sk-estimator-id-12\" type=\"checkbox\" ><label for=\"sk-estimator-id-12\" class=\"sk-toggleable__label sk-toggleable__label-arrow\">estimator: GradientBoostingRegressor</label><div class=\"sk-toggleable__content\"><pre>GradientBoostingRegressor()</pre></div></div></div><div class=\"sk-serial\"><div class=\"sk-item\"><div class=\"sk-estimator sk-toggleable\"><input class=\"sk-toggleable__control sk-hidden--visually\" id=\"sk-estimator-id-13\" type=\"checkbox\" ><label for=\"sk-estimator-id-13\" class=\"sk-toggleable__label sk-toggleable__label-arrow\">GradientBoostingRegressor</label><div class=\"sk-toggleable__content\"><pre>GradientBoostingRegressor()</pre></div></div></div></div></div></div></div></div></div></div>"
      ],
      "text/plain": [
       "GridSearchCV(cv=5, estimator=GradientBoostingRegressor(),\n",
       "             param_grid={'learning_rate': [0.01, 0.1, 0.5],\n",
       "                         'max_depth': [3, 5, 7],\n",
       "                         'n_estimators': [50, 100, 200]},\n",
       "             scoring='neg_mean_squared_error')"
      ]
     },
     "execution_count": 100,
     "metadata": {},
     "output_type": "execute_result"
    }
   ],
   "source": [
    "# Recherche des meilleurs hyperparamètres ((Attention ce code à pris trop de temps à tourner))\n",
    "grid_search = GridSearchCV(estimator=model, param_grid=param_grid, cv=5, scoring='neg_mean_squared_error')\n",
    "grid_search.fit(x_train, y_train)"
   ]
  },
  {
   "cell_type": "markdown",
   "id": "abbd3b14",
   "metadata": {},
   "source": [
    "# "
   ]
  },
  {
   "cell_type": "markdown",
   "id": "d456d6d5",
   "metadata": {},
   "source": [
    "# "
   ]
  },
  {
   "cell_type": "code",
   "execution_count": null,
   "id": "cda6d8d7",
   "metadata": {},
   "outputs": [],
   "source": []
  },
  {
   "cell_type": "code",
   "execution_count": 101,
   "id": "eff0b004",
   "metadata": {},
   "outputs": [
    {
     "data": {
      "text/plain": [
       "{'learning_rate': 0.5, 'max_depth': 5, 'n_estimators': 200}"
      ]
     },
     "execution_count": 101,
     "metadata": {},
     "output_type": "execute_result"
    }
   ],
   "source": [
    "best_params = grid_search.best_params_\n",
    "best_params"
   ]
  },
  {
   "cell_type": "code",
   "execution_count": 102,
   "id": "da956a9c",
   "metadata": {},
   "outputs": [
    {
     "data": {
      "text/html": [
       "<style>#sk-container-id-10 {color: black;background-color: white;}#sk-container-id-10 pre{padding: 0;}#sk-container-id-10 div.sk-toggleable {background-color: white;}#sk-container-id-10 label.sk-toggleable__label {cursor: pointer;display: block;width: 100%;margin-bottom: 0;padding: 0.3em;box-sizing: border-box;text-align: center;}#sk-container-id-10 label.sk-toggleable__label-arrow:before {content: \"▸\";float: left;margin-right: 0.25em;color: #696969;}#sk-container-id-10 label.sk-toggleable__label-arrow:hover:before {color: black;}#sk-container-id-10 div.sk-estimator:hover label.sk-toggleable__label-arrow:before {color: black;}#sk-container-id-10 div.sk-toggleable__content {max-height: 0;max-width: 0;overflow: hidden;text-align: left;background-color: #f0f8ff;}#sk-container-id-10 div.sk-toggleable__content pre {margin: 0.2em;color: black;border-radius: 0.25em;background-color: #f0f8ff;}#sk-container-id-10 input.sk-toggleable__control:checked~div.sk-toggleable__content {max-height: 200px;max-width: 100%;overflow: auto;}#sk-container-id-10 input.sk-toggleable__control:checked~label.sk-toggleable__label-arrow:before {content: \"▾\";}#sk-container-id-10 div.sk-estimator input.sk-toggleable__control:checked~label.sk-toggleable__label {background-color: #d4ebff;}#sk-container-id-10 div.sk-label input.sk-toggleable__control:checked~label.sk-toggleable__label {background-color: #d4ebff;}#sk-container-id-10 input.sk-hidden--visually {border: 0;clip: rect(1px 1px 1px 1px);clip: rect(1px, 1px, 1px, 1px);height: 1px;margin: -1px;overflow: hidden;padding: 0;position: absolute;width: 1px;}#sk-container-id-10 div.sk-estimator {font-family: monospace;background-color: #f0f8ff;border: 1px dotted black;border-radius: 0.25em;box-sizing: border-box;margin-bottom: 0.5em;}#sk-container-id-10 div.sk-estimator:hover {background-color: #d4ebff;}#sk-container-id-10 div.sk-parallel-item::after {content: \"\";width: 100%;border-bottom: 1px solid gray;flex-grow: 1;}#sk-container-id-10 div.sk-label:hover label.sk-toggleable__label {background-color: #d4ebff;}#sk-container-id-10 div.sk-serial::before {content: \"\";position: absolute;border-left: 1px solid gray;box-sizing: border-box;top: 0;bottom: 0;left: 50%;z-index: 0;}#sk-container-id-10 div.sk-serial {display: flex;flex-direction: column;align-items: center;background-color: white;padding-right: 0.2em;padding-left: 0.2em;position: relative;}#sk-container-id-10 div.sk-item {position: relative;z-index: 1;}#sk-container-id-10 div.sk-parallel {display: flex;align-items: stretch;justify-content: center;background-color: white;position: relative;}#sk-container-id-10 div.sk-item::before, #sk-container-id-10 div.sk-parallel-item::before {content: \"\";position: absolute;border-left: 1px solid gray;box-sizing: border-box;top: 0;bottom: 0;left: 50%;z-index: -1;}#sk-container-id-10 div.sk-parallel-item {display: flex;flex-direction: column;z-index: 1;position: relative;background-color: white;}#sk-container-id-10 div.sk-parallel-item:first-child::after {align-self: flex-end;width: 50%;}#sk-container-id-10 div.sk-parallel-item:last-child::after {align-self: flex-start;width: 50%;}#sk-container-id-10 div.sk-parallel-item:only-child::after {width: 0;}#sk-container-id-10 div.sk-dashed-wrapped {border: 1px dashed gray;margin: 0 0.4em 0.5em 0.4em;box-sizing: border-box;padding-bottom: 0.4em;background-color: white;}#sk-container-id-10 div.sk-label label {font-family: monospace;font-weight: bold;display: inline-block;line-height: 1.2em;}#sk-container-id-10 div.sk-label-container {text-align: center;}#sk-container-id-10 div.sk-container {/* jupyter's `normalize.less` sets `[hidden] { display: none; }` but bootstrap.min.css set `[hidden] { display: none !important; }` so we also need the `!important` here to be able to override the default hidden behavior on the sphinx rendered scikit-learn.org. See: https://github.com/scikit-learn/scikit-learn/issues/21755 */display: inline-block !important;position: relative;}#sk-container-id-10 div.sk-text-repr-fallback {display: none;}</style><div id=\"sk-container-id-10\" class=\"sk-top-container\"><div class=\"sk-text-repr-fallback\"><pre>GradientBoostingRegressor(learning_rate=0.5, max_depth=5, n_estimators=200)</pre><b>In a Jupyter environment, please rerun this cell to show the HTML representation or trust the notebook. <br />On GitHub, the HTML representation is unable to render, please try loading this page with nbviewer.org.</b></div><div class=\"sk-container\" hidden><div class=\"sk-item\"><div class=\"sk-estimator sk-toggleable\"><input class=\"sk-toggleable__control sk-hidden--visually\" id=\"sk-estimator-id-14\" type=\"checkbox\" checked><label for=\"sk-estimator-id-14\" class=\"sk-toggleable__label sk-toggleable__label-arrow\">GradientBoostingRegressor</label><div class=\"sk-toggleable__content\"><pre>GradientBoostingRegressor(learning_rate=0.5, max_depth=5, n_estimators=200)</pre></div></div></div></div></div>"
      ],
      "text/plain": [
       "GradientBoostingRegressor(learning_rate=0.5, max_depth=5, n_estimators=200)"
      ]
     },
     "execution_count": 102,
     "metadata": {},
     "output_type": "execute_result"
    }
   ],
   "source": [
    "best_model = grid_search.best_estimator_\n",
    "best_model"
   ]
  },
  {
   "cell_type": "code",
   "execution_count": 103,
   "id": "38de8c9c",
   "metadata": {},
   "outputs": [
    {
     "name": "stdout",
     "output_type": "stream",
     "text": [
      "Meilleurs hyperparamètres : {'learning_rate': 0.5, 'max_depth': 5, 'n_estimators': 200}\n",
      "Meilleur score de validation croisée : -1598.4756129892992\n"
     ]
    }
   ],
   "source": [
    "#  Afficher les meilleurs hyperparamètres et le meilleur score\n",
    "print(\"Meilleurs hyperparamètres :\", grid_search.best_params_)\n",
    "print(\"Meilleur score de validation croisée :\", grid_search.best_score_)"
   ]
  },
  {
   "cell_type": "markdown",
   "id": "3d34984f",
   "metadata": {},
   "source": [
    "#### Entrainons le modèle final :  sur toutes les données d'entrainement"
   ]
  },
  {
   "cell_type": "code",
   "execution_count": 105,
   "id": "ae92415d",
   "metadata": {},
   "outputs": [
    {
     "data": {
      "text/html": [
       "<style>#sk-container-id-11 {color: black;background-color: white;}#sk-container-id-11 pre{padding: 0;}#sk-container-id-11 div.sk-toggleable {background-color: white;}#sk-container-id-11 label.sk-toggleable__label {cursor: pointer;display: block;width: 100%;margin-bottom: 0;padding: 0.3em;box-sizing: border-box;text-align: center;}#sk-container-id-11 label.sk-toggleable__label-arrow:before {content: \"▸\";float: left;margin-right: 0.25em;color: #696969;}#sk-container-id-11 label.sk-toggleable__label-arrow:hover:before {color: black;}#sk-container-id-11 div.sk-estimator:hover label.sk-toggleable__label-arrow:before {color: black;}#sk-container-id-11 div.sk-toggleable__content {max-height: 0;max-width: 0;overflow: hidden;text-align: left;background-color: #f0f8ff;}#sk-container-id-11 div.sk-toggleable__content pre {margin: 0.2em;color: black;border-radius: 0.25em;background-color: #f0f8ff;}#sk-container-id-11 input.sk-toggleable__control:checked~div.sk-toggleable__content {max-height: 200px;max-width: 100%;overflow: auto;}#sk-container-id-11 input.sk-toggleable__control:checked~label.sk-toggleable__label-arrow:before {content: \"▾\";}#sk-container-id-11 div.sk-estimator input.sk-toggleable__control:checked~label.sk-toggleable__label {background-color: #d4ebff;}#sk-container-id-11 div.sk-label input.sk-toggleable__control:checked~label.sk-toggleable__label {background-color: #d4ebff;}#sk-container-id-11 input.sk-hidden--visually {border: 0;clip: rect(1px 1px 1px 1px);clip: rect(1px, 1px, 1px, 1px);height: 1px;margin: -1px;overflow: hidden;padding: 0;position: absolute;width: 1px;}#sk-container-id-11 div.sk-estimator {font-family: monospace;background-color: #f0f8ff;border: 1px dotted black;border-radius: 0.25em;box-sizing: border-box;margin-bottom: 0.5em;}#sk-container-id-11 div.sk-estimator:hover {background-color: #d4ebff;}#sk-container-id-11 div.sk-parallel-item::after {content: \"\";width: 100%;border-bottom: 1px solid gray;flex-grow: 1;}#sk-container-id-11 div.sk-label:hover label.sk-toggleable__label {background-color: #d4ebff;}#sk-container-id-11 div.sk-serial::before {content: \"\";position: absolute;border-left: 1px solid gray;box-sizing: border-box;top: 0;bottom: 0;left: 50%;z-index: 0;}#sk-container-id-11 div.sk-serial {display: flex;flex-direction: column;align-items: center;background-color: white;padding-right: 0.2em;padding-left: 0.2em;position: relative;}#sk-container-id-11 div.sk-item {position: relative;z-index: 1;}#sk-container-id-11 div.sk-parallel {display: flex;align-items: stretch;justify-content: center;background-color: white;position: relative;}#sk-container-id-11 div.sk-item::before, #sk-container-id-11 div.sk-parallel-item::before {content: \"\";position: absolute;border-left: 1px solid gray;box-sizing: border-box;top: 0;bottom: 0;left: 50%;z-index: -1;}#sk-container-id-11 div.sk-parallel-item {display: flex;flex-direction: column;z-index: 1;position: relative;background-color: white;}#sk-container-id-11 div.sk-parallel-item:first-child::after {align-self: flex-end;width: 50%;}#sk-container-id-11 div.sk-parallel-item:last-child::after {align-self: flex-start;width: 50%;}#sk-container-id-11 div.sk-parallel-item:only-child::after {width: 0;}#sk-container-id-11 div.sk-dashed-wrapped {border: 1px dashed gray;margin: 0 0.4em 0.5em 0.4em;box-sizing: border-box;padding-bottom: 0.4em;background-color: white;}#sk-container-id-11 div.sk-label label {font-family: monospace;font-weight: bold;display: inline-block;line-height: 1.2em;}#sk-container-id-11 div.sk-label-container {text-align: center;}#sk-container-id-11 div.sk-container {/* jupyter's `normalize.less` sets `[hidden] { display: none; }` but bootstrap.min.css set `[hidden] { display: none !important; }` so we also need the `!important` here to be able to override the default hidden behavior on the sphinx rendered scikit-learn.org. See: https://github.com/scikit-learn/scikit-learn/issues/21755 */display: inline-block !important;position: relative;}#sk-container-id-11 div.sk-text-repr-fallback {display: none;}</style><div id=\"sk-container-id-11\" class=\"sk-top-container\"><div class=\"sk-text-repr-fallback\"><pre>GradientBoostingRegressor(learning_rate=0.5, max_depth=5, n_estimators=200)</pre><b>In a Jupyter environment, please rerun this cell to show the HTML representation or trust the notebook. <br />On GitHub, the HTML representation is unable to render, please try loading this page with nbviewer.org.</b></div><div class=\"sk-container\" hidden><div class=\"sk-item\"><div class=\"sk-estimator sk-toggleable\"><input class=\"sk-toggleable__control sk-hidden--visually\" id=\"sk-estimator-id-15\" type=\"checkbox\" checked><label for=\"sk-estimator-id-15\" class=\"sk-toggleable__label sk-toggleable__label-arrow\">GradientBoostingRegressor</label><div class=\"sk-toggleable__content\"><pre>GradientBoostingRegressor(learning_rate=0.5, max_depth=5, n_estimators=200)</pre></div></div></div></div></div>"
      ],
      "text/plain": [
       "GradientBoostingRegressor(learning_rate=0.5, max_depth=5, n_estimators=200)"
      ]
     },
     "execution_count": 105,
     "metadata": {},
     "output_type": "execute_result"
    }
   ],
   "source": [
    "# Utilisez les meilleurs paramètres trouvés pour GradientBoostingRegressor \n",
    "best_params_gb = {'n_estimators': 200, 'learning_rate': 0.5, 'max_depth': 5} \n",
    "\n",
    "# Initialisez le modèle GradientBoostingRegressor avec les meilleurs paramètres\n",
    "final_model = GradientBoostingRegressor(**best_params_gb)\n",
    "\n",
    "\n",
    "# Entraînez le modèle final\n",
    "final_model.fit(x_train, y_train)\n"
   ]
  },
  {
   "cell_type": "markdown",
   "id": "7c6f2ccc",
   "metadata": {},
   "source": [
    "#### Interprétation des résultats :\n",
    "\n",
    "**Learning_rate**: 0.5 : indique  la vitesse à laquelle le modèle d'apprentissage s'ajuste aux erreurs. Une valeur plus élevée signifie un ajustement plus rapide, mais cela peut rendre le modèle instable.\n",
    "\n",
    "**Max_depth**: 5 : indique la profondeur maximale de chaque arbre de décision dans l'algorithme de boosting. Une valeur plus élevée permet au modèle de capturer des relations plus complexes dans les données, mais cela peut entraîner un surapprentissage.\n",
    "\n",
    "**N_estimators**: 200 : C'est le nombre d'estimateurs (ou arbres) dans l'algorithme de boosting. Une valeur plus élevée peut améliorer les performances du modèle, mais cela nécessite également plus de temps de calcul.\n",
    "Ces valeurs sont celles qui ont donné la meilleure performance sur l'ensemble d'entraînement pendant la recherche des hyperparamètres. \n",
    "\n",
    "Nous utiliserons ces valeurs pour entraîner notre modèle final afin d'obtenir de meilleures performances sur de nouveaux ensembles de données."
   ]
  },
  {
   "cell_type": "markdown",
   "id": "707214d8",
   "metadata": {},
   "source": [
    "#### Évaluation du modèle : "
   ]
  },
  {
   "cell_type": "code",
   "execution_count": 106,
   "id": "5ef1ba15",
   "metadata": {},
   "outputs": [
    {
     "name": "stdout",
     "output_type": "stream",
     "text": [
      "MSE: 1547.4058916382537\n",
      "R2: 0.9258489082208272\n"
     ]
    }
   ],
   "source": [
    "# Faire des prédictions sur l'ensemble de test\n",
    "predictions_GB = final_model.predict(x_test)\n",
    "\n",
    "# Évaluer les performances du modèle\n",
    "mse = mean_squared_error(y_test, predictions_GB)\n",
    "r2 = r2_score(y_test, predictions_GB)\n",
    "print(\"MSE:\", mse)\n",
    "print(\"R2:\", r2)\n"
   ]
  },
  {
   "cell_type": "markdown",
   "id": "cff64c4e",
   "metadata": {},
   "source": [
    "#### __Interpretation des résultats__\n",
    "\n",
    "Notre nouveau **MSE** est de **1547.40** (est assez basse) , ce qui suggère que le modèle a une bonne capacité à prédire les valeurs cibles sur l'ensemble de test.\n",
    "\n",
    "Notre coefficient de détermination **R^2** est de **92 %** ce qui indique que le modèle a une bonne capacité à capturer la relation entre les variables d'entrée et la variable cible\n",
    "\n",
    "En somme, les résultats indiquent que le modèle avec les meilleurs hyperparamètres identifiés a une très bonne performance de prédiction sur l'ensemble de test, avec une faible erreur moyenne et une grande capacité à expliquer la variance des données. Cela suggère que le modèle est bien généralisé et peut être utilisé avec confiance pour faire des prédictions sur de nouvelles données."
   ]
  },
  {
   "cell_type": "code",
   "execution_count": null,
   "id": "3699e68c",
   "metadata": {},
   "outputs": [],
   "source": []
  },
  {
   "cell_type": "code",
   "execution_count": 107,
   "id": "30dab28e",
   "metadata": {},
   "outputs": [
    {
     "data": {
      "image/png": "[encoded data removed]",
      "text/plain": [
       "<Figure size 640x480 with 1 Axes>"
      ]
     },
     "metadata": {},
     "output_type": "display_data"
    }
   ],
   "source": [
    "# Visualisation des prédictions par rapport aux valeurs réelles\n",
    "plt.scatter(y_test, predictions_GB)\n",
    "plt.xlabel(\"Valeurs réelles\")\n",
    "plt.ylabel(\"Prédictions\")\n",
    "plt.title(\"Comparaison des valeurs réelles et des prédictions\")\n",
    "plt.show()"
   ]
  },
  {
   "cell_type": "markdown",
   "id": "b6d96993",
   "metadata": {},
   "source": [
    "#### Application de la cross validation"
   ]
  },
  {
   "cell_type": "code",
   "execution_count": 108,
   "id": "81f57791",
   "metadata": {},
   "outputs": [],
   "source": [
    "# Appliquer la validation croisée avec 5 plis ( Note pour moi même : ce code prend énormement de temps à charger)\n",
    "scores = cross_val_score(final_model, x, y, cv=5)"
   ]
  },
  {
   "cell_type": "code",
   "execution_count": 109,
   "id": "6db0e5f2",
   "metadata": {},
   "outputs": [
    {
     "name": "stdout",
     "output_type": "stream",
     "text": [
      "Scores de validation croisée : [0.20560329 0.64464225 0.65098398 0.80114312 0.72968087]\n"
     ]
    }
   ],
   "source": [
    "# Afficher les scores de validation croisée\n",
    "print(\"Scores de validation croisée :\", scores)"
   ]
  },
  {
   "cell_type": "code",
   "execution_count": 110,
   "id": "79f3d643",
   "metadata": {},
   "outputs": [
    {
     "name": "stdout",
     "output_type": "stream",
     "text": [
      "Précision moyenne : 0.6064107019636509\n"
     ]
    }
   ],
   "source": [
    "# Afficher la précision moyenne\n",
    "print(\"Précision moyenne :\", scores.mean())"
   ]
  },
  {
   "cell_type": "markdown",
   "id": "e163487e",
   "metadata": {},
   "source": [
    "Les résultats obtenus indiquent que le modèle a obtenu des performances variables sur les différents plis de validation croisée, mais dans l'ensemble, il semble avoir une précision moyenne de 0.60, ce qui suggère une performance **raisonnablement bonne**"
   ]
  },
  {
   "cell_type": "markdown",
   "id": "0509aba3",
   "metadata": {},
   "source": [
    "#### Analyse des Coefficients"
   ]
  },
  {
   "cell_type": "code",
   "execution_count": 111,
   "id": "4c702930",
   "metadata": {},
   "outputs": [
    {
     "name": "stdout",
     "output_type": "stream",
     "text": [
      "Uid : 0.18315552189943118\n",
      "Familty_type : 0.0588153123816373\n",
      "Highest_diploma : 0.04926268641958457\n",
      "Job_42 : 0.3619709034494909\n",
      "ACT : 0.039652237066869676\n",
      "sex : 0.006308048672529434\n",
      "Studying : 0.007422143766916117\n",
      "age_2020 : 0.06648905458426867\n",
      "WORK_CONDITION : 0.0034816669653254025\n",
      "TERMS_OF_EMP : 0.010275855443199953\n",
      "working_hours : 0.005439682782568466\n",
      "Eco_sect : 0.017114104291208306\n",
      "Employer_category : 0.006468710362505667\n",
      "job_category : 0.00046522162964173646\n",
      "Job_desc : 0.1441879451558364\n",
      "EMOLUMENT : 0.01165589746251812\n",
      "employee_count : 0.005576248079980033\n",
      "emp : 0.011141543908703198\n",
      "CLUB : 0.011117215677784847\n"
     ]
    }
   ],
   "source": [
    "# Afficher l'importance des caractéristiques\n",
    "feature_importances = final_model.feature_importances_\n",
    "feature_names = x.columns\n",
    "for feature, importance in zip(feature_names, feature_importances):\n",
    "    print(feature, \":\", importance)\n"
   ]
  },
  {
   "cell_type": "markdown",
   "id": "ffb7b74f",
   "metadata": {},
   "source": [
    "#### Interpretation des résultats\n",
    "Nos coefficients sont tous positifs dans ce modèle. (cf interpretation précédente)."
   ]
  },
  {
   "cell_type": "code",
   "execution_count": 112,
   "id": "dfcd921f",
   "metadata": {},
   "outputs": [
    {
     "name": "stderr",
     "output_type": "stream",
     "text": [
      "/Users/tachalola/opt/anaconda3/lib/python3.9/site-packages/sklearn/utils/__init__.py:17: UserWarning: A NumPy version >=1.22.4 and <2.3.0 is required for this version of SciPy (detected version 1.21.5)\n",
      "  from scipy.sparse import issparse\n",
      "/Users/tachalola/opt/anaconda3/lib/python3.9/site-packages/sklearn/utils/__init__.py:17: UserWarning: A NumPy version >=1.22.4 and <2.3.0 is required for this version of SciPy (detected version 1.21.5)\n",
      "  from scipy.sparse import issparse\n"
     ]
    },
    {
     "data": {
      "image/png": "[encoded data removed]",
      "text/plain": [
       "<Figure size 1200x600 with 2 Axes>"
      ]
     },
     "metadata": {},
     "output_type": "display_data"
    }
   ],
   "source": [
    "from sklearn.inspection import permutation_importance\n",
    "\n",
    "# Votre code précédent ici\n",
    "\n",
    "feature_importance = final_model.feature_importances_\n",
    "sorted_idx = np.argsort(feature_importance)\n",
    "pos = np.arange(sorted_idx.shape[0]) + 0.5\n",
    "fig = plt.figure(figsize=(12, 6))\n",
    "plt.subplot(1, 2, 1)\n",
    "plt.barh(pos, feature_importance[sorted_idx], align=\"center\")\n",
    "plt.yticks(pos, np.array(Learn_encoded_num.columns)[sorted_idx])  # Remplacez cette ligne\n",
    "plt.title(\"Feature Importance (MDI)\")\n",
    "\n",
    "result = permutation_importance(\n",
    "    final_model, x_test, y_test, n_repeats=10, random_state=42, n_jobs=2  # Correction ici\n",
    ")\n",
    "sorted_idx = result.importances_mean.argsort()\n",
    "plt.subplot(1, 2, 2)\n",
    "plt.boxplot(\n",
    "    result.importances[sorted_idx].T,\n",
    "    vert=False,\n",
    "    labels=np.array(Learn_encoded_num.columns)[sorted_idx],  # Et cette ligne\n",
    ")\n",
    "plt.title(\"Permutation Importance (test set)\")\n",
    "fig.tight_layout()\n",
    "plt.show()\n"
   ]
  },
  {
   "cell_type": "markdown",
   "id": "c50dd199",
   "metadata": {},
   "source": [
    "#### Interpretation : \n",
    "Les barres les plus longues (caractéristiques de l'emploi, leur age, le type de famille ) correspondent aux variables les plus importantes pour la prédiction du modèle.\n",
    "\n",
    "ces dernières assez éloignés de l'origine sont considérées comme plus importantes car leur permutation aléatoire entraîne une plus grande baisse de performance du modèle. Ces points indiquent la sensibilité du modèle aux changements dans ces caractéristiques."
   ]
  },
  {
   "cell_type": "markdown",
   "id": "81b8f3ea",
   "metadata": {},
   "source": [
    "# "
   ]
  },
  {
   "cell_type": "markdown",
   "id": "7e7a8465",
   "metadata": {},
   "source": [
    "## 7. Prédiction avec le modèle final sur l'ensemble de Test  <a id=\"section-7\"></a>\n"
   ]
  },
  {
   "cell_type": "code",
   "execution_count": 113,
   "id": "6cc28479",
   "metadata": {},
   "outputs": [],
   "source": [
    "Y_pred_final = final_model.predict(X_test)"
   ]
  },
  {
   "cell_type": "code",
   "execution_count": 129,
   "id": "e1d37d7f",
   "metadata": {},
   "outputs": [],
   "source": [
    "Uid = Test_encoded_nums[\"Uid\"]\n",
    "Uid_test = x_test[\"Uid\"]"
   ]
  },
  {
   "cell_type": "markdown",
   "id": "f441e8da",
   "metadata": {},
   "source": [
    "### 7.1 Exportons les prédictions dans un fichier Csv"
   ]
  },
  {
   "cell_type": "code",
   "execution_count": 131,
   "id": "6ae2f079",
   "metadata": {},
   "outputs": [
    {
     "name": "stdout",
     "output_type": "stream",
     "text": [
      "Indexes dupliqués : Int64Index([], dtype='int64')\n"
     ]
    }
   ],
   "source": [
    "predictions_merge = pd.DataFrame({'Uid' : Uid_test,'Linear Regression': predictions_linear, 'Random Forest': predictions_rf, 'K-Nearest Neighbors': predictions_knn, 'Support Vector Machine': predictions_svm, 'KNeighborsRegressor': predictions_Knn, 'Ridge': prediction_ridge, 'model_poly': prediction_poly,  'GradientBoostingRegressor': predictions_GB, 'Valeurs réelles': y_test})\n",
    "duplicated_indexes = predictions_merge.index[predictions_merge.index.duplicated()]\n",
    "print(\"Indexes dupliqués :\", duplicated_indexes)"
   ]
  },
  {
   "cell_type": "code",
   "execution_count": 132,
   "id": "47371ff8",
   "metadata": {},
   "outputs": [],
   "source": [
    "predictions_merge.to_csv('predictions_merge.csv', index=False)"
   ]
  },
  {
   "cell_type": "code",
   "execution_count": 133,
   "id": "84d33903",
   "metadata": {},
   "outputs": [],
   "source": [
    "Prediction = pd.DataFrame({\"Uid\" : Uid, \"Target\": Y_pred_final})\n",
    "Prediction.to_csv(\"Prediction.csv\", index=False)"
   ]
  },
  {
   "cell_type": "code",
   "execution_count": null,
   "id": "73019153",
   "metadata": {},
   "outputs": [],
   "source": []
  }
 ],
 "metadata": {
  "kernelspec": {
   "display_name": "Python 3 (ipykernel)",
   "language": "python",
   "name": "python3"
  },
  "language_info": {
   "codemirror_mode": {
    "name": "ipython",
    "version": 3
   },
   "file_extension": ".py",
   "mimetype": "text/x-python",
   "name": "python",
   "nbconvert_exporter": "python",
   "pygments_lexer": "ipython3",
   "version": "3.9.12"
  }
 },
 "nbformat": 4,
 "nbformat_minor": 5
}
